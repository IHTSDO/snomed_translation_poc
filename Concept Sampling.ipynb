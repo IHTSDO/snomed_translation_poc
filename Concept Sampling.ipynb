{
 "cells": [
  {
   "cell_type": "markdown",
   "id": "d63c2bfa-df1f-4cdd-af56-281faf5d306b",
   "metadata": {},
   "source": [
    "# Overview\n",
    "\n",
    "Prepare a subset of concepts for the translation PoC.\n",
    "\n",
    "1. Load refsets for four languages: Korean, Dutch, Swedish and Estonian.\n",
    "2. Calculate some stratification variables which we think will be important to translation: context tier, similarity tier, depth tier, length bucket.  These will be used to define \"cells\" of similar concepts.\n",
    "3. Output a pivot table which we can use to browse the translated concepts in each extension.\n",
    "4. Sample 25 (or as many as exist) concepts from each cell for the translation exercise."
   ]
  },
  {
   "cell_type": "markdown",
   "id": "1bd71ed9-5a3a-4a13-932f-158717dfc3fd",
   "metadata": {},
   "source": [
    "# 1. Preparation"
   ]
  },
  {
   "cell_type": "code",
   "execution_count": 1,
   "id": "eafa63bf-55d7-4b01-a6c6-c14a852f9607",
   "metadata": {
    "scrolled": true
   },
   "outputs": [],
   "source": [
    "import pandas as pd\n",
    "from functools import reduce\n",
    "from sklearn.feature_extraction.text import CountVectorizer\n",
    "import numpy as np\n",
    "from more_itertools import chunked\n",
    "from scipy.sparse import lil_array\n",
    "\n",
    "from snomed_graph.snomed_graph import *"
   ]
  },
  {
   "cell_type": "code",
   "execution_count": 5,
   "id": "b3aadc64-a952-4a91-bbbe-87cfbcc4be71",
   "metadata": {},
   "outputs": [],
   "source": [
    "########\n",
    "# Inputs\n",
    "########\n",
    "\n",
    "# National Extensions\n",
    "KOREAN_REFSET_PATH = \"./data/snomed_extensions/snomed-MAIN_SNOMEDCT-KR-20240611/SnomedCT_Export/Delta/Refset/Language/der2_cRefset_Language21000267104Delta_KR_20240611.txt\"\n",
    "KOREAN_DESCRIPTION_PATH = \"./data/snomed_extensions/snomed-MAIN_SNOMEDCT-KR-20240611/SnomedCT_Export/Delta/Terminology/sct2_Description_Delta_KR_20240611.txt\"\n",
    "SWEDISH_REFSET_PATH = \"./data/snomed_extensions/SnomedCT_ManagedServiceSE_PRODUCTION_SE1000052_20240531T120000Z/Snapshot/Refset/Language/der2_cRefset_LanguageSnapshot-sv_SE1000052_20240531.txt\"\n",
    "SWEDISH_DESCRIPTION_PATH = \"./data/snomed_extensions/SnomedCT_ManagedServiceSE_PRODUCTION_SE1000052_20240531T120000Z/Snapshot/Terminology/sct2_Description_Snapshot-sv_SE1000052_20240531.txt\"\n",
    "DUTCH_REFSET_PATH = \"./data/snomed_extensions/SnomedCT_ManagedServiceNL_PRODUCTION_NL1000146_20240331T120000Z/Snapshot/Refset/Language/der2_cRefset_LanguageSnapshot-nl_NL1000146_20240331.txt\"\n",
    "DUTCH_DESCRIPTION_PATH = \"./data/snomed_extensions/SnomedCT_ManagedServiceNL_PRODUCTION_NL1000146_20240331T120000Z/Snapshot/Terminology/sct2_Description_Snapshot-nl_NL1000146_20240331.txt\"\n",
    "ESTONIAN_REFSET_PATH = \"./data/snomed_extensions/SnomedCT_ManagedServiceEE_PRODUCTION_EE1000181_20240530T120000Z/Snapshot/Refset/Language/der2_cRefset_LanguageSnapshot-et_EE1000181_20240530.txt\"    \n",
    "ESTONIAN_DESCRIPTION_PATH = \"./data/snomed_extensions/SnomedCT_ManagedServiceEE_PRODUCTION_EE1000181_20240530T120000Z/Snapshot/Terminology/sct2_Description_Snapshot-et_EE1000181_20240530.txt\"\n",
    "\n",
    "# Serialized graph containing international edition\n",
    "# Create this using snomed_graph/.\n",
    "# See: https://github.com/VerataiLtd/snomed_graph\n",
    "SNOMED_GRAPH_PATH = \"./data/snomed_graph/full_concept_graph.gml\"\n",
    "\n",
    "#########\n",
    "# Outputs\n",
    "#########\n",
    "\n",
    "# Where we store a pivot table of summarised results\n",
    "SUMMARY_PATH = \"data/pivot_table/available_translated_concepts_summary.csv\"\n",
    "\n",
    "# Single file containing all concepts and their available translations\n",
    "ALL_TRANSLATIONS_PATH = \"./data/prepared_translation_data/all_translations.csv\"\n",
    "\n",
    "# Sample of concepts to translate\n",
    "SAMPLE_PATH = \"./data/prepared_translation_data/samples.csv\""
   ]
  },
  {
   "cell_type": "code",
   "execution_count": null,
   "id": "a9e50fb3-82a2-43d0-b609-7a746cee9cae",
   "metadata": {},
   "outputs": [],
   "source": [
    "# We'll pull concepts to translate from the following hierarchies.\n",
    "\n",
    "hierarchies_to_sample = [\n",
    "    \"substance\",\n",
    "    \"body structure\",\n",
    "    \"finding\",\n",
    "    \"disorder\",\n",
    "    \"procedure\",\n",
    "    \"morphologic abnormality\"\n",
    "]"
   ]
  },
  {
   "cell_type": "code",
   "execution_count": 6,
   "id": "d11e8fa5-ba0e-4a54-b3af-7921bd26cb6e",
   "metadata": {},
   "outputs": [],
   "source": [
    "# We use the following list of attributes to build contextual \"hints\" for the generative translation model.\n",
    "\n",
    "important_attributes = {\n",
    "    # 'Access (attribute)',\n",
    "    # 'After (attribute)',\n",
    "    'Associated finding (attribute)',\n",
    "    'Associated morphology (attribute)',\n",
    "    'Associated procedure (attribute)',\n",
    "    'Associated with (attribute)',\n",
    "    'Before (attribute)',\n",
    "    'Causative agent (attribute)',\n",
    "    'Characterizes (attribute)',\n",
    "    # 'Clinical course (attribute)',\n",
    "    'Component (attribute)',\n",
    "    'Direct device (attribute)',\n",
    "    'Direct morphology (attribute)',\n",
    "    'Direct site (attribute)',\n",
    "    'Direct substance (attribute)',\n",
    "    'Due to (attribute)',\n",
    "    'During (attribute)',\n",
    "    # 'Finding context (attribute)',\n",
    "    'Finding informer (attribute)',\n",
    "    'Finding method (attribute)',\n",
    "    'Finding site (attribute)',\n",
    "    'Has absorbability (attribute)',\n",
    "    'Has active ingredient (attribute)',\n",
    "    'Has basic dose form (attribute)',\n",
    "    'Has basis of strength substance (attribute)',\n",
    "    'Has coating material (attribute)',\n",
    "    'Has compositional material (attribute)',\n",
    "    'Has concentration strength denominator unit (attribute)',\n",
    "    'Has concentration strength numerator unit (attribute)',\n",
    "    'Has device intended site (attribute)',\n",
    "    'Has disposition (attribute)',\n",
    "    'Has dose form administration method (attribute)',\n",
    "    'Has dose form intended site (attribute)',\n",
    "    'Has dose form release characteristic (attribute)',\n",
    "    'Has dose form transformation (attribute)',\n",
    "    'Has filling (attribute)',\n",
    "    'Has focus (attribute)',\n",
    "    'Has ingredient qualitative strength (attribute)',\n",
    "    'Has intent (attribute)',\n",
    "    # 'Has interpretation (attribute)',\n",
    "    'Has manufactured dose form (attribute)',\n",
    "    'Has precise active ingredient (attribute)',\n",
    "    'Has presentation strength denominator unit (attribute)',\n",
    "    'Has presentation strength numerator unit (attribute)',\n",
    "    'Has realization (attribute)',\n",
    "    'Has specimen (attribute)',\n",
    "    'Has state of matter (attribute)',\n",
    "    'Has surface texture (attribute)',\n",
    "    'Has target population (attribute)',\n",
    "    'Has unit of presentation (attribute)',\n",
    "    'Indirect device (attribute)',\n",
    "    'Indirect morphology (attribute)',\n",
    "    'Inherent location (attribute)',\n",
    "    'Inheres in (attribute)',\n",
    "    'Interprets (attribute)',\n",
    "    # 'Is a (attribute)',\n",
    "    'Is modification of (attribute)',\n",
    "    'Is sterile (attribute)',\n",
    "    'Laterality (attribute)',\n",
    "    'Measurement method (attribute)',\n",
    "    'Method (attribute)',\n",
    "    'Occurrence (attribute)',\n",
    "    'Pathological process (attribute)',\n",
    "    'Plays role (attribute)',\n",
    "    'Precondition (attribute)',\n",
    "    'Priority (attribute)',\n",
    "    'Procedure context (attribute)',\n",
    "    'Procedure device (attribute)',\n",
    "    'Procedure morphology (attribute)',\n",
    "    'Procedure site (attribute)',\n",
    "    'Procedure site - Direct (attribute)',\n",
    "    'Procedure site - Indirect (attribute)',\n",
    "    'Process acts on (attribute)',\n",
    "    'Process duration (attribute)',\n",
    "    'Process extends to (attribute)',\n",
    "    'Process output (attribute)',\n",
    "    'Property (attribute)',\n",
    "    'Recipient category (attribute)',\n",
    "    'Relative to (attribute)',\n",
    "    'Relative to part of (attribute)',\n",
    "    'Revision status (attribute)',\n",
    "    'Route of administration (attribute)',\n",
    "    # 'Scale type (attribute)',\n",
    "    # 'Severity (attribute)',\n",
    "    'Specimen procedure (attribute)',\n",
    "    'Specimen source identity (attribute)',\n",
    "    'Specimen source morphology (attribute)',\n",
    "    'Specimen source topography (attribute)',\n",
    "    'Specimen substance (attribute)',\n",
    "    # 'Subject relationship context (attribute)',\n",
    "    'Surgical approach (attribute)',\n",
    "    'Technique (attribute)',\n",
    "    # 'Temporal context (attribute)',\n",
    "    # 'Temporally related to (attribute)',\n",
    "    # 'Time aspect (attribute)',\n",
    "    # 'Units (attribute)',\n",
    "    'Using access device (attribute)',\n",
    "    'Using device (attribute)',\n",
    "    'Using energy (attribute)',\n",
    "    'Using substance (attribute)'\n",
    "}\n"
   ]
  },
  {
   "cell_type": "markdown",
   "id": "14be34a3-d614-4f97-b110-10866acc0ba8",
   "metadata": {},
   "source": [
    "# 2. Load data"
   ]
  },
  {
   "cell_type": "code",
   "execution_count": 7,
   "id": "cf46808e-1b5a-4c43-abc2-7d48dd33353e",
   "metadata": {},
   "outputs": [
    {
     "name": "stdout",
     "output_type": "stream",
     "text": [
      "SNOMED graph has 361179 vertices and 1179749 edges\n"
     ]
    }
   ],
   "source": [
    "G = SnomedGraph.from_serialized(SNOMED_GRAPH_PATH)"
   ]
  },
  {
   "cell_type": "code",
   "execution_count": 8,
   "id": "41a067f4-1d18-45c6-a00a-52c3cc21eb50",
   "metadata": {},
   "outputs": [],
   "source": [
    "def load_translation(G, desc_path, lang_path):\n",
    "    # Load the concept descriptions\n",
    "    desc_df = pd.read_csv(desc_path, delimiter=\"\\t\", encoding='utf-8')\n",
    "    # Load the language refset\n",
    "    lang_df = pd.read_csv(lang_path, delimiter=\"\\t\", encoding='utf-8')\n",
    "    # Filter the refset to Preferred Terms only\n",
    "    lang_df = lang_df[lang_df.acceptabilityId == 900000000000548007]\n",
    "    # IDs of all descriptors which are preferred terms\n",
    "    preferred_term_descriptor_ids = lang_df.referencedComponentId.unique()\n",
    "    # Filter descriptions to active concepts only\n",
    "    desc_df = desc_df[desc_df.active == 1]\n",
    "    # Filter to preferred terms\n",
    "    desc_df = desc_df[desc_df.id.isin(preferred_term_descriptor_ids)]\n",
    "    # Remove FSNs\n",
    "    desc_df = desc_df[desc_df.typeId != 900000000000003001]\n",
    "    # Some extensions include English terms.  We don't want these.\n",
    "    desc_df = desc_df[desc_df.languageCode != \"en\"]\n",
    "    # Remove concepts that don't exist in the International Edition\n",
    "    desc_df = desc_df[[sctid in G for sctid in desc_df.conceptId]]\n",
    "    desc_df = desc_df.rename(axis=\"columns\", mapper={\"conceptId\": \"sctid\"})\n",
    "    # One row per concept, with the synonyms aggregated into a list\n",
    "    desc_df = desc_df.groupby(\"sctid\").term.apply(list).rename(\"translations\").to_frame()\n",
    "    return desc_df"
   ]
  },
  {
   "cell_type": "code",
   "execution_count": 9,
   "id": "a0e894b9-32b4-4b47-8082-bad13d132d5e",
   "metadata": {},
   "outputs": [
    {
     "name": "stdout",
     "output_type": "stream",
     "text": [
      "16684\n"
     ]
    },
    {
     "data": {
      "text/html": [
       "<div>\n",
       "<style scoped>\n",
       "    .dataframe tbody tr th:only-of-type {\n",
       "        vertical-align: middle;\n",
       "    }\n",
       "\n",
       "    .dataframe tbody tr th {\n",
       "        vertical-align: top;\n",
       "    }\n",
       "\n",
       "    .dataframe thead th {\n",
       "        text-align: right;\n",
       "    }\n",
       "</style>\n",
       "<table border=\"1\" class=\"dataframe\">\n",
       "  <thead>\n",
       "    <tr style=\"text-align: right;\">\n",
       "      <th></th>\n",
       "      <th>translations</th>\n",
       "    </tr>\n",
       "    <tr>\n",
       "      <th>sctid</th>\n",
       "      <th></th>\n",
       "    </tr>\n",
       "  </thead>\n",
       "  <tbody>\n",
       "    <tr>\n",
       "      <th>77126004</th>\n",
       "      <td>[Karunkul]</td>\n",
       "    </tr>\n",
       "    <tr>\n",
       "      <th>39877005</th>\n",
       "      <td>[Salmonella Lexington]</td>\n",
       "    </tr>\n",
       "    <tr>\n",
       "      <th>3381000181101</th>\n",
       "      <td>[Suurenenud geeniprodukti funktsioon]</td>\n",
       "    </tr>\n",
       "  </tbody>\n",
       "</table>\n",
       "</div>"
      ],
      "text/plain": [
       "                                        translations\n",
       "sctid                                               \n",
       "77126004                                  [Karunkul]\n",
       "39877005                      [Salmonella Lexington]\n",
       "3381000181101  [Suurenenud geeniprodukti funktsioon]"
      ]
     },
     "execution_count": 9,
     "metadata": {},
     "output_type": "execute_result"
    }
   ],
   "source": [
    "ee_df = load_translation(G, ESTONIAN_DESCRIPTION_PATH, ESTONIAN_REFSET_PATH)\n",
    "print(ee_df.shape[0])\n",
    "ee_df.sample(3)"
   ]
  },
  {
   "cell_type": "code",
   "execution_count": 10,
   "id": "d60bfc6e-ee54-452b-acfb-23218a8ef8bf",
   "metadata": {},
   "outputs": [
    {
     "name": "stdout",
     "output_type": "stream",
     "text": [
      "264396\n"
     ]
    },
    {
     "data": {
      "text/html": [
       "<div>\n",
       "<style scoped>\n",
       "    .dataframe tbody tr th:only-of-type {\n",
       "        vertical-align: middle;\n",
       "    }\n",
       "\n",
       "    .dataframe tbody tr th {\n",
       "        vertical-align: top;\n",
       "    }\n",
       "\n",
       "    .dataframe thead th {\n",
       "        text-align: right;\n",
       "    }\n",
       "</style>\n",
       "<table border=\"1\" class=\"dataframe\">\n",
       "  <thead>\n",
       "    <tr style=\"text-align: right;\">\n",
       "      <th></th>\n",
       "      <th>translations</th>\n",
       "    </tr>\n",
       "    <tr>\n",
       "      <th>sctid</th>\n",
       "      <th></th>\n",
       "    </tr>\n",
       "  </thead>\n",
       "  <tbody>\n",
       "    <tr>\n",
       "      <th>227128004</th>\n",
       "      <td>[gerookte makreel]</td>\n",
       "    </tr>\n",
       "    <tr>\n",
       "      <th>1255250000</th>\n",
       "      <td>[restaureren van gebitselement met keramische ...</td>\n",
       "    </tr>\n",
       "    <tr>\n",
       "      <th>368734004</th>\n",
       "      <td>[geheel dorsum van apex linguae]</td>\n",
       "    </tr>\n",
       "  </tbody>\n",
       "</table>\n",
       "</div>"
      ],
      "text/plain": [
       "                                                 translations\n",
       "sctid                                                        \n",
       "227128004                                  [gerookte makreel]\n",
       "1255250000  [restaureren van gebitselement met keramische ...\n",
       "368734004                    [geheel dorsum van apex linguae]"
      ]
     },
     "execution_count": 10,
     "metadata": {},
     "output_type": "execute_result"
    }
   ],
   "source": [
    "nl_df = load_translation(G, DUTCH_DESCRIPTION_PATH, DUTCH_REFSET_PATH)\n",
    "print(nl_df.shape[0])\n",
    "nl_df.sample(3)"
   ]
  },
  {
   "cell_type": "code",
   "execution_count": 11,
   "id": "d1108740-8a85-45bd-9e80-91669d2c07a3",
   "metadata": {},
   "outputs": [
    {
     "name": "stdout",
     "output_type": "stream",
     "text": [
      "346723\n"
     ]
    },
    {
     "data": {
      "text/html": [
       "<div>\n",
       "<style scoped>\n",
       "    .dataframe tbody tr th:only-of-type {\n",
       "        vertical-align: middle;\n",
       "    }\n",
       "\n",
       "    .dataframe tbody tr th {\n",
       "        vertical-align: top;\n",
       "    }\n",
       "\n",
       "    .dataframe thead th {\n",
       "        text-align: right;\n",
       "    }\n",
       "</style>\n",
       "<table border=\"1\" class=\"dataframe\">\n",
       "  <thead>\n",
       "    <tr style=\"text-align: right;\">\n",
       "      <th></th>\n",
       "      <th>translations</th>\n",
       "    </tr>\n",
       "    <tr>\n",
       "      <th>sctid</th>\n",
       "      <th></th>\n",
       "    </tr>\n",
       "  </thead>\n",
       "  <tbody>\n",
       "    <tr>\n",
       "      <th>715723008</th>\n",
       "      <td>[syndaktyli, typ 1]</td>\n",
       "    </tr>\n",
       "    <tr>\n",
       "      <th>50489001</th>\n",
       "      <td>[operation av telekantus]</td>\n",
       "    </tr>\n",
       "    <tr>\n",
       "      <th>708271002</th>\n",
       "      <td>[DNA från Gardnerella vaginalis]</td>\n",
       "    </tr>\n",
       "  </tbody>\n",
       "</table>\n",
       "</div>"
      ],
      "text/plain": [
       "                               translations\n",
       "sctid                                      \n",
       "715723008               [syndaktyli, typ 1]\n",
       "50489001          [operation av telekantus]\n",
       "708271002  [DNA från Gardnerella vaginalis]"
      ]
     },
     "execution_count": 11,
     "metadata": {},
     "output_type": "execute_result"
    }
   ],
   "source": [
    "se_df = load_translation(G, SWEDISH_DESCRIPTION_PATH, SWEDISH_REFSET_PATH)\n",
    "print(se_df.shape[0])\n",
    "se_df.sample(3)"
   ]
  },
  {
   "cell_type": "code",
   "execution_count": 12,
   "id": "842f4dd7-d8ea-41e5-913b-73decd933250",
   "metadata": {},
   "outputs": [
    {
     "name": "stdout",
     "output_type": "stream",
     "text": [
      "23552\n"
     ]
    },
    {
     "data": {
      "text/html": [
       "<div>\n",
       "<style scoped>\n",
       "    .dataframe tbody tr th:only-of-type {\n",
       "        vertical-align: middle;\n",
       "    }\n",
       "\n",
       "    .dataframe tbody tr th {\n",
       "        vertical-align: top;\n",
       "    }\n",
       "\n",
       "    .dataframe thead th {\n",
       "        text-align: right;\n",
       "    }\n",
       "</style>\n",
       "<table border=\"1\" class=\"dataframe\">\n",
       "  <thead>\n",
       "    <tr style=\"text-align: right;\">\n",
       "      <th></th>\n",
       "      <th>translations</th>\n",
       "    </tr>\n",
       "    <tr>\n",
       "      <th>sctid</th>\n",
       "      <th></th>\n",
       "    </tr>\n",
       "  </thead>\n",
       "  <tbody>\n",
       "    <tr>\n",
       "      <th>93201009</th>\n",
       "      <td>[골반내 림프절의 악성 비만 세포 종양]</td>\n",
       "    </tr>\n",
       "    <tr>\n",
       "      <th>1090141000119106</th>\n",
       "      <td>[치주 질환에 의한 부분 무치악 4급]</td>\n",
       "    </tr>\n",
       "    <tr>\n",
       "      <th>9287005</th>\n",
       "      <td>[콜로이드 낭]</td>\n",
       "    </tr>\n",
       "  </tbody>\n",
       "</table>\n",
       "</div>"
      ],
      "text/plain": [
       "                            translations\n",
       "sctid                                   \n",
       "93201009          [골반내 림프절의 악성 비만 세포 종양]\n",
       "1090141000119106   [치주 질환에 의한 부분 무치악 4급]\n",
       "9287005                         [콜로이드 낭]"
      ]
     },
     "execution_count": 12,
     "metadata": {},
     "output_type": "execute_result"
    }
   ],
   "source": [
    "kr_df = load_translation(G, KOREAN_DESCRIPTION_PATH, KOREAN_REFSET_PATH)\n",
    "print(kr_df.shape[0])\n",
    "kr_df.sample(3)"
   ]
  },
  {
   "cell_type": "code",
   "execution_count": 13,
   "id": "db8f83b8-d4fb-4e73-affd-2153a4cbb796",
   "metadata": {},
   "outputs": [],
   "source": [
    "translations = {\n",
    "    \"Korean\": kr_df, \n",
    "    \"Dutch\": nl_df,\n",
    "    \"Swedish\": se_df,\n",
    "    \"Estonian\": ee_df\n",
    "}"
   ]
  },
  {
   "cell_type": "code",
   "execution_count": 14,
   "id": "38dc95a6-bf7b-4355-9798-8771a9b95878",
   "metadata": {},
   "outputs": [],
   "source": [
    "languages = list(translations.keys())"
   ]
  },
  {
   "cell_type": "markdown",
   "id": "f6156a53-929d-4a0a-8eed-920e0bc109f3",
   "metadata": {},
   "source": [
    "# 3. Derive stratification variables"
   ]
  },
  {
   "cell_type": "markdown",
   "id": "3d73c4ed-ffdb-4b57-9400-2ca67e9616e4",
   "metadata": {},
   "source": [
    "## 3.1 Calculate Context Tiers\n",
    "\n",
    "We have three tiers:\n",
    "- \"Tier 0\" contains all concepts not in another tier\n",
    "- \"Tier 1\" concepts have translations present for all their parent concepts.\n",
    "- \"Tier 2\" concepts have translations present for all parent concepts and for all inferred attribute relationships."
   ]
  },
  {
   "cell_type": "code",
   "execution_count": null,
   "id": "65d622cb-483c-4b14-8552-da34c055af6f",
   "metadata": {},
   "outputs": [],
   "source": [
    "def calc_context_tiers(langcode, translations, G):\n",
    "\n",
    "    tier_0_concepts = set([c.sctid for c in G])\n",
    "    all_translations = set(translations[langcode].index.tolist())\n",
    "\n",
    "    print(\"Calculating Context Tier 1 Concept Set\")\n",
    "    # Tier 1 concepts are concepts where all parents have also been translated\n",
    "    tier_1_concepts = set([\n",
    "        c for c in tqdm(tier_0_concepts)\n",
    "        if all([\n",
    "            p.sctid in all_translations\n",
    "            for p in G.get_full_concept(c).parents\n",
    "        ])\n",
    "    ])\n",
    "\n",
    "    print(\"Calculating Context Tier 2 Concept Set\")\n",
    "    # Tier 2 concepts are Tier 1 concepts where important defining attributes have also been translated\n",
    "    tier_2_concepts = set([\n",
    "        c for c in tqdm(tier_1_concepts)\n",
    "        if all([\n",
    "            r.tgt.sctid in all_translations\n",
    "            for g in G.get_full_concept(c).inferred_relationship_groups\n",
    "            for r in g.relationships            \n",
    "        ]) \n",
    "        and len(G.get_full_concept(c).inferred_relationship_groups) > 0\n",
    "    ])\n",
    "\n",
    "    tier_0_concepts = tier_0_concepts - tier_1_concepts - tier_2_concepts\n",
    "    tier_1_concepts = tier_1_concepts - tier_2_concepts\n",
    "\n",
    "    print(f\"\"\"\n",
    "        Language: {langcode}\n",
    "        Tier 0: {len(tier_0_concepts)}\n",
    "        Tier 1: {len(tier_1_concepts)}\n",
    "        Tier 2: {len(tier_2_concepts)}\n",
    "    \"\"\")\n",
    "\n",
    "    return tier_0_concepts, tier_1_concepts, tier_2_concepts"
   ]
  },
  {
   "cell_type": "code",
   "execution_count": null,
   "id": "25f18649-aa90-40ee-ba27-fb863cc89b12",
   "metadata": {},
   "outputs": [],
   "source": [
    "context_tiers = dict()\n",
    "\n",
    "for lang in languages:\n",
    "    print(f\"Calculating Concept Sets for {lang}\")\n",
    "    at, t1, t2 = calc_context_tiers(lang, translations, G)\n",
    "    context_tiers[lang] = {'tier0': at, 'tier1': t1, 'tier2': t2}"
   ]
  },
  {
   "cell_type": "markdown",
   "id": "1151fd60-6f4c-47dd-aff1-27f8793d953e",
   "metadata": {},
   "source": [
    "## 3.2 Calculate depth tiers\n",
    "\n",
    "- Shallow is <= 4 to the root\n",
    "- Medium is between 5 and 7 (inclusive)\n",
    "- Deep is >= 8"
   ]
  },
  {
   "cell_type": "code",
   "execution_count": null,
   "id": "85d91ed8-1d13-46bc-bd50-9fc4bf28e88a",
   "metadata": {},
   "outputs": [],
   "source": [
    "def calc_depth_tiers(G):\n",
    "    shallow_tier = set()\n",
    "    mid_tier = set()\n",
    "    deep_tier = set()\n",
    "    for concept in tqdm(iter(G), total=len(G)):\n",
    "        try:\n",
    "            depth = len(G.path_to_root(concept.sctid))\n",
    "        except TypeError:\n",
    "            pass\n",
    "        else:\n",
    "            if 1 <= depth <= 4:\n",
    "                shallow_tier.add(concept.sctid)\n",
    "            elif 5 <= depth <= 7:\n",
    "                mid_tier.add(concept.sctid)\n",
    "            elif depth >= 8:\n",
    "                deep_tier.add(concept.sctid)\n",
    "    return shallow_tier, mid_tier, deep_tier\n",
    "\n",
    "ts, tm, td = calc_depth_tiers(G)"
   ]
  },
  {
   "cell_type": "markdown",
   "id": "5c6a0f04-4599-476c-ba5d-302ccda4aef5",
   "metadata": {},
   "source": [
    "## 3.3 Calculate Similarity tier\n",
    "\n",
    "- Tier 0 concepts have no similar terms with translations\n",
    "- Tier 1 concepts have a translation for at least one similar term"
   ]
  },
  {
   "cell_type": "code",
   "execution_count": null,
   "id": "f4dff79d-0eae-400b-b87f-cb545a275aa2",
   "metadata": {},
   "outputs": [],
   "source": [
    "def calc_similarity_tiers(translations, G, min_score=2, chunksize=1000):\n",
    "    similarity_tiers = dict()\n",
    "    tier_0_concepts = [c.sctid for c in G]\n",
    "    candidate_tier_1_concepts = dict()\n",
    "    preferred_terms = [c.fsn.replace(f\"({c.hierarchy})\", \"\").strip() for c in G]\n",
    "    vectorizer = CountVectorizer(lowercase=True, stop_words=None, ngram_range=(2,10), binary=True)\n",
    "    key_matrix = vectorizer.fit_transform(preferred_terms)\n",
    "    # We chunk the dense matmul operations to avoid blowing the memory out    \n",
    "    print(\"Finding similar terms\")    \n",
    "    N_iter = int(len(tier_0_concepts) / chunksize)\n",
    "    it = zip(chunked(tier_0_concepts, chunksize), chunked(preferred_terms, chunksize))\n",
    "    for sctids, pt_chunk in tqdm(it, total=N_iter):\n",
    "        queries = vectorizer.transform(pt_chunk)\n",
    "        search = key_matrix.dot(queries.T).T.A\n",
    "        similar = lil_array(search >= min_score)\n",
    "        src_idx, tgt_idx = similar.nonzero()\n",
    "        # Since lil entries are sorted (row, col) we can use a grouper to enable us to\n",
    "        # perform a single dict update (more efficient)\n",
    "        it2 = groupby(zip(src_idx, tgt_idx), key=lambda x: x[0])\n",
    "        for src, grp in it2:\n",
    "            src_sctid = sctids[src]\n",
    "            tgt_sctids = [tier_0_concepts[tgt] for _, tgt in grp]\n",
    "            candidate_tier_1_concepts[src_sctid] = tgt_sctids\n",
    "    # Remove decendants and parents\n",
    "    print(\"Filtering similar terms\")\n",
    "    for sctid in tqdm(candidate_tier_1_concepts.keys()):\n",
    "        descendants = {c.sctid for c in G.get_descendants(sctid)}\n",
    "        parents = {c.sctid for c in G.get_parents(sctid)}\n",
    "        filtered = set(candidate_tier_1_concepts[sctid]) - {sctid} - descendants - parents\n",
    "        candidate_tier_1_concepts[sctid] = filtered\n",
    "    print(\"Filtering by language\")\n",
    "    for langcode, translations_df in tqdm(translations.items()):\n",
    "        all_translations = set(translations_df.index.tolist())\n",
    "        tier_1_concepts = {\n",
    "            sctid \n",
    "            for sctid, others in candidate_tier_1_concepts.items()\n",
    "            if others & all_translations != set()\n",
    "        }\n",
    "        tier_0_concepts = set(tier_0_concepts) - tier_1_concepts\n",
    "        similarity_tiers[langcode] = {\"tier0\": tier_0_concepts, \"tier1\": tier_1_concepts}\n",
    "        print(f\"\"\"\n",
    "            Language: {langcode}\n",
    "            Tier 0: {len(tier_0_concepts)}\n",
    "            Tier 1: {len(tier_1_concepts)}\n",
    "        \"\"\")    \n",
    "    return similarity_tiers"
   ]
  },
  {
   "cell_type": "code",
   "execution_count": null,
   "id": "e57feec2-149f-42aa-bd1b-e765136ce671",
   "metadata": {},
   "outputs": [],
   "source": [
    "similarity_tiers = calc_similarity_tiers(translations, G)"
   ]
  },
  {
   "cell_type": "markdown",
   "id": "a759fe79-9c86-4300-a70d-ba3e2521a405",
   "metadata": {},
   "source": [
    "## 3.4 Build a dataframe containing all concepts and their stratification variables\n",
    "\n",
    "Note each concept will appear once per language."
   ]
  },
  {
   "cell_type": "code",
   "execution_count": null,
   "id": "d59713fc-50eb-4eea-adb1-30c0389982f5",
   "metadata": {},
   "outputs": [],
   "source": [
    "def generate_all_concepts_df():\n",
    "    \n",
    "    def get_concept_len_bucket(concept):\n",
    "        preferred_term = concept.fsn.replace(f\"({concept.hierarchy})\", \"\").strip()\n",
    "        if len(preferred_term) <= 20:\n",
    "            return \"Short\"\n",
    "        elif len(preferred_term) <= 30:\n",
    "            return \"Medium\"\n",
    "        else:\n",
    "            return \"Long\"\n",
    "            \n",
    "    def get_depth(sctid):\n",
    "        if sctid in ts:\n",
    "            return \"Shallow\"\n",
    "        elif sctid in tm:\n",
    "            return \"Medium\"\n",
    "        elif sctid in td:\n",
    "            return \"Deep\"\n",
    "        else:\n",
    "            return pd.NA\n",
    "            \n",
    "    def get_cxt_tier(sctid, lang):\n",
    "        if sctid in context_tiers[lang][\"tier2\"]:\n",
    "            return \"Tier 2\"\n",
    "        elif sctid in context_tiers[lang][\"tier1\"]:\n",
    "            return \"Tier 1\"\n",
    "        elif sctid in context_tiers[lang][\"tier0\"]:\n",
    "            return \"Tier 0\"\n",
    "        else:\n",
    "            return pd.NA\n",
    "            \n",
    "    def get_sim_tier(sctid, lang):\n",
    "        if sctid in similarity_tiers[lang][\"tier1\"]:\n",
    "            return \"Tier 1\"\n",
    "        else:\n",
    "            return \"Tier 0\"\n",
    "            \n",
    "    for concept in tqdm(iter(G), total=len(G)):\n",
    "        for lang in languages:\n",
    "            try:\n",
    "                translated_synonyms = translations[lang].loc[concept.sctid].translations\n",
    "            except KeyError:\n",
    "                translated_synonyms = pd.NA\n",
    "            yield {\n",
    "                'sctid': concept.sctid,\n",
    "                'fsn': concept.fsn,\n",
    "                'hierarchy': concept.hierarchy,\n",
    "                'depth_tier': get_depth(concept.sctid),\n",
    "                'language': lang,\n",
    "                'context_tier': get_cxt_tier(concept.sctid, lang),\n",
    "                'similarity_tier': get_sim_tier(concept.sctid, lang),\n",
    "                'concept_length_bucket': get_concept_len_bucket(concept),\n",
    "                'reference_translations': translated_synonyms,\n",
    "            }\n",
    "\n",
    "df = pd.DataFrame(list(generate_all_concepts_df()))\n",
    "\n",
    "df[\"has_translation\"] = df.reference_translations.apply(lambda x: True if isinstance(x, list) else False)"
   ]
  },
  {
   "cell_type": "code",
   "execution_count": null,
   "id": "49f25ad8-7257-4dc0-a7e9-bb8de266ddf4",
   "metadata": {},
   "outputs": [],
   "source": [
    "# Checkpoint the data at this point.\n",
    "# We can re-load from here and avoid having to recompute all of the stratification variables.\n",
    "df.to_csv(ALL_TRANSLATIONS_PATH, index=False)"
   ]
  },
  {
   "cell_type": "code",
   "execution_count": null,
   "id": "6eb07e11-fc21-432b-8127-ba3b762025de",
   "metadata": {},
   "outputs": [],
   "source": [
    "# Save the pivot table\n",
    "summary_df = (\n",
    "    df\n",
    "    .groupby([\"hierarchy\", \"depth_tier\", \"language\", \"context_tier\", \"similarity_tier\", \"concept_length_bucket\", \"has_translation\"])\n",
    "    .size()\n",
    "    .rename(\"Number of Concepts\")\n",
    "    .reset_index()\n",
    "    .sort_values([\"language\", \"hierarchy\", \"depth_tier\", \"context_tier\", \"similarity_tier\", \"concept_length_bucket\", \"has_translation\"])\n",
    ")\n",
    "\n",
    "summary_df.to_csv(SUMMARY_PATH, index=False)"
   ]
  },
  {
   "cell_type": "markdown",
   "id": "8f3cfcce-47f8-4cf9-a04b-4e77d92cdf39",
   "metadata": {},
   "source": [
    "# 4. Sample the concepts to translate\n",
    "\n",
    "We are looking for 25 in each cell."
   ]
  },
  {
   "cell_type": "code",
   "execution_count": null,
   "id": "0d1b3ec3-9ad6-4fd4-a2a0-7932d7214808",
   "metadata": {},
   "outputs": [],
   "source": [
    "def sample_group(grp, sample_size=25):\n",
    "    sample_size = min(grp.shape[0], sample_size)\n",
    "    sample = grp.sample(sample_size, replace=False)\n",
    "    return sample[[\"sctid\", \"fsn\", \"reference_translations\"]]\n",
    "\n",
    "sample_df = (\n",
    "    df\n",
    "    [\n",
    "        (df.hierarchy.isin(hierarchies_to_sample)) &\n",
    "        (df.has_translation)\n",
    "    ]\n",
    "    .dropna()\n",
    "    .groupby([\"hierarchy\", \"depth_tier\", \"language\", \"context_tier\", \"similarity_tier\", \"concept_length_bucket\"])\n",
    "    .apply(sample_group)\n",
    "    .reset_index()\n",
    "    .drop(\"level_6\", axis=\"columns\")\n",
    "    .sort_values([\"language\", \"hierarchy\", \"depth_tier\", \"context_tier\", \"similarity_tier\", \"concept_length_bucket\"])\n",
    ")\n",
    "\n",
    "sample_df.shape[0]"
   ]
  },
  {
   "cell_type": "code",
   "execution_count": null,
   "id": "defb2af4-a032-4a4e-bec2-cc9546a4bd09",
   "metadata": {},
   "outputs": [],
   "source": [
    "sample_df"
   ]
  },
  {
   "cell_type": "code",
   "execution_count": null,
   "id": "1498933b-1019-416a-b38a-b66621a9c5d8",
   "metadata": {},
   "outputs": [],
   "source": [
    "sample_df.to_csv(SAMPLE_PATH, index=False)"
   ]
  },
  {
   "cell_type": "code",
   "execution_count": null,
   "id": "de3f55dd-5d16-4ade-80c8-d01b3b4f7b48",
   "metadata": {},
   "outputs": [],
   "source": []
  }
 ],
 "metadata": {
  "kernelspec": {
   "display_name": "Python 3 (ipykernel)",
   "language": "python",
   "name": "python3"
  },
  "language_info": {
   "codemirror_mode": {
    "name": "ipython",
    "version": 3
   },
   "file_extension": ".py",
   "mimetype": "text/x-python",
   "name": "python",
   "nbconvert_exporter": "python",
   "pygments_lexer": "ipython3",
   "version": "3.10.6"
  }
 },
 "nbformat": 4,
 "nbformat_minor": 5
}
