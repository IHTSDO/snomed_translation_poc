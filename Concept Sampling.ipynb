{
 "cells": [
  {
   "cell_type": "code",
   "execution_count": 1,
   "id": "eafa63bf-55d7-4b01-a6c6-c14a852f9607",
   "metadata": {
    "scrolled": true
   },
   "outputs": [],
   "source": [
    "from snomed_graph import *"
   ]
  },
  {
   "cell_type": "code",
   "execution_count": 2,
   "id": "2b192d3a-2d0f-492b-834c-0a73cf45ed65",
   "metadata": {},
   "outputs": [],
   "source": [
    "# tur_inputs = tokenizer.encode(\"Translate to English: Aya cok dilli bir dil modelidir.\", return_tensors=\"pt\")\n",
    "# tur_outputs = aya_model.generate(tur_inputs, max_new_tokens=128)\n",
    "# print(tokenizer.decode(tur_outputs[0]))"
   ]
  },
  {
   "cell_type": "code",
   "execution_count": 2,
   "id": "cf46808e-1b5a-4c43-abc2-7d48dd33353e",
   "metadata": {},
   "outputs": [
    {
     "name": "stdout",
     "output_type": "stream",
     "text": [
      "SNOMED graph has 361179 vertices and 1179749 edges\n"
     ]
    }
   ],
   "source": [
    "G = SnomedGraph.from_serialized(\"../snomed_graph/full_concept_graph.gml\")"
   ]
  },
  {
   "cell_type": "code",
   "execution_count": 3,
   "id": "41a067f4-1d18-45c6-a00a-52c3cc21eb50",
   "metadata": {},
   "outputs": [],
   "source": [
    "def load_translation(G, path):\n",
    "    df = pd.read_csv(path, delimiter=\"\\t\", encoding='utf-8')\n",
    "    # Active concepts only\n",
    "    df = df[df.active == 1]\n",
    "    # Remove FSNs on the assumption that each concept will retain a preferred term without the hierarchy qualifier appended\n",
    "    df = df[df.typeId != 900000000000003001]\n",
    "    # Some extensions include English terms.  We don't want these.\n",
    "    df = df[df.languageCode != \"en\"]\n",
    "    # Remove concepts that don't exist in the International Edition\n",
    "    df = df[[sctid in G for sctid in df.conceptId]]\n",
    "    df = df.rename(axis=\"columns\", mapper={\"conceptId\": \"sctid\"})\n",
    "    # One row per concept, with the synonyms aggregated into a list\n",
    "    df = df.groupby(\"sctid\").term.apply(list).rename(\"translations\").to_frame()\n",
    "    return df"
   ]
  },
  {
   "cell_type": "code",
   "execution_count": 20,
   "id": "a0e894b9-32b4-4b47-8082-bad13d132d5e",
   "metadata": {},
   "outputs": [
    {
     "name": "stdout",
     "output_type": "stream",
     "text": [
      "16684\n"
     ]
    },
    {
     "data": {
      "text/html": [
       "<div>\n",
       "<style scoped>\n",
       "    .dataframe tbody tr th:only-of-type {\n",
       "        vertical-align: middle;\n",
       "    }\n",
       "\n",
       "    .dataframe tbody tr th {\n",
       "        vertical-align: top;\n",
       "    }\n",
       "\n",
       "    .dataframe thead th {\n",
       "        text-align: right;\n",
       "    }\n",
       "</style>\n",
       "<table border=\"1\" class=\"dataframe\">\n",
       "  <thead>\n",
       "    <tr style=\"text-align: right;\">\n",
       "      <th></th>\n",
       "      <th>translations</th>\n",
       "    </tr>\n",
       "    <tr>\n",
       "      <th>sctid</th>\n",
       "      <th></th>\n",
       "    </tr>\n",
       "  </thead>\n",
       "  <tbody>\n",
       "    <tr>\n",
       "      <th>225076000</th>\n",
       "      <td>[Nasogastraalsondi kinnituse asendamine, Nina-...</td>\n",
       "    </tr>\n",
       "    <tr>\n",
       "      <th>700085004</th>\n",
       "      <td>[Paenibacillus woosongensis]</td>\n",
       "    </tr>\n",
       "    <tr>\n",
       "      <th>432913003</th>\n",
       "      <td>[Slackia sp]</td>\n",
       "    </tr>\n",
       "  </tbody>\n",
       "</table>\n",
       "</div>"
      ],
      "text/plain": [
       "                                                translations\n",
       "sctid                                                       \n",
       "225076000  [Nasogastraalsondi kinnituse asendamine, Nina-...\n",
       "700085004                       [Paenibacillus woosongensis]\n",
       "432913003                                       [Slackia sp]"
      ]
     },
     "execution_count": 20,
     "metadata": {},
     "output_type": "execute_result"
    }
   ],
   "source": [
    "ee_df = load_translation(G, \"./SnomedCT_ManagedServiceEE_PRODUCTION_EE1000181_20240530T120000Z/Snapshot/Terminology/sct2_Description_Snapshot-et_EE1000181_20240530.txt\")\n",
    "print(ee_df.shape[0])\n",
    "ee_df.sample(3)"
   ]
  },
  {
   "cell_type": "code",
   "execution_count": 21,
   "id": "d60bfc6e-ee54-452b-acfb-23218a8ef8bf",
   "metadata": {},
   "outputs": [
    {
     "name": "stdout",
     "output_type": "stream",
     "text": [
      "264396\n"
     ]
    },
    {
     "data": {
      "text/html": [
       "<div>\n",
       "<style scoped>\n",
       "    .dataframe tbody tr th:only-of-type {\n",
       "        vertical-align: middle;\n",
       "    }\n",
       "\n",
       "    .dataframe tbody tr th {\n",
       "        vertical-align: top;\n",
       "    }\n",
       "\n",
       "    .dataframe thead th {\n",
       "        text-align: right;\n",
       "    }\n",
       "</style>\n",
       "<table border=\"1\" class=\"dataframe\">\n",
       "  <thead>\n",
       "    <tr style=\"text-align: right;\">\n",
       "      <th></th>\n",
       "      <th>translations</th>\n",
       "    </tr>\n",
       "    <tr>\n",
       "      <th>sctid</th>\n",
       "      <th></th>\n",
       "    </tr>\n",
       "  </thead>\n",
       "  <tbody>\n",
       "    <tr>\n",
       "      <th>865908007</th>\n",
       "      <td>[onderbreking van ademhaling door vastzittend ...</td>\n",
       "    </tr>\n",
       "    <tr>\n",
       "      <th>465991000</th>\n",
       "      <td>[manchet voor femurverlengstuk, manchet voor v...</td>\n",
       "    </tr>\n",
       "    <tr>\n",
       "      <th>34478009</th>\n",
       "      <td>[mislukte poging tot abortus met verbruikscoag...</td>\n",
       "    </tr>\n",
       "  </tbody>\n",
       "</table>\n",
       "</div>"
      ],
      "text/plain": [
       "                                                translations\n",
       "sctid                                                       \n",
       "865908007  [onderbreking van ademhaling door vastzittend ...\n",
       "465991000  [manchet voor femurverlengstuk, manchet voor v...\n",
       "34478009   [mislukte poging tot abortus met verbruikscoag..."
      ]
     },
     "execution_count": 21,
     "metadata": {},
     "output_type": "execute_result"
    }
   ],
   "source": [
    "nl_df = load_translation(G, \"./SnomedCT_ManagedServiceNL_PRODUCTION_NL1000146_20240331T120000Z/Snapshot/Terminology/sct2_Description_Snapshot-nl_NL1000146_20240331.txt\")\n",
    "print(nl_df.shape[0])\n",
    "nl_df.sample(3)"
   ]
  },
  {
   "cell_type": "code",
   "execution_count": 22,
   "id": "d1108740-8a85-45bd-9e80-91669d2c07a3",
   "metadata": {},
   "outputs": [
    {
     "name": "stdout",
     "output_type": "stream",
     "text": [
      "346723\n"
     ]
    },
    {
     "data": {
      "text/html": [
       "<div>\n",
       "<style scoped>\n",
       "    .dataframe tbody tr th:only-of-type {\n",
       "        vertical-align: middle;\n",
       "    }\n",
       "\n",
       "    .dataframe tbody tr th {\n",
       "        vertical-align: top;\n",
       "    }\n",
       "\n",
       "    .dataframe thead th {\n",
       "        text-align: right;\n",
       "    }\n",
       "</style>\n",
       "<table border=\"1\" class=\"dataframe\">\n",
       "  <thead>\n",
       "    <tr style=\"text-align: right;\">\n",
       "      <th></th>\n",
       "      <th>translations</th>\n",
       "    </tr>\n",
       "    <tr>\n",
       "      <th>sctid</th>\n",
       "      <th></th>\n",
       "    </tr>\n",
       "  </thead>\n",
       "  <tbody>\n",
       "    <tr>\n",
       "      <th>303848004</th>\n",
       "      <td>[specifik angiografiundersökning]</td>\n",
       "    </tr>\n",
       "    <tr>\n",
       "      <th>247021003</th>\n",
       "      <td>[Wernickes hemianopsipupill]</td>\n",
       "    </tr>\n",
       "    <tr>\n",
       "      <th>419997008</th>\n",
       "      <td>[MR-angiografi av koronarartärer]</td>\n",
       "    </tr>\n",
       "  </tbody>\n",
       "</table>\n",
       "</div>"
      ],
      "text/plain": [
       "                                translations\n",
       "sctid                                       \n",
       "303848004  [specifik angiografiundersökning]\n",
       "247021003       [Wernickes hemianopsipupill]\n",
       "419997008  [MR-angiografi av koronarartärer]"
      ]
     },
     "execution_count": 22,
     "metadata": {},
     "output_type": "execute_result"
    }
   ],
   "source": [
    "se_df = load_translation(G, \"./SnomedCT_ManagedServiceSE_PRODUCTION_SE1000052_20240531T120000Z/Snapshot/Terminology/sct2_Description_Snapshot-sv_SE1000052_20240531.txt\")\n",
    "print(se_df.shape[0])\n",
    "se_df.sample(3)"
   ]
  },
  {
   "cell_type": "code",
   "execution_count": 23,
   "id": "842f4dd7-d8ea-41e5-913b-73decd933250",
   "metadata": {},
   "outputs": [
    {
     "name": "stdout",
     "output_type": "stream",
     "text": [
      "23552\n"
     ]
    },
    {
     "data": {
      "text/html": [
       "<div>\n",
       "<style scoped>\n",
       "    .dataframe tbody tr th:only-of-type {\n",
       "        vertical-align: middle;\n",
       "    }\n",
       "\n",
       "    .dataframe tbody tr th {\n",
       "        vertical-align: top;\n",
       "    }\n",
       "\n",
       "    .dataframe thead th {\n",
       "        text-align: right;\n",
       "    }\n",
       "</style>\n",
       "<table border=\"1\" class=\"dataframe\">\n",
       "  <thead>\n",
       "    <tr style=\"text-align: right;\">\n",
       "      <th></th>\n",
       "      <th>translations</th>\n",
       "    </tr>\n",
       "    <tr>\n",
       "      <th>sctid</th>\n",
       "      <th></th>\n",
       "    </tr>\n",
       "  </thead>\n",
       "  <tbody>\n",
       "    <tr>\n",
       "      <th>212216008</th>\n",
       "      <td>[T11 흉추 신경근 손상]</td>\n",
       "    </tr>\n",
       "    <tr>\n",
       "      <th>197084009</th>\n",
       "      <td>[공장 게실증]</td>\n",
       "    </tr>\n",
       "    <tr>\n",
       "      <th>1162449005</th>\n",
       "      <td>[신생아 독성 홍반]</td>\n",
       "    </tr>\n",
       "  </tbody>\n",
       "</table>\n",
       "</div>"
      ],
      "text/plain": [
       "               translations\n",
       "sctid                      \n",
       "212216008   [T11 흉추 신경근 손상]\n",
       "197084009          [공장 게실증]\n",
       "1162449005      [신생아 독성 홍반]"
      ]
     },
     "execution_count": 23,
     "metadata": {},
     "output_type": "execute_result"
    }
   ],
   "source": [
    "kr_df = load_translation(G, \"./snomed-MAIN_SNOMEDCT-KR-20240611/SnomedCT_Export/Delta/Terminology/sct2_Description_Delta_KR_20240611.txt\")\n",
    "print(kr_df.shape[0])\n",
    "kr_df.sample(3)"
   ]
  },
  {
   "cell_type": "code",
   "execution_count": 24,
   "id": "db8f83b8-d4fb-4e73-affd-2153a4cbb796",
   "metadata": {},
   "outputs": [],
   "source": [
    "translations = {\n",
    "    \"Korean\": kr_df, \n",
    "    \"Dutch\": nl_df,\n",
    "    \"Swedish\": se_df,\n",
    "    \"Estonian\": ee_df\n",
    "}"
   ]
  },
  {
   "cell_type": "code",
   "execution_count": 9,
   "id": "0e57fd7f-c90e-43b0-a544-9d3e3043c9ea",
   "metadata": {},
   "outputs": [
    {
     "data": {
      "application/vnd.jupyter.widget-view+json": {
       "model_id": "e1767abb49a14930a2ade756f10a8234",
       "version_major": 2,
       "version_minor": 0
      },
      "text/plain": [
       "  0%|          | 0/19 [00:00<?, ?it/s]"
      ]
     },
     "metadata": {},
     "output_type": "display_data"
    }
   ],
   "source": [
    "def count_translations():\n",
    "    translated_sets = {k: set(v.index.values) for k,v in translations.items()}\n",
    "    seen = set()\n",
    "    for c1 in tqdm(G.get_descendants(G.root_concept_id, 1)):        \n",
    "        for c2 in G.get_descendants(c1.sctid, 1):\n",
    "            for c3 in G.get_descendants(c2.sctid, 1):\n",
    "                for c4 in G.get_descendants(c3.sctid, 1):\n",
    "                    descendants = set([c.sctid for c in G.get_descendants(c4.sctid)])\n",
    "                    # to stop us duplicating children (it's a multi-hierarchy, after all)\n",
    "                    # this means the first concept we come across will get the children\n",
    "                    descendants = descendants - seen    \n",
    "                    seen = seen | descendants\n",
    "                    for k,v in translated_sets.items():\n",
    "                        yield {\n",
    "                            \"great grandparent\": c1,\n",
    "                            \"grandparent\": c2,\n",
    "                            \"parent\": c3,\n",
    "                            \"concept\": c4,\n",
    "                            \"num_children\": len(descendants),\n",
    "                            \"language\": k,\n",
    "                            \"translations\": len(descendants.intersection(v))\n",
    "                        }\n",
    "\n",
    "df = pd.DataFrame(count_translations())"
   ]
  },
  {
   "cell_type": "code",
   "execution_count": 10,
   "id": "7cef75ba-0edd-4aa9-95ec-3c01f4089352",
   "metadata": {},
   "outputs": [],
   "source": [
    "(\n",
    "    df\n",
    "    .pivot(\n",
    "        index=[\"great grandparent\", \"grandparent\", \"parent\", \"concept\", \"num_children\"], \n",
    "        columns=\"language\", \n",
    "        values=\"translations\"\n",
    "    )\n",
    "    .to_csv(\"analysis.csv\")\n",
    ")"
   ]
  },
  {
   "cell_type": "code",
   "execution_count": 14,
   "id": "d11e8fa5-ba0e-4a54-b3af-7921bd26cb6e",
   "metadata": {},
   "outputs": [],
   "source": [
    "important_attributes = {\n",
    "    # 'Access (attribute)',\n",
    "    # 'After (attribute)',\n",
    "    'Associated finding (attribute)',\n",
    "    'Associated morphology (attribute)',\n",
    "    'Associated procedure (attribute)',\n",
    "    'Associated with (attribute)',\n",
    "    'Before (attribute)',\n",
    "    'Causative agent (attribute)',\n",
    "    'Characterizes (attribute)',\n",
    "    # 'Clinical course (attribute)',\n",
    "    'Component (attribute)',\n",
    "    'Direct device (attribute)',\n",
    "    'Direct morphology (attribute)',\n",
    "    'Direct site (attribute)',\n",
    "    'Direct substance (attribute)',\n",
    "    'Due to (attribute)',\n",
    "    'During (attribute)',\n",
    "    # 'Finding context (attribute)',\n",
    "    'Finding informer (attribute)',\n",
    "    'Finding method (attribute)',\n",
    "    'Finding site (attribute)',\n",
    "    'Has absorbability (attribute)',\n",
    "    'Has active ingredient (attribute)',\n",
    "    'Has basic dose form (attribute)',\n",
    "    'Has basis of strength substance (attribute)',\n",
    "    'Has coating material (attribute)',\n",
    "    'Has compositional material (attribute)',\n",
    "    'Has concentration strength denominator unit (attribute)',\n",
    "    'Has concentration strength numerator unit (attribute)',\n",
    "    'Has device intended site (attribute)',\n",
    "    'Has disposition (attribute)',\n",
    "    'Has dose form administration method (attribute)',\n",
    "    'Has dose form intended site (attribute)',\n",
    "    'Has dose form release characteristic (attribute)',\n",
    "    'Has dose form transformation (attribute)',\n",
    "    'Has filling (attribute)',\n",
    "    'Has focus (attribute)',\n",
    "    'Has ingredient qualitative strength (attribute)',\n",
    "    'Has intent (attribute)',\n",
    "    # 'Has interpretation (attribute)',\n",
    "    'Has manufactured dose form (attribute)',\n",
    "    'Has precise active ingredient (attribute)',\n",
    "    'Has presentation strength denominator unit (attribute)',\n",
    "    'Has presentation strength numerator unit (attribute)',\n",
    "    'Has realization (attribute)',\n",
    "    'Has specimen (attribute)',\n",
    "    'Has state of matter (attribute)',\n",
    "    'Has surface texture (attribute)',\n",
    "    'Has target population (attribute)',\n",
    "    'Has unit of presentation (attribute)',\n",
    "    'Indirect device (attribute)',\n",
    "    'Indirect morphology (attribute)',\n",
    "    'Inherent location (attribute)',\n",
    "    'Inheres in (attribute)',\n",
    "    'Interprets (attribute)',\n",
    "    # 'Is a (attribute)',\n",
    "    'Is modification of (attribute)',\n",
    "    'Is sterile (attribute)',\n",
    "    'Laterality (attribute)',\n",
    "    'Measurement method (attribute)',\n",
    "    'Method (attribute)',\n",
    "    'Occurrence (attribute)',\n",
    "    'Pathological process (attribute)',\n",
    "    'Plays role (attribute)',\n",
    "    'Precondition (attribute)',\n",
    "    'Priority (attribute)',\n",
    "    'Procedure context (attribute)',\n",
    "    'Procedure device (attribute)',\n",
    "    'Procedure morphology (attribute)',\n",
    "    'Procedure site (attribute)',\n",
    "    'Procedure site - Direct (attribute)',\n",
    "    'Procedure site - Indirect (attribute)',\n",
    "    'Process acts on (attribute)',\n",
    "    'Process duration (attribute)',\n",
    "    'Process extends to (attribute)',\n",
    "    'Process output (attribute)',\n",
    "    'Property (attribute)',\n",
    "    'Recipient category (attribute)',\n",
    "    'Relative to (attribute)',\n",
    "    'Relative to part of (attribute)',\n",
    "    'Revision status (attribute)',\n",
    "    'Route of administration (attribute)',\n",
    "    # 'Scale type (attribute)',\n",
    "    # 'Severity (attribute)',\n",
    "    'Specimen procedure (attribute)',\n",
    "    'Specimen source identity (attribute)',\n",
    "    'Specimen source morphology (attribute)',\n",
    "    'Specimen source topography (attribute)',\n",
    "    'Specimen substance (attribute)',\n",
    "    # 'Subject relationship context (attribute)',\n",
    "    'Surgical approach (attribute)',\n",
    "    'Technique (attribute)',\n",
    "    # 'Temporal context (attribute)',\n",
    "    # 'Temporally related to (attribute)',\n",
    "    # 'Time aspect (attribute)',\n",
    "    # 'Units (attribute)',\n",
    "    'Using access device (attribute)',\n",
    "    'Using device (attribute)',\n",
    "    'Using energy (attribute)',\n",
    "    'Using substance (attribute)'\n",
    "}\n"
   ]
  },
  {
   "cell_type": "code",
   "execution_count": 15,
   "id": "65d622cb-483c-4b14-8552-da34c055af6f",
   "metadata": {},
   "outputs": [],
   "source": [
    "from functools import reduce\n",
    "\n",
    "def calc_concept_tiers(langcodes, translations, G):\n",
    "\n",
    "    all_concepts = set([c.sctid for c in G])\n",
    "    \n",
    "    translated_concepts = [\n",
    "        set(translations[lc].index.tolist())\n",
    "        for lc in langcodes\n",
    "    ]\n",
    "\n",
    "    # Distinct set of translated concepts present in all langs we are checking\n",
    "    all_translations = reduce(lambda a,b: a & b, translated_concepts, all_concepts)  \n",
    "\n",
    "    print(\"Calculating Tier 1 Concept Set\")\n",
    "    # Tier 1 concepts are concepts where all parents have also been translated\n",
    "    tier_1_concepts = set([\n",
    "        c for c in tqdm(all_translations)\n",
    "        if all([\n",
    "            p.sctid in all_translations\n",
    "            for p in G.get_full_concept(c).parents\n",
    "        ])\n",
    "    ])\n",
    "\n",
    "    print(\"Calculating Tier 2 Concept Set\")\n",
    "    # Tier 2 concepts are Tier 1 concepts where important defining attributes have also been translated\n",
    "    tier_2_concepts = set([\n",
    "        c for c in tqdm(tier_1_concepts)\n",
    "        if all([\n",
    "            r.tgt.sctid in all_translations\n",
    "            for g in G.get_full_concept(c).inferred_relationship_groups\n",
    "            for r in g.relationships            \n",
    "        ]) \n",
    "        and len(G.get_full_concept(c).inferred_relationship_groups) > 0\n",
    "    ])\n",
    "\n",
    "    print(f\"\"\"\n",
    "        Languages: {langcodes}\n",
    "        All: {len(all_translations)}\n",
    "        Tier 1: {len(tier_1_concepts)}\n",
    "        Tier 2: {len(tier_2_concepts)}\n",
    "    \"\"\")\n",
    "\n",
    "    return all_translations, tier_1_concepts, tier_2_concepts"
   ]
  },
  {
   "cell_type": "code",
   "execution_count": 16,
   "id": "25f18649-aa90-40ee-ba27-fb863cc89b12",
   "metadata": {},
   "outputs": [
    {
     "data": {
      "application/vnd.jupyter.widget-view+json": {
       "model_id": "bf8fc4f87e5848d9b420507ec35ffa61",
       "version_major": 2,
       "version_minor": 0
      },
      "text/plain": [
       "  0%|          | 0/346723 [00:00<?, ?it/s]"
      ]
     },
     "metadata": {},
     "output_type": "display_data"
    },
    {
     "data": {
      "application/vnd.jupyter.widget-view+json": {
       "model_id": "533d9ea8d7e4480f979b7db8f9edd207",
       "version_major": 2,
       "version_minor": 0
      },
      "text/plain": [
       "  0%|          | 0/341510 [00:00<?, ?it/s]"
      ]
     },
     "metadata": {},
     "output_type": "display_data"
    },
    {
     "name": "stdout",
     "output_type": "stream",
     "text": [
      "\n",
      "        Languages: ['Swedish']\n",
      "        All: 346723\n",
      "        Tier 1: 341510\n",
      "        Tier 2: 231762\n",
      "    \n"
     ]
    },
    {
     "data": {
      "application/vnd.jupyter.widget-view+json": {
       "model_id": "2588d065b02c4c3fb96198330edbea8e",
       "version_major": 2,
       "version_minor": 0
      },
      "text/plain": [
       "  0%|          | 0/23552 [00:00<?, ?it/s]"
      ]
     },
     "metadata": {},
     "output_type": "display_data"
    },
    {
     "data": {
      "application/vnd.jupyter.widget-view+json": {
       "model_id": "6f74ebcfc1b1407fb1b2c561408cb655",
       "version_major": 2,
       "version_minor": 0
      },
      "text/plain": [
       "  0%|          | 0/8295 [00:00<?, ?it/s]"
      ]
     },
     "metadata": {},
     "output_type": "display_data"
    },
    {
     "name": "stdout",
     "output_type": "stream",
     "text": [
      "\n",
      "        Languages: ['Korean']\n",
      "        All: 23552\n",
      "        Tier 1: 8295\n",
      "        Tier 2: 639\n",
      "    \n"
     ]
    },
    {
     "data": {
      "application/vnd.jupyter.widget-view+json": {
       "model_id": "6afb2c421b73407e916535076f362262",
       "version_major": 2,
       "version_minor": 0
      },
      "text/plain": [
       "  0%|          | 0/264396 [00:00<?, ?it/s]"
      ]
     },
     "metadata": {},
     "output_type": "display_data"
    },
    {
     "data": {
      "application/vnd.jupyter.widget-view+json": {
       "model_id": "3ea508e89de74bacb0f389588dcc57eb",
       "version_major": 2,
       "version_minor": 0
      },
      "text/plain": [
       "  0%|          | 0/255745 [00:00<?, ?it/s]"
      ]
     },
     "metadata": {},
     "output_type": "display_data"
    },
    {
     "name": "stdout",
     "output_type": "stream",
     "text": [
      "\n",
      "        Languages: ['Dutch']\n",
      "        All: 264396\n",
      "        Tier 1: 255745\n",
      "        Tier 2: 181119\n",
      "    \n"
     ]
    },
    {
     "data": {
      "application/vnd.jupyter.widget-view+json": {
       "model_id": "e250202d27e349b5827f5da146e64543",
       "version_major": 2,
       "version_minor": 0
      },
      "text/plain": [
       "  0%|          | 0/16684 [00:00<?, ?it/s]"
      ]
     },
     "metadata": {},
     "output_type": "display_data"
    },
    {
     "data": {
      "application/vnd.jupyter.widget-view+json": {
       "model_id": "5f31e076e2124c468e54043bdc35da11",
       "version_major": 2,
       "version_minor": 0
      },
      "text/plain": [
       "  0%|          | 0/8740 [00:00<?, ?it/s]"
      ]
     },
     "metadata": {},
     "output_type": "display_data"
    },
    {
     "name": "stdout",
     "output_type": "stream",
     "text": [
      "\n",
      "        Languages: ['Estonian']\n",
      "        All: 16684\n",
      "        Tier 1: 8740\n",
      "        Tier 2: 395\n",
      "    \n"
     ]
    }
   ],
   "source": [
    "context_tiers = dict()\n",
    "for lang in [\"Swedish\", \"Korean\", \"Dutch\", \"Estonian\"]:\n",
    "    print(f\"Calculating Concept Sets for {lang}\")\n",
    "    at, t1, t2 = calc_concept_tiers([lang], translations, G)\n",
    "    context_tiers[lang] = {'all_translations': at, 'tier1': t1, 'tier2': t2}"
   ]
  },
  {
   "cell_type": "code",
   "execution_count": 17,
   "id": "85d91ed8-1d13-46bc-bd50-9fc4bf28e88a",
   "metadata": {},
   "outputs": [
    {
     "data": {
      "application/vnd.jupyter.widget-view+json": {
       "model_id": "a776990f6ced42a681b788a5ed4e4fe4",
       "version_major": 2,
       "version_minor": 0
      },
      "text/plain": [
       "  0%|          | 0/361179 [00:00<?, ?it/s]"
      ]
     },
     "metadata": {},
     "output_type": "display_data"
    }
   ],
   "source": [
    "import seaborn as sns\n",
    "import numpy as np\n",
    "\n",
    "def calc_depth_tiers(G):\n",
    "    shallow_tier = set()\n",
    "    mid_tier = set()\n",
    "    deep_tier = set()\n",
    "    for concept in tqdm(iter(G), total=len(G)):\n",
    "        try:\n",
    "            depth = len(G.path_to_root(concept.sctid))\n",
    "        except TypeError:\n",
    "            pass\n",
    "        else:\n",
    "            if 1 <= depth <= 4:\n",
    "                shallow_tier.add(concept.sctid)\n",
    "            elif 5 <= depth <= 7:\n",
    "                mid_tier.add(concept.sctid)\n",
    "            elif depth >= 8:\n",
    "                deep_tier.add(concept.sctid)\n",
    "    return shallow_tier, mid_tier, deep_tier\n",
    "\n",
    "ts, tm, td = calc_depth_tiers(G)"
   ]
  },
  {
   "cell_type": "code",
   "execution_count": 25,
   "id": "d59713fc-50eb-4eea-adb1-30c0389982f5",
   "metadata": {},
   "outputs": [
    {
     "data": {
      "application/vnd.jupyter.widget-view+json": {
       "model_id": "88096437dc954712b7367a994f272d15",
       "version_major": 2,
       "version_minor": 0
      },
      "text/plain": [
       "  0%|          | 0/361179 [00:00<?, ?it/s]"
      ]
     },
     "metadata": {},
     "output_type": "display_data"
    }
   ],
   "source": [
    "def gen_sampling_df():\n",
    "    def get_depth(sctid):\n",
    "        if sctid in ts:\n",
    "            return \"Shallow\"\n",
    "        elif sctid in tm:\n",
    "            return \"Medium\"\n",
    "        elif sctid in td:\n",
    "            return \"Deep\"\n",
    "        else:\n",
    "            return pd.NA\n",
    "    def get_cxt_tier(sctid, lang):\n",
    "        if sctid in context_tiers[lang][\"tier2\"]:\n",
    "            return \"Tier 2\"\n",
    "        elif sctid in context_tiers[lang][\"tier1\"]:\n",
    "            return \"Tier 1\"\n",
    "        elif sctid in context_tiers[lang][\"all_translations\"]:\n",
    "            return \"All Translations\"\n",
    "        else:\n",
    "            return pd.NA\n",
    "    for concept in tqdm(iter(G), total=len(G)):\n",
    "        for lang in [\"Swedish\", \"Korean\", \"Dutch\", \"Estonian\"]:\n",
    "            try:\n",
    "                translated_synonyms = translations[lang].loc[concept.sctid].translations\n",
    "            except KeyError:\n",
    "                pass\n",
    "            else:\n",
    "                yield {\n",
    "                    'sctid': concept.sctid,\n",
    "                    'fsn': concept.fsn,\n",
    "                    'hierarchy': concept.hierarchy,\n",
    "                    'depth_tier': get_depth(concept.sctid),\n",
    "                    'language': lang,\n",
    "                    'context_tier': get_cxt_tier(concept.sctid, lang),\n",
    "                    'reference_translations': translated_synonyms,\n",
    "                }\n",
    "\n",
    "df = pd.DataFrame(list(gen_sampling_df()))"
   ]
  },
  {
   "cell_type": "code",
   "execution_count": 28,
   "id": "6eb07e11-fc21-432b-8127-ba3b762025de",
   "metadata": {},
   "outputs": [],
   "source": [
    "summary_df = (\n",
    "    df\n",
    "    .groupby([\"hierarchy\", \"depth_tier\", \"language\", \"context_tier\"])\n",
    "    .size()\n",
    "    .rename(\"Number of Concepts\")\n",
    "    .reset_index()\n",
    "    .sort_values([\"language\", \"hierarchy\", \"depth_tier\", \"context_tier\"])\n",
    ")\n",
    "\n",
    "summary_df.to_csv(\"available_translated_concepts_summary.csv\", index=False)"
   ]
  },
  {
   "cell_type": "code",
   "execution_count": 29,
   "id": "49f25ad8-7257-4dc0-a7e9-bb8de266ddf4",
   "metadata": {},
   "outputs": [],
   "source": [
    "df.to_csv(\"sampling_df.csv\", index=False)"
   ]
  },
  {
   "cell_type": "code",
   "execution_count": 13,
   "id": "addfd4c1-232c-4ccc-a118-d8f650e549b7",
   "metadata": {},
   "outputs": [],
   "source": [
    "df = pd.read_csv(\"sampling_df.csv\")"
   ]
  },
  {
   "cell_type": "code",
   "execution_count": 32,
   "id": "a9e50fb3-82a2-43d0-b609-7a746cee9cae",
   "metadata": {},
   "outputs": [],
   "source": [
    "hierarchies_to_sample = [\n",
    "    \"substance\",\n",
    "    \"body structure\",\n",
    "    \"finding\",\n",
    "    \"disorder\",\n",
    "    \"procedure\",\n",
    "    \"morphologic abnormality\"\n",
    "]"
   ]
  },
  {
   "cell_type": "code",
   "execution_count": 45,
   "id": "0d1b3ec3-9ad6-4fd4-a2a0-7932d7214808",
   "metadata": {},
   "outputs": [],
   "source": [
    "def sample_group(grp, sample_size=100):\n",
    "    sample_size = min(grp.shape[0], sample_size)\n",
    "    sample = grp.sample(sample_size, replace=False)\n",
    "    return sample[[\"sctid\", \"fsn\", \"translations\"]]\n",
    "\n",
    "sample_df = (\n",
    "    df\n",
    "    [df.hierarchy.isin(hierarchies_to_sample)]\n",
    "    .dropna()\n",
    "    .groupby([\"hierarchy\", \"depth_tier\", \"language\", \"context_tier\"])\n",
    "    .apply(sample_group)\n",
    "    .reset_index()\n",
    "    .drop(\"level_4\", axis=\"columns\")\n",
    "    .sort_values([\"language\", \"hierarchy\", \"depth_tier\", \"context_tier\"])\n",
    ")\n",
    "\n",
    "sample_df.to_csv(\"samples.csv\", index=False)"
   ]
  },
  {
   "cell_type": "code",
   "execution_count": null,
   "id": "ee8375f2-c013-4a0d-8d3d-1e50c5798e48",
   "metadata": {},
   "outputs": [],
   "source": []
  }
 ],
 "metadata": {
  "kernelspec": {
   "display_name": "Python 3 (ipykernel)",
   "language": "python",
   "name": "python3"
  },
  "language_info": {
   "codemirror_mode": {
    "name": "ipython",
    "version": 3
   },
   "file_extension": ".py",
   "mimetype": "text/x-python",
   "name": "python",
   "nbconvert_exporter": "python",
   "pygments_lexer": "ipython3",
   "version": "3.10.6"
  }
 },
 "nbformat": 4,
 "nbformat_minor": 5
}
