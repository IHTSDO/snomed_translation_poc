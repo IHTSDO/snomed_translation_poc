{
 "cells": [
  {
   "cell_type": "markdown",
   "id": "40366b53-0527-4e98-848c-452c0e8a21ca",
   "metadata": {},
   "source": [
    "# TODO\n",
    "\n",
    "- Use the preferred terms rather than the first synonyms"
   ]
  },
  {
   "cell_type": "code",
   "execution_count": null,
   "id": "c930face-aac9-4b0a-98e8-530c66b3b4de",
   "metadata": {
    "tags": []
   },
   "outputs": [],
   "source": [
    "!pip install transformers\n",
    "!pip install deepl\n",
    "!pip install tqdm\n",
    "!pip install evaluate\n",
    "!pip install termcolor\n",
    "!pip install Levenshtein\n",
    "!pip install nltk\n",
    "!pip install cer\n",
    "!pip install accelerate"
   ]
  },
  {
   "cell_type": "code",
   "execution_count": 1,
   "id": "e5667fbe-93e4-45fa-8ffb-6ab904d08771",
   "metadata": {
    "tags": []
   },
   "outputs": [],
   "source": [
    "# import os\n",
    "# os.environ['HF_HOME'] = '/home/ec2-user/SageMaker/cache/'"
   ]
  },
  {
   "cell_type": "code",
   "execution_count": 2,
   "id": "fc87bd99-b973-4435-bc22-f425447347e2",
   "metadata": {
    "tags": []
   },
   "outputs": [],
   "source": [
    "from transformers import AutoModelForSeq2SeqLM, AutoTokenizer\n",
    "from snomed_graph import *\n",
    "import getpass\n",
    "import deepl\n",
    "from tqdm.notebook import tqdm\n",
    "import json\n",
    "import numpy as np\n",
    "import evaluate\n",
    "from termcolor import colored\n",
    "from collections import namedtuple\n",
    "from operator import __or__\n",
    "from functools import reduce\n",
    "from ast import literal_eval\n",
    "from Levenshtein import ratio\n",
    "from itertools import chain"
   ]
  },
  {
   "cell_type": "code",
   "execution_count": 3,
   "id": "627cc59c-57ee-4d6c-85db-9a3f7a7a7805",
   "metadata": {
    "tags": []
   },
   "outputs": [],
   "source": [
    "AYA_CHECKPOINT = \"CohereForAI/aya-101\"\n",
    "PATH_TO_SERIALIZED_SNOMED_GRAPH = \"./data/snomed_graph/full_concept_graph.gml\"\n",
    "PATH_TO_TRANSLATION_SAMPLES = \"./data/prepared_translation_data/samples.csv\"\n",
    "PATH_TO_ALL_TRANSLATION_REFERENCES = \"./data/prepared_translation_data/sampling_df.csv\"\n",
    "PATH_TO_DEEPL_TRANSLATION_RESULTS = \"./data/cache/deepl_results.json\"\n",
    "PATH_TO_AYA_VANILLA_TRANSLATION_RESULTS = \"./data/cache/aya_results_vanilla.json\"\n",
    "PATH_TO_AYA_ENRICHED_TRANSLATION_RESULTS = \"./data/cache/aya_results_enriched.json\"\n",
    "ALL_OUTPUT_PATH = \"./data/translation_outputs/all_translations.csv\"\n",
    "CT1_OUTPUT_PATH = \"./data/translation_outputs/ct1_translations.csv\"\n",
    "CT2_OUTPUT_PATH = \"./data/translation_outputs/ct2_translations.csv\""
   ]
  },
  {
   "cell_type": "code",
   "execution_count": 4,
   "id": "aa931693-9d38-442f-9a31-22d7a6b4609a",
   "metadata": {
    "tags": []
   },
   "outputs": [
    {
     "name": "stdin",
     "output_type": "stream",
     "text": [
      " ········\n"
     ]
    }
   ],
   "source": [
    "DEEPL_AUTH_KEY = getpass.getpass()"
   ]
  },
  {
   "cell_type": "code",
   "execution_count": 4,
   "id": "93502126-6915-4c0c-858b-eecf7620077a",
   "metadata": {
    "tags": []
   },
   "outputs": [],
   "source": [
    "langcodes = {\n",
    "    \"Dutch\": \"NL\",\n",
    "    \"Estonian\": \"ET\",\n",
    "    \"Korean\": \"KO\",\n",
    "    \"Swedish\": \"SV\",\n",
    "}"
   ]
  },
  {
   "cell_type": "code",
   "execution_count": 5,
   "id": "15d61637-bd8d-4f78-984a-99fc42b96cdc",
   "metadata": {
    "tags": []
   },
   "outputs": [],
   "source": [
    "important_attributes = {\n",
    "    # 'Access (attribute)',\n",
    "    # 'After (attribute)',\n",
    "    'Associated finding (attribute)',\n",
    "    'Associated morphology (attribute)',\n",
    "    'Associated procedure (attribute)',\n",
    "    'Associated with (attribute)',\n",
    "    'Before (attribute)',\n",
    "    'Causative agent (attribute)',\n",
    "    'Characterizes (attribute)',\n",
    "    # 'Clinical course (attribute)',\n",
    "    'Component (attribute)',\n",
    "    'Direct device (attribute)',\n",
    "    'Direct morphology (attribute)',\n",
    "    'Direct site (attribute)',\n",
    "    'Direct substance (attribute)',\n",
    "    'Due to (attribute)',\n",
    "    'During (attribute)',\n",
    "    # 'Finding context (attribute)',\n",
    "    'Finding informer (attribute)',\n",
    "    'Finding method (attribute)',\n",
    "    'Finding site (attribute)',\n",
    "    'Has absorbability (attribute)',\n",
    "    'Has active ingredient (attribute)',\n",
    "    'Has basic dose form (attribute)',\n",
    "    'Has basis of strength substance (attribute)',\n",
    "    'Has coating material (attribute)',\n",
    "    'Has compositional material (attribute)',\n",
    "    'Has concentration strength denominator unit (attribute)',\n",
    "    'Has concentration strength numerator unit (attribute)',\n",
    "    'Has device intended site (attribute)',\n",
    "    'Has disposition (attribute)',\n",
    "    'Has dose form administration method (attribute)',\n",
    "    'Has dose form intended site (attribute)',\n",
    "    'Has dose form release characteristic (attribute)',\n",
    "    'Has dose form transformation (attribute)',\n",
    "    'Has filling (attribute)',\n",
    "    'Has focus (attribute)',\n",
    "    'Has ingredient qualitative strength (attribute)',\n",
    "    'Has intent (attribute)',\n",
    "    # 'Has interpretation (attribute)',\n",
    "    'Has manufactured dose form (attribute)',\n",
    "    'Has precise active ingredient (attribute)',\n",
    "    'Has presentation strength denominator unit (attribute)',\n",
    "    'Has presentation strength numerator unit (attribute)',\n",
    "    'Has realization (attribute)',\n",
    "    'Has specimen (attribute)',\n",
    "    'Has state of matter (attribute)',\n",
    "    'Has surface texture (attribute)',\n",
    "    'Has target population (attribute)',\n",
    "    'Has unit of presentation (attribute)',\n",
    "    'Indirect device (attribute)',\n",
    "    'Indirect morphology (attribute)',\n",
    "    'Inherent location (attribute)',\n",
    "    'Inheres in (attribute)',\n",
    "    'Interprets (attribute)',\n",
    "    # 'Is a (attribute)',\n",
    "    'Is modification of (attribute)',\n",
    "    'Is sterile (attribute)',\n",
    "    'Laterality (attribute)',\n",
    "    'Measurement method (attribute)',\n",
    "    'Method (attribute)',\n",
    "    'Occurrence (attribute)',\n",
    "    'Pathological process (attribute)',\n",
    "    'Plays role (attribute)',\n",
    "    'Precondition (attribute)',\n",
    "    'Priority (attribute)',\n",
    "    'Procedure context (attribute)',\n",
    "    'Procedure device (attribute)',\n",
    "    'Procedure morphology (attribute)',\n",
    "    'Procedure site (attribute)',\n",
    "    'Procedure site - Direct (attribute)',\n",
    "    'Procedure site - Indirect (attribute)',\n",
    "    'Process acts on (attribute)',\n",
    "    'Process duration (attribute)',\n",
    "    'Process extends to (attribute)',\n",
    "    'Process output (attribute)',\n",
    "    'Property (attribute)',\n",
    "    'Recipient category (attribute)',\n",
    "    'Relative to (attribute)',\n",
    "    'Relative to part of (attribute)',\n",
    "    'Revision status (attribute)',\n",
    "    'Route of administration (attribute)',\n",
    "    # 'Scale type (attribute)',\n",
    "    # 'Severity (attribute)',\n",
    "    'Specimen procedure (attribute)',\n",
    "    'Specimen source identity (attribute)',\n",
    "    'Specimen source morphology (attribute)',\n",
    "    'Specimen source topography (attribute)',\n",
    "    'Specimen substance (attribute)',\n",
    "    # 'Subject relationship context (attribute)',\n",
    "    'Surgical approach (attribute)',\n",
    "    'Technique (attribute)',\n",
    "    # 'Temporal context (attribute)',\n",
    "    # 'Temporally related to (attribute)',\n",
    "    # 'Time aspect (attribute)',\n",
    "    # 'Units (attribute)',\n",
    "    'Using access device (attribute)',\n",
    "    'Using device (attribute)',\n",
    "    'Using energy (attribute)',\n",
    "    'Using substance (attribute)'\n",
    "}"
   ]
  },
  {
   "cell_type": "markdown",
   "id": "c9f1ac12-d370-4c13-958a-ed503cfcb007",
   "metadata": {},
   "source": [
    "# 1. Load the data"
   ]
  },
  {
   "cell_type": "markdown",
   "id": "2ddf79ad-498a-49d7-8704-ea8d5dd952c5",
   "metadata": {},
   "source": [
    "## 1.1 Load the concepts to translate"
   ]
  },
  {
   "cell_type": "code",
   "execution_count": 6,
   "id": "ba0a6ccb-8e5a-4727-a45d-d8cb60cd4916",
   "metadata": {
    "tags": []
   },
   "outputs": [
    {
     "data": {
      "text/plain": [
       "12640"
      ]
     },
     "execution_count": 6,
     "metadata": {},
     "output_type": "execute_result"
    }
   ],
   "source": [
    "# Columns are: sctid, fsn, hierarchy, language, context_tier, depth_tier, translations\n",
    "all_df = (\n",
    "    pd.read_csv(PATH_TO_TRANSLATION_SAMPLES)\n",
    "    .set_index([\"sctid\", \"language\"])\n",
    ")\n",
    "\n",
    "all_df.reference_translations = all_df.reference_translations.apply(literal_eval)\n",
    "\n",
    "all_df.shape[0]"
   ]
  },
  {
   "cell_type": "code",
   "execution_count": 7,
   "id": "38cfcd03-e7f7-460d-b395-36e5cf6f531a",
   "metadata": {
    "tags": []
   },
   "outputs": [],
   "source": [
    "# all_df = all_df.sample(20)"
   ]
  },
  {
   "cell_type": "markdown",
   "id": "ba7455e7-6667-4abd-b49e-4d5bd780a33f",
   "metadata": {},
   "source": [
    "## 1.2 Load the full set of reference translations"
   ]
  },
  {
   "cell_type": "code",
   "execution_count": 8,
   "id": "33e90b69-f3cb-4a04-9548-5bb26c913774",
   "metadata": {
    "tags": []
   },
   "outputs": [
    {
     "data": {
      "text/plain": [
       "651355"
      ]
     },
     "execution_count": 8,
     "metadata": {},
     "output_type": "execute_result"
    }
   ],
   "source": [
    "# Columns are: sctid, fsn, hierarchy, language, context_tier, depth_tier, translations\n",
    "ref_df = (\n",
    "    pd.read_csv(PATH_TO_ALL_TRANSLATION_REFERENCES)\n",
    "    .set_index([\"sctid\", \"language\"])\n",
    ")\n",
    "\n",
    "ref_df.translations = ref_df.translations.apply(literal_eval)\n",
    "\n",
    "ref_df = ref_df.rename(axis=\"columns\", mapper={\"translations\": \"reference_translations\"})\n",
    "\n",
    "ref_df.shape[0]"
   ]
  },
  {
   "cell_type": "markdown",
   "id": "dde6e15f-15e9-4284-a4ee-e2345a80cfe3",
   "metadata": {},
   "source": [
    "## 1.3 Load the SNOMED graph object"
   ]
  },
  {
   "cell_type": "code",
   "execution_count": 9,
   "id": "77bb2042-56ec-40ac-9c55-cedfa18a3c85",
   "metadata": {
    "tags": []
   },
   "outputs": [
    {
     "name": "stdout",
     "output_type": "stream",
     "text": [
      "SNOMED graph has 361179 vertices and 1179749 edges\n"
     ]
    }
   ],
   "source": [
    "G = SnomedGraph.from_serialized(PATH_TO_SERIALIZED_SNOMED_GRAPH)"
   ]
  },
  {
   "cell_type": "markdown",
   "id": "b7d5d051-4705-446b-ae51-f47fb39634bf",
   "metadata": {},
   "source": [
    "# 2. Evaluation Harness"
   ]
  },
  {
   "cell_type": "code",
   "execution_count": 10,
   "id": "f8907f3d-f1a3-4738-afa3-9179dd756ae0",
   "metadata": {
    "tags": []
   },
   "outputs": [],
   "source": [
    "google_bleu = evaluate.load(\"google_bleu\")\n",
    "character = evaluate.load(\"character\")"
   ]
  },
  {
   "cell_type": "code",
   "execution_count": 11,
   "id": "33bf8095-2b5a-4790-85fa-894daa4faa62",
   "metadata": {
    "tags": []
   },
   "outputs": [],
   "source": [
    "def exact_match(predictions, references):\n",
    "    N = len(predictions)\n",
    "    n = 0\n",
    "    for p, r in zip(predictions, references):\n",
    "        if p in r:\n",
    "            n += 1\n",
    "    return {'exact_match': float(n)/N}"
   ]
  },
  {
   "cell_type": "code",
   "execution_count": 12,
   "id": "b778f47f-c500-4ebf-aff1-5f283165ba70",
   "metadata": {
    "tags": []
   },
   "outputs": [],
   "source": [
    "def levenshtein_ratio(predictions, references):\n",
    "    ratios = [\n",
    "        np.max([ratio(p, r) for r in refs])\n",
    "        for p, refs in zip(predictions, references)\n",
    "    ]\n",
    "    return {'levenshtein_ratio': np.mean(ratios)}"
   ]
  },
  {
   "cell_type": "code",
   "execution_count": 13,
   "id": "7ef54b57-bbe4-49bb-b1db-cfc2bc47e084",
   "metadata": {
    "tags": []
   },
   "outputs": [],
   "source": [
    "def evaluate_translations(row_or_df, target_column):\n",
    "    if isinstance(row_or_df, pd.DataFrame):\n",
    "        assert target_column in row_or_df.columns    \n",
    "        candidates = list(row_or_df.to_dict()[target_column].values())\n",
    "        references = row_or_df.reference_translations.tolist()\n",
    "    else:\n",
    "        candidates = [getattr(row_or_df, target_column)]\n",
    "        references = [row_or_df.reference_translations]\n",
    "    results = [\n",
    "        exact_match(predictions=candidates, references=references),\n",
    "        levenshtein_ratio(predictions=candidates, references=references),\n",
    "        google_bleu.compute(predictions=candidates, references=references),\n",
    "        character.compute(predictions=candidates, references=references),\n",
    "    ]\n",
    "    results = reduce(__or__, results, dict())\n",
    "    return results"
   ]
  },
  {
   "cell_type": "markdown",
   "id": "15910fa5-05da-4684-8434-6569ddc09304",
   "metadata": {},
   "source": [
    "# 3. Generate baseline translations with DeepL"
   ]
  },
  {
   "cell_type": "code",
   "execution_count": 15,
   "id": "4876d773-7864-4396-9418-ff7f0b9747ef",
   "metadata": {
    "tags": []
   },
   "outputs": [],
   "source": [
    "translator = deepl.Translator(DEEPL_AUTH_KEY)\n",
    "\n",
    "def translate_with_deepl(df, G):\n",
    "    \n",
    "    with open(PATH_TO_DEEPL_TRANSLATION_RESULTS, \"r\") as f:\n",
    "        deepl_results = json.load(f)\n",
    "    \n",
    "    for it, row in enumerate(tqdm(df.itertuples(), total=df.shape[0])):\n",
    "        sctid, language = row.Index\n",
    "        langcode = langcodes[language]\n",
    "        source_concept = G.get_concept_details(sctid)\n",
    "        source_preferred_term = source_concept.fsn.replace(f\"({source_concept.hierarchy})\", \"\").strip()\n",
    "        key = str(sctid) + \"_\" + language\n",
    "        try:\n",
    "            yield deepl_results[key]\n",
    "        except KeyError:\n",
    "            deepl_result = translator.translate_text(source_preferred_term, target_lang=langcode)\n",
    "            deepl_results[key] = deepl_result.text\n",
    "            yield deepl_result.text\n",
    "        if it % 100 == 0:\n",
    "            with open(PATH_TO_DEEPL_TRANSLATION_RESULTS, \"w\") as f:\n",
    "                json.dump(deepl_results, f)\n",
    "\n",
    "    with open(PATH_TO_DEEPL_TRANSLATION_RESULTS, \"w\") as f:\n",
    "        json.dump(deepl_results, f)"
   ]
  },
  {
   "cell_type": "code",
   "execution_count": 16,
   "id": "97cd516d-1f59-4167-bd43-5f7949915ce3",
   "metadata": {
    "tags": []
   },
   "outputs": [
    {
     "data": {
      "application/vnd.jupyter.widget-view+json": {
       "model_id": "44b9526a6e3346ab98253aa55ada5bde",
       "version_major": 2,
       "version_minor": 0
      },
      "text/plain": [
       "  0%|          | 0/12640 [00:00<?, ?it/s]"
      ]
     },
     "metadata": {},
     "output_type": "display_data"
    }
   ],
   "source": [
    "all_df[\"deepl_translation\"] = list(translate_with_deepl(all_df, G))"
   ]
  },
  {
   "cell_type": "code",
   "execution_count": 17,
   "id": "20e9c100-c32b-4f24-b590-5a00d75c9f7a",
   "metadata": {
    "tags": []
   },
   "outputs": [
    {
     "data": {
      "text/plain": [
       "{'exact_match': 0.08662974683544304,\n",
       " 'levenshtein_ratio': 0.7370298864393613,\n",
       " 'google_bleu': 0.2459922409495806,\n",
       " 'cer_score': 0.381689058931287}"
      ]
     },
     "execution_count": 17,
     "metadata": {},
     "output_type": "execute_result"
    }
   ],
   "source": [
    "evaluate_translations(all_df, \"deepl_translation\")"
   ]
  },
  {
   "cell_type": "markdown",
   "id": "d1b99278-9f6e-4ba4-b528-9e08c7a5c9d1",
   "metadata": {},
   "source": [
    "# 4. Generate translations using \"vanilla\" Aya model."
   ]
  },
  {
   "cell_type": "code",
   "execution_count": 18,
   "id": "90aff670-69e8-4d02-a9ff-ad2c5be6cb38",
   "metadata": {
    "tags": []
   },
   "outputs": [
    {
     "data": {
      "application/vnd.jupyter.widget-view+json": {
       "model_id": "b2fe6737619b4bbc970fa9123ffb61c8",
       "version_major": 2,
       "version_minor": 0
      },
      "text/plain": [
       "tokenizer_config.json:   0%|          | 0.00/833 [00:00<?, ?B/s]"
      ]
     },
     "metadata": {},
     "output_type": "display_data"
    },
    {
     "data": {
      "application/vnd.jupyter.widget-view+json": {
       "model_id": "458331407740467e806b7b5c35ad2138",
       "version_major": 2,
       "version_minor": 0
      },
      "text/plain": [
       "tokenizer.json:   0%|          | 0.00/16.3M [00:00<?, ?B/s]"
      ]
     },
     "metadata": {},
     "output_type": "display_data"
    },
    {
     "data": {
      "application/vnd.jupyter.widget-view+json": {
       "model_id": "98b2095b0e66432eae94d29faafdee71",
       "version_major": 2,
       "version_minor": 0
      },
      "text/plain": [
       "config.json:   0%|          | 0.00/836 [00:00<?, ?B/s]"
      ]
     },
     "metadata": {},
     "output_type": "display_data"
    },
    {
     "data": {
      "application/vnd.jupyter.widget-view+json": {
       "model_id": "a8388ca6b06d475dac61192260c437a5",
       "version_major": 2,
       "version_minor": 0
      },
      "text/plain": [
       "model.safetensors.index.json:   0%|          | 0.00/50.6k [00:00<?, ?B/s]"
      ]
     },
     "metadata": {},
     "output_type": "display_data"
    },
    {
     "data": {
      "application/vnd.jupyter.widget-view+json": {
       "model_id": "5a3724ddaf8047008f8780da82049557",
       "version_major": 2,
       "version_minor": 0
      },
      "text/plain": [
       "Downloading shards:   0%|          | 0/11 [00:00<?, ?it/s]"
      ]
     },
     "metadata": {},
     "output_type": "display_data"
    },
    {
     "data": {
      "application/vnd.jupyter.widget-view+json": {
       "model_id": "b292c7d04adc499097dfdbe56c96e4dd",
       "version_major": 2,
       "version_minor": 0
      },
      "text/plain": [
       "model-00001-of-00011.safetensors:   0%|          | 0.00/4.94G [00:00<?, ?B/s]"
      ]
     },
     "metadata": {},
     "output_type": "display_data"
    },
    {
     "data": {
      "application/vnd.jupyter.widget-view+json": {
       "model_id": "a03e924ec4b341fdacdabd7c50dda393",
       "version_major": 2,
       "version_minor": 0
      },
      "text/plain": [
       "model-00002-of-00011.safetensors:   0%|          | 0.00/5.00G [00:00<?, ?B/s]"
      ]
     },
     "metadata": {},
     "output_type": "display_data"
    },
    {
     "data": {
      "application/vnd.jupyter.widget-view+json": {
       "model_id": "c86a477b27264176a19eb3e9facc9f77",
       "version_major": 2,
       "version_minor": 0
      },
      "text/plain": [
       "model-00003-of-00011.safetensors:   0%|          | 0.00/4.97G [00:00<?, ?B/s]"
      ]
     },
     "metadata": {},
     "output_type": "display_data"
    },
    {
     "data": {
      "application/vnd.jupyter.widget-view+json": {
       "model_id": "07da65fa69b84570b183b6a3f2445968",
       "version_major": 2,
       "version_minor": 0
      },
      "text/plain": [
       "model-00004-of-00011.safetensors:   0%|          | 0.00/4.90G [00:00<?, ?B/s]"
      ]
     },
     "metadata": {},
     "output_type": "display_data"
    },
    {
     "data": {
      "application/vnd.jupyter.widget-view+json": {
       "model_id": "e1bfd9a46d1c4f92934d00ea994f7e76",
       "version_major": 2,
       "version_minor": 0
      },
      "text/plain": [
       "model-00005-of-00011.safetensors:   0%|          | 0.00/4.97G [00:00<?, ?B/s]"
      ]
     },
     "metadata": {},
     "output_type": "display_data"
    },
    {
     "data": {
      "application/vnd.jupyter.widget-view+json": {
       "model_id": "1f25550cb2c84d4a8f19b088ac6e3f6f",
       "version_major": 2,
       "version_minor": 0
      },
      "text/plain": [
       "model-00006-of-00011.safetensors:   0%|          | 0.00/4.97G [00:00<?, ?B/s]"
      ]
     },
     "metadata": {},
     "output_type": "display_data"
    },
    {
     "data": {
      "application/vnd.jupyter.widget-view+json": {
       "model_id": "95f16d9a6d2049de90b960fbf6b1ea60",
       "version_major": 2,
       "version_minor": 0
      },
      "text/plain": [
       "model-00007-of-00011.safetensors:   0%|          | 0.00/4.87G [00:00<?, ?B/s]"
      ]
     },
     "metadata": {},
     "output_type": "display_data"
    },
    {
     "data": {
      "application/vnd.jupyter.widget-view+json": {
       "model_id": "af13a7e2af1c448dab393f6ee5562ce8",
       "version_major": 2,
       "version_minor": 0
      },
      "text/plain": [
       "model-00008-of-00011.safetensors:   0%|          | 0.00/5.00G [00:00<?, ?B/s]"
      ]
     },
     "metadata": {},
     "output_type": "display_data"
    },
    {
     "data": {
      "application/vnd.jupyter.widget-view+json": {
       "model_id": "9a4a34dd839b421587f6164709a1b68d",
       "version_major": 2,
       "version_minor": 0
      },
      "text/plain": [
       "model-00009-of-00011.safetensors:   0%|          | 0.00/5.00G [00:00<?, ?B/s]"
      ]
     },
     "metadata": {},
     "output_type": "display_data"
    },
    {
     "data": {
      "application/vnd.jupyter.widget-view+json": {
       "model_id": "bbe9d080382a47db8ea8a2dbdf614566",
       "version_major": 2,
       "version_minor": 0
      },
      "text/plain": [
       "model-00010-of-00011.safetensors:   0%|          | 0.00/2.99G [00:00<?, ?B/s]"
      ]
     },
     "metadata": {},
     "output_type": "display_data"
    },
    {
     "data": {
      "application/vnd.jupyter.widget-view+json": {
       "model_id": "e6aa3b6094724e3c9f53caedfcaa0e8c",
       "version_major": 2,
       "version_minor": 0
      },
      "text/plain": [
       "model-00011-of-00011.safetensors:   0%|          | 0.00/4.10G [00:00<?, ?B/s]"
      ]
     },
     "metadata": {},
     "output_type": "display_data"
    },
    {
     "data": {
      "application/vnd.jupyter.widget-view+json": {
       "model_id": "d530fb1ff6af414da687f627e115d614",
       "version_major": 2,
       "version_minor": 0
      },
      "text/plain": [
       "Loading checkpoint shards:   0%|          | 0/11 [00:00<?, ?it/s]"
      ]
     },
     "metadata": {},
     "output_type": "display_data"
    },
    {
     "data": {
      "application/vnd.jupyter.widget-view+json": {
       "model_id": "ebf6e06621bb401aa617032027a1073d",
       "version_major": 2,
       "version_minor": 0
      },
      "text/plain": [
       "generation_config.json:   0%|          | 0.00/142 [00:00<?, ?B/s]"
      ]
     },
     "metadata": {},
     "output_type": "display_data"
    }
   ],
   "source": [
    "tokenizer = AutoTokenizer.from_pretrained(AYA_CHECKPOINT)\n",
    "aya_model = AutoModelForSeq2SeqLM.from_pretrained(AYA_CHECKPOINT, device_map=\"auto\")"
   ]
  },
  {
   "cell_type": "code",
   "execution_count": 19,
   "id": "563b4e79-e538-490f-b5c6-69315c275951",
   "metadata": {
    "tags": []
   },
   "outputs": [],
   "source": [
    "def aya_postprocessor(result):\n",
    "    return (\n",
    "        result\n",
    "        .replace(tokenizer.eos_token, \"\")\n",
    "        .replace(tokenizer.pad_token, \"\")\n",
    "        .replace(\".\", \"\")\n",
    "        .strip()\n",
    "    )"
   ]
  },
  {
   "cell_type": "markdown",
   "id": "8ed01d46-55ec-4412-b07f-bf2455c6f99d",
   "metadata": {
    "jp-MarkdownHeadingCollapsed": true,
    "tags": []
   },
   "source": [
    "## 4.1 Test Aya with a few translations into English.  Let's see what kind of responses it produces"
   ]
  },
  {
   "cell_type": "code",
   "execution_count": 20,
   "id": "cb03ba59-614f-4c2f-91ca-d0b3ef930c75",
   "metadata": {
    "tags": []
   },
   "outputs": [],
   "source": [
    "def test_translate_with_aya(df, G):\n",
    "    for row in tqdm(df.itertuples(), total=df.shape[0]):\n",
    "        sctid, language = row.Index\n",
    "        preferred_term = row.reference_translations[0]\n",
    "        reference_translations = G.get_concept_details(sctid).synonyms\n",
    "        # ICL\n",
    "        try:\n",
    "            icl_row = next(df[(df.index.get_level_values(0) != sctid) & (df.index.get_level_values(1) == language)].sample(1).itertuples())\n",
    "        except ValueError:\n",
    "            pass\n",
    "        else:\n",
    "            icl_sctid = icl_row.Index[0]\n",
    "            icl_preferred_term = icl_row.reference_translations[0]\n",
    "            icl_reference_translations = G.get_concept_details(icl_sctid).synonyms\n",
    "            # construct prompt\n",
    "            prompt_template = 'Translate the following clinical concept into English: \"{{PREFERRED_TERM}}\". {{TRANSLATED_TERM}}.\\n'\n",
    "            prompt = (\n",
    "                prompt_template.replace(\"{{PREFERRED_TERM}}\", icl_preferred_term).replace(\"{{TRANSLATED_TERM}}\", icl_reference_translations[0]) +\n",
    "                prompt_template.replace(\"{{PREFERRED_TERM}}\", preferred_term).replace(\"{{TRANSLATED_TERM}}.\\n\", \"\")\n",
    "            )\n",
    "            print(prompt)\n",
    "            input = tokenizer.encode(prompt, return_tensors=\"pt\").to(\"cuda\")\n",
    "            output = aya_model.generate(input, max_new_tokens=256)\n",
    "            result = tokenizer.decode(output[0])\n",
    "            result = aya_postprocessor(result)\n",
    "            \n",
    "            print(\n",
    "                colored(\"\\nSCTID: \", \"red\", attrs=['bold']),\n",
    "                sctid,\n",
    "                colored(\"\\nSource Language: \", \"red\", attrs=['bold']),\n",
    "                language,\n",
    "                colored(\"\\nPreferred Term: \", \"red\", attrs=['bold']),\n",
    "                preferred_term,\n",
    "                colored(\"\\nReference Translations: \", \"red\", attrs=['bold']),\n",
    "                reference_translations,\n",
    "                colored(\"\\nAya Translation: \", \"red\", attrs=['bold']),            \n",
    "                result,\n",
    "                \"\\n\\n\",\n",
    "                # colored(\"\\nAya Scores: \", \"red\", attrs=['bold']),\n",
    "                # \", \".join([k+\": \"+str(v) for k,v in scores.items()]),\n",
    "            )"
   ]
  },
  {
   "cell_type": "code",
   "execution_count": 21,
   "id": "6548608a-21a8-4b91-a26e-73915f49627c",
   "metadata": {
    "scrolled": true,
    "tags": []
   },
   "outputs": [
    {
     "data": {
      "application/vnd.jupyter.widget-view+json": {
       "model_id": "36f71fc255cb4eacb649f04db719dde9",
       "version_major": 2,
       "version_minor": 0
      },
      "text/plain": [
       "  0%|          | 0/10 [00:00<?, ?it/s]"
      ]
     },
     "metadata": {},
     "output_type": "display_data"
    },
    {
     "name": "stdout",
     "output_type": "stream",
     "text": [
      "Translate the following clinical concept into English: \"Koolis toimetuleku hindamine\". Assessment of performance at school.\n",
      "Translate the following clinical concept into English: \"Endosalpingioos\". \n",
      "\u001b[1m\u001b[31m\n",
      "SCTID: \u001b[0m 55850004 \u001b[1m\u001b[31m\n",
      "Source Language: \u001b[0m Estonian \u001b[1m\u001b[31m\n",
      "Preferred Term: \u001b[0m Endosalpingioos \u001b[1m\u001b[31m\n",
      "Reference Translations: \u001b[0m ['Endosalpingiosis'] \u001b[1m\u001b[31m\n",
      "Aya Translation: \u001b[0m Endosalpingitis \n",
      "\n",
      "\n",
      "Translate the following clinical concept into English: \"subjectieve refractie met nevelmethode\". Fogging.\n",
      "Translate the following clinical concept into English: \"bepalen van cobalamine in plasma\". \n",
      "\u001b[1m\u001b[31m\n",
      "SCTID: \u001b[0m 407682008 \u001b[1m\u001b[31m\n",
      "Source Language: \u001b[0m Dutch \u001b[1m\u001b[31m\n",
      "Preferred Term: \u001b[0m bepalen van cobalamine in plasma \u001b[1m\u001b[31m\n",
      "Reference Translations: \u001b[0m ['Plasma vitamin B12 level'] \u001b[1m\u001b[31m\n",
      "Aya Translation: \u001b[0m Cobalamine \n",
      "\n",
      "\n",
      "Translate the following clinical concept into English: \"bepalen van cobalamine in plasma\". Plasma vitamin B12 level.\n",
      "Translate the following clinical concept into English: \"brevetoxine\". \n",
      "\u001b[1m\u001b[31m\n",
      "SCTID: \u001b[0m 19950006 \u001b[1m\u001b[31m\n",
      "Source Language: \u001b[0m Dutch \u001b[1m\u001b[31m\n",
      "Preferred Term: \u001b[0m brevetoxine \u001b[1m\u001b[31m\n",
      "Reference Translations: \u001b[0m ['Brevetoxin', 'Brevotoxin'] \u001b[1m\u001b[31m\n",
      "Aya Translation: \u001b[0m Brevoxyl \n",
      "\n",
      "\n",
      "Translate the following clinical concept into English: \"흉강경 폐엽 절제\". Thoracoscopic lobectomy of lung.\n",
      "Translate the following clinical concept into English: \"실신 및 허탈\". \n",
      "\u001b[1m\u001b[31m\n",
      "SCTID: \u001b[0m 309585006 \u001b[1m\u001b[31m\n",
      "Source Language: \u001b[0m Korean \u001b[1m\u001b[31m\n",
      "Preferred Term: \u001b[0m 실신 및 허탈 \u001b[1m\u001b[31m\n",
      "Reference Translations: \u001b[0m ['Syncope and collapse'] \u001b[1m\u001b[31m\n",
      "Aya Translation: \u001b[0m Shock and vomiting \n",
      "\n",
      "\n",
      "Translate the following clinical concept into English: \"실신 및 허탈\". Syncope and collapse.\n",
      "Translate the following clinical concept into English: \"흉강경 폐엽 절제\". \n",
      "\u001b[1m\u001b[31m\n",
      "SCTID: \u001b[0m 75935006 \u001b[1m\u001b[31m\n",
      "Source Language: \u001b[0m Korean \u001b[1m\u001b[31m\n",
      "Preferred Term: \u001b[0m 흉강경 폐엽 절제 \u001b[1m\u001b[31m\n",
      "Reference Translations: \u001b[0m ['Thoracoscopic lobectomy of lung'] \u001b[1m\u001b[31m\n",
      "Aya Translation: \u001b[0m Thoracentesis \n",
      "\n",
      "\n",
      "Translate the following clinical concept into English: \"Endosalpingioos\". Endosalpingiosis.\n",
      "Translate the following clinical concept into English: \"Laparoskoopiline protseduur\". \n",
      "\u001b[1m\u001b[31m\n",
      "SCTID: \u001b[0m 51316009 \u001b[1m\u001b[31m\n",
      "Source Language: \u001b[0m Estonian \u001b[1m\u001b[31m\n",
      "Preferred Term: \u001b[0m Laparoskoopiline protseduur \u001b[1m\u001b[31m\n",
      "Reference Translations: \u001b[0m ['Laparoscopic-assisted procedure', 'Laparoscopic procedure'] \u001b[1m\u001b[31m\n",
      "Aya Translation: \u001b[0m Laparosurgical procedure \n",
      "\n",
      "\n",
      "Translate the following clinical concept into English: \"brevetoxine\". Brevetoxin.\n",
      "Translate the following clinical concept into English: \"subjectieve refractie met nevelmethode\". \n",
      "\u001b[1m\u001b[31m\n",
      "SCTID: \u001b[0m 421442008 \u001b[1m\u001b[31m\n",
      "Source Language: \u001b[0m Dutch \u001b[1m\u001b[31m\n",
      "Preferred Term: \u001b[0m subjectieve refractie met nevelmethode \u001b[1m\u001b[31m\n",
      "Reference Translations: \u001b[0m ['Fogging', 'Subjective refraction by fogging technique'] \u001b[1m\u001b[31m\n",
      "Aya Translation: \u001b[0m Objective refractive index \n",
      "\n",
      "\n",
      "Translate the following clinical concept into English: \"subjectieve refractie met nevelmethode\". Fogging.\n",
      "Translate the following clinical concept into English: \"EGFR-antagonist\". \n",
      "\u001b[1m\u001b[31m\n",
      "SCTID: \u001b[0m 409402009 \u001b[1m\u001b[31m\n",
      "Source Language: \u001b[0m Dutch \u001b[1m\u001b[31m\n",
      "Preferred Term: \u001b[0m EGFR-antagonist \u001b[1m\u001b[31m\n",
      "Reference Translations: \u001b[0m ['Epidermal growth factor receptor inhibitor', 'Epidermal growth factor receptor antagonist', 'EGFR (epidermal growth factor receptor) inhibitor'] \u001b[1m\u001b[31m\n",
      "Aya Translation: \u001b[0m a blocker of the epidermal growth factor receptor \n",
      "\n",
      "\n",
      "Translate the following clinical concept into English: \"Endosalpingioos\". Endosalpingiosis.\n",
      "Translate the following clinical concept into English: \"Koolis toimetuleku hindamine\". \n",
      "\u001b[1m\u001b[31m\n",
      "SCTID: \u001b[0m 710561005 \u001b[1m\u001b[31m\n",
      "Source Language: \u001b[0m Estonian \u001b[1m\u001b[31m\n",
      "Preferred Term: \u001b[0m Koolis toimetuleku hindamine \u001b[1m\u001b[31m\n",
      "Reference Translations: \u001b[0m ['Assessment of performance at school'] \u001b[1m\u001b[31m\n",
      "Aya Translation: \u001b[0m Academic performance evaluation \n",
      "\n",
      "\n"
     ]
    }
   ],
   "source": [
    "test_translate_with_aya(all_df.sample(10), G)"
   ]
  },
  {
   "cell_type": "markdown",
   "id": "94c4df2e-926e-4991-bfea-48aed0886cda",
   "metadata": {},
   "source": [
    "## 4.2 Translate from English into our target languages"
   ]
  },
  {
   "cell_type": "code",
   "execution_count": 22,
   "id": "74a2f464-b00c-4e0e-b028-be0b8aac0e6a",
   "metadata": {
    "tags": []
   },
   "outputs": [],
   "source": [
    "def prepare_aya_vanilla_prompt(row, G, df):\n",
    "    sctid, language = row.Index\n",
    "    concept = G.get_concept_details(sctid)\n",
    "    preferred_term = concept.fsn.replace(f\"({concept.hierarchy})\", \"\").strip()\n",
    "    if language == \"Swedish\":\n",
    "        return f'Translate the following clinical concept into Swedish: \"Pain disorder with psychological factor\". smärtsyndrom med psykologisk faktor.\\nTranslate the following clinical concept into Swedish: \"{preferred_term}\". '\n",
    "    elif language == \"Estonian\":\n",
    "        return f'Translate the following clinical concept into Estonian: \"Osseous choristoma\". Luuline koristoom. \\nTranslate the following clinical concept into Estonian: \"{preferred_term}\". '\n",
    "    elif language == \"Korean\":\n",
    "        return f'Translate the following clinical concept into Korean: \"Endoscopic excision of lesion of esophagus\". 식도 병변 내시경 절제. \\nTranslate the following clinical concept into Korean: \"{preferred_term}\". '\n",
    "    elif language == \"Dutch\":\n",
    "        return f'Translate the following clinical concept into Dutch: \"Open repair of lumbar hernia using biological mesh\".  open hernioplastiek van hernia lumbalis met biologisch matje.\\nTranslate the following clinical concept into Dutch: \"{preferred_term}\". '\n",
    "    else:\n",
    "        raise ValueError()"
   ]
  },
  {
   "cell_type": "code",
   "execution_count": 23,
   "id": "2e947485-cfe1-4db4-ba14-abd7bfa83789",
   "metadata": {
    "tags": []
   },
   "outputs": [],
   "source": [
    "def translate_with_aya(df, G, prompt_assembler, ref_df=None, results_filepath=None, rebuild=False, save=False):\n",
    "\n",
    "    if rebuild:\n",
    "        results = dict()\n",
    "    else:\n",
    "        with open(results_filepath, \"r\") as f:\n",
    "            results = json.load(f)\n",
    "    \n",
    "    for row in tqdm(df.itertuples(), total=df.shape[0]):\n",
    "        sctid, language = row.Index\n",
    "        key = str(sctid) + \"_\" + language\n",
    "        try:\n",
    "            yield results[key]\n",
    "        except KeyError:\n",
    "            prompt = prompt_assembler(row, G, ref_df)\n",
    "            input = tokenizer.encode(prompt, return_tensors=\"pt\").to(\"cuda\")\n",
    "            output = aya_model.generate(input, max_new_tokens=256)\n",
    "            result = tokenizer.decode(output[0])\n",
    "            result = aya_postprocessor(result)\n",
    "            results[key] = result\n",
    "            yield result\n",
    "\n",
    "    if save:\n",
    "        with open(results_filepath, \"w\") as f:\n",
    "            json.dump(results, f)"
   ]
  },
  {
   "cell_type": "code",
   "execution_count": 24,
   "id": "bdc4008f-8f2c-4657-b5d3-08ba737e852b",
   "metadata": {
    "scrolled": true,
    "tags": []
   },
   "outputs": [
    {
     "data": {
      "application/vnd.jupyter.widget-view+json": {
       "model_id": "4a230dcbed784737b02d380d4e21af9d",
       "version_major": 2,
       "version_minor": 0
      },
      "text/plain": [
       "  0%|          | 0/12640 [00:00<?, ?it/s]"
      ]
     },
     "metadata": {},
     "output_type": "display_data"
    }
   ],
   "source": [
    "all_df[\"aya_vanilla_translation\"] = list(translate_with_aya(\n",
    "    all_df, G, prepare_aya_vanilla_prompt, PATH_TO_AYA_VANILLA_TRANSLATION_RESULTS, rebuild=True, save=False\n",
    "))"
   ]
  },
  {
   "cell_type": "code",
   "execution_count": 25,
   "id": "0e33d198-27a3-4ac5-a883-743e37ee6e33",
   "metadata": {
    "tags": []
   },
   "outputs": [
    {
     "data": {
      "text/plain": [
       "{'exact_match': 0.03235759493670886,\n",
       " 'levenshtein_ratio': 0.608165798751417,\n",
       " 'google_bleu': 0.1350622406639004,\n",
       " 'cer_score': 0.5526435448522717}"
      ]
     },
     "execution_count": 25,
     "metadata": {},
     "output_type": "execute_result"
    }
   ],
   "source": [
    "evaluate_translations(all_df, \"aya_vanilla_translation\")"
   ]
  },
  {
   "cell_type": "code",
   "execution_count": 33,
   "id": "ba718b0f-1e58-44c7-86ac-587f8fd00221",
   "metadata": {
    "tags": []
   },
   "outputs": [],
   "source": [
    "all_df.to_csv(ALL_OUTPUT_PATH)"
   ]
  },
  {
   "cell_type": "markdown",
   "id": "b8a04795-ddf7-4a49-a295-31ab317dd209",
   "metadata": {
    "jp-MarkdownHeadingCollapsed": true
   },
   "source": [
    "# 5. Evaluate Aya with enriched prompt"
   ]
  },
  {
   "cell_type": "code",
   "execution_count": null,
   "id": "42ef7512-8caa-4ae0-abf1-51824375ebae",
   "metadata": {},
   "outputs": [],
   "source": [
    "enriched_prompt_template = \"\"\"\n",
    "You are a medical translation expert.\n",
    "Your job is to translate formal clinical terms found within the SNOMED Concept Terminology into {{TARGET_LANGUAGE}}.\n",
    "The concept you need to translate is “{{PREFERRED_TERM}}”.\n",
    "Here is some information about the concept which may help you:\n",
    "{{SYNONYMS_FRAGMENT}}\n",
    "{{HIERARCHY_FRAGMENT}}\n",
    "{{PARENTS_FRAGMENT}}\n",
    "{{RELATIONSHIPS_FRAGMENT}}\n",
    "Now, the translation of “{{PREFERRED_TERM}}” into {{TARGET_LANGUAGE}} is:\"\"\""
   ]
  },
  {
   "cell_type": "code",
   "execution_count": null,
   "id": "2decaf75-a82d-4176-9dea-58aca84337e5",
   "metadata": {},
   "outputs": [],
   "source": [
    "def generate_prompt_synonyms_fragment(preferred_term, synonyms):\n",
    "    if len(synonyms) == 0:\n",
    "        return \"\"\n",
    "    else:\n",
    "        syn_str = '\"' + '\" and \"'.join(synonyms) + '\"'\n",
    "        return f'In English, synonyms for \"{preferred_term}\" include: {syn_str}.'"
   ]
  },
  {
   "cell_type": "code",
   "execution_count": null,
   "id": "f03f3b5f-3990-4b7b-8615-8fddb03181cf",
   "metadata": {},
   "outputs": [],
   "source": [
    "def generate_prompt_hierarchy_fragment(preferred_term, hierarchy):\n",
    "    return f'\"{preferred_term}\" is a {hierarchy}.'"
   ]
  },
  {
   "cell_type": "code",
   "execution_count": null,
   "id": "d849132e-eee2-4393-9123-a35190cd934a",
   "metadata": {},
   "outputs": [],
   "source": [
    "def generate_prompt_parents_fragment(preferred_term, parents):\n",
    "    fragment = \"\"\n",
    "    for p in parents:\n",
    "        fragment += f'\"{preferred_term}\" is a kind of {p.synonyms[0]}.\\n'\n",
    "    return fragment"
   ]
  },
  {
   "cell_type": "code",
   "execution_count": null,
   "id": "38742d6a-36b5-44d0-bcfb-3f4110d6f08a",
   "metadata": {},
   "outputs": [],
   "source": [
    "def generate_prompt_relationships_fragment(preferred_term, relationship_groups):\n",
    "    fragment = \"\"\n",
    "    for g in relationship_groups:\n",
    "        for r in g.relationships:\n",
    "            type = r.type.replace(\" (attribute)\", \"\").lower()\n",
    "            tgt = r.tgt.synonyms[0]\n",
    "            fragment += f'\"{preferred_term}\" has {type} {tgt}\\n'\n",
    "    return fragment"
   ]
  },
  {
   "cell_type": "code",
   "execution_count": null,
   "id": "11c62256-eb64-4acd-9143-4ec0ce0396b5",
   "metadata": {},
   "outputs": [],
   "source": [
    "def prepare_aya_enriched_prompt(row, G, df):\n",
    "    sctid, language = row.Index\n",
    "    concept = G.get_full_concept(sctid)\n",
    "    preferred_term = concept.synonyms[0]\n",
    "    return (\n",
    "        enriched_prompt_template\n",
    "        .replace(\"{{TARGET_LANGUAGE}}\", language)\n",
    "        .replace(\"{{PREFERRED_TERM}}\", preferred_term)\n",
    "        .replace(\"{{SYNONYMS_FRAGMENT}}\", generate_prompt_synonyms_fragment(preferred_term, concept.synonyms[1:]))\n",
    "        .replace(\"{{HIERARCHY_FRAGMENT}}\", generate_prompt_hierarchy_fragment(preferred_term, concept.hierarchy))\n",
    "        .replace(\"{{PARENTS_FRAGMENT}}\", generate_prompt_parents_fragment(preferred_term, concept.parents))\n",
    "        .replace(\"{{RELATIONSHIPS_FRAGMENT}}\", generate_prompt_relationships_fragment(preferred_term, concept.inferred_relationship_groups))\n",
    "        .replace(\"\\n\\n\", \"\\n\")\n",
    "    )"
   ]
  },
  {
   "cell_type": "code",
   "execution_count": null,
   "id": "76fa6935-96ca-4227-99e4-ffd4682fe558",
   "metadata": {},
   "outputs": [],
   "source": [
    "print(prepare_aya_enriched_prompt(next(all_df.itertuples()), G, df))"
   ]
  },
  {
   "cell_type": "code",
   "execution_count": null,
   "id": "b03ef629-dc72-4351-abdc-41e67c5f43f2",
   "metadata": {},
   "outputs": [],
   "source": [
    "df[\"aya_enriched_translation\"] = list(translate_with_aya(all_df, G, prepare_aya_enriched_prompt, PATH_TO_AYA_ENRICHED_TRANSLATION_RESULTS, rebuild=True))"
   ]
  },
  {
   "cell_type": "code",
   "execution_count": null,
   "id": "65c9ddee-b928-478b-a082-cb412e835826",
   "metadata": {},
   "outputs": [],
   "source": [
    "evaluate_translations(all_df, \"aya_enriched_translation\")"
   ]
  },
  {
   "cell_type": "markdown",
   "id": "5e09ae0a-ecf2-4ff9-a82d-dcbf8ef3c8d6",
   "metadata": {},
   "source": [
    "# 6. Translate Context Tier 1 Concepts"
   ]
  },
  {
   "cell_type": "code",
   "execution_count": 26,
   "id": "811b00b4-9069-490f-866c-8b347f7b5bca",
   "metadata": {
    "tags": []
   },
   "outputs": [],
   "source": [
    "def prepare_aya_ct1_prompt(row, G, ref_df):\n",
    "    sctid, language = row.Index\n",
    "    concept = G.get_full_concept(sctid)\n",
    "    preferred_term = concept.fsn.replace(f\"({concept.hierarchy})\", \"\").strip()\n",
    "    parent_concepts = [\n",
    "        G.get_full_concept(p.sctid) for p in concept.parents\n",
    "    ]\n",
    "    parent_data = [\n",
    "        (\n",
    "            c.fsn.replace(f\"({c.hierarchy})\", \"\").strip(),\n",
    "            ref_df.loc[(c.sctid, language)].reference_translations[0],\n",
    "        )\n",
    "        for c in parent_concepts\n",
    "    ]\n",
    "    prompt_fragments = [\n",
    "        f'Translate the following clinical concept into {language}: \"{pt}\". {rt}.'\n",
    "        for pt, rt in parent_data\n",
    "    ]    \n",
    "    prompt = '\\n'.join(prompt_fragments)\n",
    "    prompt += f'\\nTranslate the following clinical concept into {language}: \"{preferred_term}\". '\n",
    "    \n",
    "    return prompt"
   ]
  },
  {
   "cell_type": "code",
   "execution_count": 27,
   "id": "75dbd4e3-faed-41d3-a614-7720e304679f",
   "metadata": {
    "tags": []
   },
   "outputs": [
    {
     "data": {
      "text/plain": [
       "8657"
      ]
     },
     "execution_count": 27,
     "metadata": {},
     "output_type": "execute_result"
    }
   ],
   "source": [
    "ct1_df = all_df[all_df.context_tier.isin([\"Tier 1\", \"Tier 2\"])]\n",
    "ct1_df.shape[0]"
   ]
  },
  {
   "cell_type": "code",
   "execution_count": 28,
   "id": "0ac818ad-5856-4732-b54f-915bd5006966",
   "metadata": {
    "tags": []
   },
   "outputs": [
    {
     "data": {
      "application/vnd.jupyter.widget-view+json": {
       "model_id": "e6b24c051d5c497c9162db5c793a4ea8",
       "version_major": 2,
       "version_minor": 0
      },
      "text/plain": [
       "  0%|          | 0/8657 [00:00<?, ?it/s]"
      ]
     },
     "metadata": {},
     "output_type": "display_data"
    },
    {
     "name": "stderr",
     "output_type": "stream",
     "text": [
      "/tmp/ipykernel_49020/2817531280.py:1: SettingWithCopyWarning: \n",
      "A value is trying to be set on a copy of a slice from a DataFrame.\n",
      "Try using .loc[row_indexer,col_indexer] = value instead\n",
      "\n",
      "See the caveats in the documentation: https://pandas.pydata.org/pandas-docs/stable/user_guide/indexing.html#returning-a-view-versus-a-copy\n",
      "  ct1_df[\"aya_ct1_translation\"] = list(translate_with_aya(ct1_df, G, prepare_aya_ct1_prompt, ref_df, None, rebuild=True, save=False))\n"
     ]
    }
   ],
   "source": [
    "ct1_df[\"aya_ct1_translation\"] = list(translate_with_aya(ct1_df, G, prepare_aya_ct1_prompt, ref_df, None, rebuild=True, save=False))"
   ]
  },
  {
   "cell_type": "code",
   "execution_count": 29,
   "id": "dc54637b-16b0-4ffe-90ec-fd3d43950b34",
   "metadata": {
    "tags": []
   },
   "outputs": [
    {
     "data": {
      "text/plain": [
       "{'exact_match': 0.13734550075083748,\n",
       " 'levenshtein_ratio': 0.728187395794738,\n",
       " 'google_bleu': 0.319951960733121,\n",
       " 'cer_score': 0.4275629513922285}"
      ]
     },
     "execution_count": 29,
     "metadata": {},
     "output_type": "execute_result"
    }
   ],
   "source": [
    "evaluate_translations(ct1_df, \"aya_ct1_translation\")"
   ]
  },
  {
   "cell_type": "code",
   "execution_count": 45,
   "id": "c9f52fd0-b32e-4d78-bf7d-eabe420dd72b",
   "metadata": {
    "tags": []
   },
   "outputs": [],
   "source": [
    "ct1_df.to_csv(CT1_OUTPUT_PATH)"
   ]
  },
  {
   "cell_type": "markdown",
   "id": "8087ea21-5759-4557-92e5-3fd715e1fc9c",
   "metadata": {},
   "source": [
    "# 7. Translate all Context Tier 2 Concepts"
   ]
  },
  {
   "cell_type": "code",
   "execution_count": 30,
   "id": "2cc47fcf-018d-4b9a-b089-09ff68b0392a",
   "metadata": {
    "tags": []
   },
   "outputs": [
    {
     "data": {
      "text/plain": [
       "3385"
      ]
     },
     "execution_count": 30,
     "metadata": {},
     "output_type": "execute_result"
    }
   ],
   "source": [
    "ct2_df = ct1_df[ct1_df.context_tier == \"Tier 2\"]\n",
    "ct2_df.shape[0]"
   ]
  },
  {
   "cell_type": "code",
   "execution_count": 33,
   "id": "80bf9a45-4f90-4bf3-b3f5-5ac60e890c8b",
   "metadata": {
    "tags": []
   },
   "outputs": [],
   "source": [
    "def prepare_aya_ct2_prompt(row, G, ref_df):\n",
    "    sctid, language = row.Index\n",
    "    concept = G.get_full_concept(sctid)\n",
    "    preferred_term = concept.fsn.replace(f\"({concept.hierarchy})\", \"\").strip()\n",
    "    parent_concepts = [\n",
    "        G.get_full_concept(p.sctid) for p in concept.parents\n",
    "    ]\n",
    "    parent_data = [\n",
    "        (\n",
    "            c.fsn.replace(f\"({c.hierarchy})\", \"\").strip(),\n",
    "            ref_df.loc[(c.sctid, language)].reference_translations[0],\n",
    "        )\n",
    "        for c in parent_concepts\n",
    "    ] \n",
    "    related_concepts = [\n",
    "        G.get_full_concept(r.tgt.sctid)\n",
    "        for g in concept.inferred_relationship_groups\n",
    "        for r in g.relationships\n",
    "        if r.type in important_attributes        \n",
    "    ]    \n",
    "    relationship_data = [\n",
    "        (\n",
    "            c.fsn.replace(f\"({c.hierarchy})\", \"\").strip(),\n",
    "            ref_df.loc[(c.sctid, language)].reference_translations[0],\n",
    "        )\n",
    "        for c in related_concepts\n",
    "    ]\n",
    "    prompt_fragments = [\n",
    "        f'Translate the following clinical concept into {language}: \"{pt}\". {rt}.'\n",
    "        for pt, rt in chain(parent_data, relationship_data)\n",
    "    ]\n",
    "    prompt = '\\n'.join(prompt_fragments)\n",
    "    prompt += f'\\nTranslate the following clinical concept into {language}: \"{preferred_term}\". '\n",
    "    \n",
    "    return prompt"
   ]
  },
  {
   "cell_type": "code",
   "execution_count": 36,
   "id": "2a2c580c-faa4-4168-b0bf-0dfdc4d1e778",
   "metadata": {
    "tags": []
   },
   "outputs": [
    {
     "name": "stdout",
     "output_type": "stream",
     "text": [
      "Translate the following clinical concept into Swedish: \"Structure of component of left knee joint\". komponent i vänster knäled.\n",
      "Translate the following clinical concept into Swedish: \"Structure of infrapatellar fat pad\". infrapatellar fettkudde, struktur.\n",
      "Translate the following clinical concept into Swedish: \"Structure of soft tissue of left knee region\". mjukdelar i vänster knäregion, struktur.\n",
      "Translate the following clinical concept into Swedish: \"Left\". vänster.\n",
      "Translate the following clinical concept into Swedish: \"Structure of infrapatellar fat pad of left knee\". \n"
     ]
    }
   ],
   "source": [
    "print(prepare_aya_ct2_prompt(next(ct2_df.sample(1).itertuples()), G, ref_df))"
   ]
  },
  {
   "cell_type": "code",
   "execution_count": 37,
   "id": "8e2598da-428b-42f3-a0aa-29e62ce9cc08",
   "metadata": {
    "tags": []
   },
   "outputs": [
    {
     "data": {
      "application/vnd.jupyter.widget-view+json": {
       "model_id": "c988ac55a2244c1a944491ede355574b",
       "version_major": 2,
       "version_minor": 0
      },
      "text/plain": [
       "  0%|          | 0/3385 [00:00<?, ?it/s]"
      ]
     },
     "metadata": {},
     "output_type": "display_data"
    },
    {
     "name": "stderr",
     "output_type": "stream",
     "text": [
      "/tmp/ipykernel_49020/2093963965.py:1: SettingWithCopyWarning: \n",
      "A value is trying to be set on a copy of a slice from a DataFrame.\n",
      "Try using .loc[row_indexer,col_indexer] = value instead\n",
      "\n",
      "See the caveats in the documentation: https://pandas.pydata.org/pandas-docs/stable/user_guide/indexing.html#returning-a-view-versus-a-copy\n",
      "  ct2_df[\"aya_ct2_translation\"] = list(translate_with_aya(ct2_df, G, prepare_aya_ct2_prompt, ref_df, None, rebuild=True, save=False))\n"
     ]
    }
   ],
   "source": [
    "ct2_df[\"aya_ct2_translation\"] = list(translate_with_aya(ct2_df, G, prepare_aya_ct2_prompt, ref_df, None, rebuild=True, save=False))"
   ]
  },
  {
   "cell_type": "code",
   "execution_count": 46,
   "id": "5de087d7-1e1b-4f53-b534-09f5f10199bb",
   "metadata": {
    "tags": []
   },
   "outputs": [],
   "source": [
    "ct2_df.to_csv(CT2_OUTPUT_PATH)"
   ]
  },
  {
   "cell_type": "code",
   "execution_count": 39,
   "id": "8c3bb79c-760b-4a1d-a828-769216fb80f3",
   "metadata": {
    "tags": []
   },
   "outputs": [
    {
     "data": {
      "text/plain": [
       "{'exact_match': 0.029542097488921712,\n",
       " 'levenshtein_ratio': 0.7410458413981232,\n",
       " 'google_bleu': 0.23576125787880856,\n",
       " 'cer_score': 0.3833977515011684}"
      ]
     },
     "execution_count": 39,
     "metadata": {},
     "output_type": "execute_result"
    }
   ],
   "source": [
    "evaluate_translations(ct2_df, \"deepl_translation\")"
   ]
  },
  {
   "cell_type": "code",
   "execution_count": 40,
   "id": "7f2c945c-b63a-4b22-8a65-f7b8354d0869",
   "metadata": {
    "tags": []
   },
   "outputs": [
    {
     "data": {
      "text/plain": [
       "{'exact_match': 0.017134416543574595,\n",
       " 'levenshtein_ratio': 0.6408576229242886,\n",
       " 'google_bleu': 0.1414389291689905,\n",
       " 'cer_score': 0.5252350058012286}"
      ]
     },
     "execution_count": 40,
     "metadata": {},
     "output_type": "execute_result"
    }
   ],
   "source": [
    "evaluate_translations(ct2_df, \"aya_vanilla_translation\")"
   ]
  },
  {
   "cell_type": "code",
   "execution_count": 41,
   "id": "67e82db9-e9e4-4dbc-a5c4-864fd04baaac",
   "metadata": {
    "tags": []
   },
   "outputs": [
    {
     "data": {
      "text/plain": [
       "{'exact_match': 0.14741506646971936,\n",
       " 'levenshtein_ratio': 0.7522362039048198,\n",
       " 'google_bleu': 0.34068437378829003,\n",
       " 'cer_score': 0.3937319129928592}"
      ]
     },
     "execution_count": 41,
     "metadata": {},
     "output_type": "execute_result"
    }
   ],
   "source": [
    "evaluate_translations(ct2_df, \"aya_ct1_translation\")"
   ]
  },
  {
   "cell_type": "code",
   "execution_count": 42,
   "id": "19fb3084-ef7f-4155-8317-05298464c509",
   "metadata": {
    "tags": []
   },
   "outputs": [
    {
     "data": {
      "text/plain": [
       "{'exact_match': 0.19409158050221564,\n",
       " 'levenshtein_ratio': 0.7677767004169138,\n",
       " 'google_bleu': 0.36000487745396903,\n",
       " 'cer_score': 0.3735057730979672}"
      ]
     },
     "execution_count": 42,
     "metadata": {},
     "output_type": "execute_result"
    }
   ],
   "source": [
    "evaluate_translations(ct2_df, \"aya_ct2_translation\")"
   ]
  },
  {
   "cell_type": "markdown",
   "id": "c9a40e17-a184-4470-b4a2-f07de4d7fb1b",
   "metadata": {},
   "source": [
    "# 8. Final Evaluations"
   ]
  },
  {
   "cell_type": "code",
   "execution_count": 17,
   "id": "bb2d835d-e5c8-4c66-8ea2-1662bd63b594",
   "metadata": {},
   "outputs": [],
   "source": [
    "all_df = pd.read_csv(ALL_OUTPUT_PATH).set_index([\"sctid\", \"language\"])\n",
    "ct1_df = pd.read_csv(CT1_OUTPUT_PATH).set_index([\"sctid\", \"language\"])\n",
    "ct2_df = pd.read_csv(CT2_OUTPUT_PATH).set_index([\"sctid\", \"language\"])"
   ]
  },
  {
   "cell_type": "markdown",
   "id": "19bbd0e6-bad0-4382-a7d4-f217e73f6cbe",
   "metadata": {},
   "source": [
    "# Sampling"
   ]
  },
  {
   "cell_type": "code",
   "execution_count": 48,
   "id": "c40afcb0-189f-4046-80ee-a3b913909a3e",
   "metadata": {
    "scrolled": true,
    "tags": []
   },
   "outputs": [
    {
     "name": "stdout",
     "output_type": "stream",
     "text": [
      "\u001b[1m\u001b[31m\n",
      "SCTID: \u001b[0m 306258004 \u001b[1m\u001b[31m\n",
      "Target Language: \u001b[0m Dutch \u001b[1m\u001b[31m\n",
      "English Preferred Term: \u001b[0m Referral to ITU specialist \u001b[1m\u001b[31m\n",
      "Reference Translations: \u001b[0m ['verwijzen naar intensivist', 'verwijzen naar IC-arts', \"verwijzen naar specialist 'intensive care'\"] \u001b[1m\u001b[31m\n",
      "DeepL Translation: \u001b[0m Verwijzing naar intensive care specialist \u001b[1m\u001b[31m\n",
      "DeepL Scores: \u001b[0m exact_match: 0.0, levenshtein_ratio: 0.7164179104477613, google_bleu: 0.14285714285714285, cer_score: 0.2804878048780488 \u001b[1m\u001b[31m\n",
      "Vanilla Aya Translation: \u001b[0m Verwijzing naar een intensivist \u001b[1m\u001b[31m\n",
      "Vanilla Aya Scores: \u001b[0m exact_match: 0.0, levenshtein_ratio: 0.8421052631578947, google_bleu: 0.2, cer_score: 0.22580645161290322 \u001b[1m\u001b[31m\n",
      "Aya CT1 Translation: \u001b[0m verwijzen naar ITU specialist \u001b[1m\u001b[31m\n",
      "Aya CT1 Scores: \u001b[0m exact_match: 0.0, levenshtein_ratio: 0.7272727272727273, google_bleu: 0.3, cer_score: 0.3448275862068966 \u001b[1m\u001b[31m\n",
      "Aya CT2 Translation: \u001b[0m verwijzen naar ITU specialist \u001b[1m\u001b[31m\n",
      "Aya CT2 Scores: \u001b[0m exact_match: 0.0, levenshtein_ratio: 0.7272727272727273, google_bleu: 0.3, cer_score: 0.3448275862068966\n",
      "\u001b[1m\u001b[31m\n",
      "SCTID: \u001b[0m 66498007 \u001b[1m\u001b[31m\n",
      "Target Language: \u001b[0m Swedish \u001b[1m\u001b[31m\n",
      "English Preferred Term: \u001b[0m Posterior cubital region \u001b[1m\u001b[31m\n",
      "Reference Translations: \u001b[0m ['posterior regio cubiti, struktur'] \u001b[1m\u001b[31m\n",
      "DeepL Translation: \u001b[0m Struktur av bakre cubitalregionen \u001b[1m\u001b[31m\n",
      "DeepL Scores: \u001b[0m exact_match: 0.0, levenshtein_ratio: 0.4, google_bleu: 0.0, cer_score: 0.7575757575757576 \u001b[1m\u001b[31m\n",
      "Vanilla Aya Translation: \u001b[0m Strukturen av den bakre lårregionen \u001b[1m\u001b[31m\n",
      "Vanilla Aya Scores: \u001b[0m exact_match: 0.0, levenshtein_ratio: 0.29850746268656714, google_bleu: 0.0, cer_score: 0.8571428571428571 \u001b[1m\u001b[31m\n",
      "Aya CT1 Translation: \u001b[0m bakre lårregionen \u001b[1m\u001b[31m\n",
      "Aya CT1 Scores: \u001b[0m exact_match: 0.0, levenshtein_ratio: 0.2857142857142857, google_bleu: 0.0, cer_score: 1.0 \u001b[1m\u001b[31m\n",
      "Aya CT2 Translation: \u001b[0m bakre lårregionen \u001b[1m\u001b[31m\n",
      "Aya CT2 Scores: \u001b[0m exact_match: 0.0, levenshtein_ratio: 0.2857142857142857, google_bleu: 0.0, cer_score: 1.0\n",
      "\u001b[1m\u001b[31m\n",
      "SCTID: \u001b[0m 302693002 \u001b[1m\u001b[31m\n",
      "Target Language: \u001b[0m Dutch \u001b[1m\u001b[31m\n",
      "English Preferred Term: \u001b[0m Entire sural artery \u001b[1m\u001b[31m\n",
      "Reference Translations: \u001b[0m ['gehele surale arterie'] \u001b[1m\u001b[31m\n",
      "DeepL Translation: \u001b[0m Gehele arteria suralis \u001b[1m\u001b[31m\n",
      "DeepL Scores: \u001b[0m exact_match: 0.0, levenshtein_ratio: 0.5581395348837209, google_bleu: 0.0, cer_score: 0.5909090909090909 \u001b[1m\u001b[31m\n",
      "Vanilla Aya Translation: \u001b[0m gehele sphenoïdale arterie \u001b[1m\u001b[31m\n",
      "Vanilla Aya Scores: \u001b[0m exact_match: 0.0, levenshtein_ratio: 0.8085106382978724, google_bleu: 0.3333333333333333, cer_score: 0.2692307692307692 \u001b[1m\u001b[31m\n",
      "Aya CT1 Translation: \u001b[0m gehele surale arterie \u001b[1m\u001b[31m\n",
      "Aya CT1 Scores: \u001b[0m exact_match: 1.0, levenshtein_ratio: 1.0, google_bleu: 1.0, cer_score: 0.0 \u001b[1m\u001b[31m\n",
      "Aya CT2 Translation: \u001b[0m gehele surale arterie \u001b[1m\u001b[31m\n",
      "Aya CT2 Scores: \u001b[0m exact_match: 1.0, levenshtein_ratio: 1.0, google_bleu: 1.0, cer_score: 0.0\n",
      "\u001b[1m\u001b[31m\n",
      "SCTID: \u001b[0m 838446004 \u001b[1m\u001b[31m\n",
      "Target Language: \u001b[0m Swedish \u001b[1m\u001b[31m\n",
      "English Preferred Term: \u001b[0m Endoscopic balloon sphincteroplasty of duodenal papilla \u001b[1m\u001b[31m\n",
      "Reference Translations: \u001b[0m ['endoskopisk ballongvidgning av papilla duodeni'] \u001b[1m\u001b[31m\n",
      "DeepL Translation: \u001b[0m Endoskopisk ballongdilatation av duodenal papill \u001b[1m\u001b[31m\n",
      "DeepL Scores: \u001b[0m exact_match: 0.0, levenshtein_ratio: 0.6808510638297872, google_bleu: 0.07142857142857142, cer_score: 0.4791666666666667 \u001b[1m\u001b[31m\n",
      "Vanilla Aya Translation: \u001b[0m Endoskopisk ballongdilatation av duodenal papilla \u001b[1m\u001b[31m\n",
      "Vanilla Aya Scores: \u001b[0m exact_match: 0.0, levenshtein_ratio: 0.6736842105263158, google_bleu: 0.14285714285714285, cer_score: 0.3877551020408163 \u001b[1m\u001b[31m\n",
      "Aya CT1 Translation: \u001b[0m Endoskopisk ballongsfinkteroplasti av papilla duodeni \u001b[1m\u001b[31m\n",
      "Aya CT1 Scores: \u001b[0m exact_match: 0.0, levenshtein_ratio: 0.8080808080808081, google_bleu: 0.42857142857142855, cer_score: 0.2830188679245283 \u001b[1m\u001b[31m\n",
      "Aya CT2 Translation: \u001b[0m endoskopisk ballongsfinkteroplastik av papilla duodeni \u001b[1m\u001b[31m\n",
      "Aya CT2 Scores: \u001b[0m exact_match: 0.0, levenshtein_ratio: 0.8200000000000001, google_bleu: 0.5, cer_score: 0.2777777777777778\n",
      "\u001b[1m\u001b[31m\n",
      "SCTID: \u001b[0m 247033008 \u001b[1m\u001b[31m\n",
      "Target Language: \u001b[0m Dutch \u001b[1m\u001b[31m\n",
      "English Preferred Term: \u001b[0m Heterochromic iris \u001b[1m\u001b[31m\n",
      "Reference Translations: \u001b[0m ['heterochromia iridis', 'heterochromie van iris'] \u001b[1m\u001b[31m\n",
      "DeepL Translation: \u001b[0m Heterochrome iris \u001b[1m\u001b[31m\n",
      "DeepL Scores: \u001b[0m exact_match: 0.0, levenshtein_ratio: 0.8205128205128205, google_bleu: 0.16666666666666666, cer_score: 0.29411764705882354 \u001b[1m\u001b[31m\n",
      "Vanilla Aya Translation: \u001b[0m Heterochromische iris \u001b[1m\u001b[31m\n",
      "Vanilla Aya Scores: \u001b[0m exact_match: 0.0, levenshtein_ratio: 0.7906976744186046, google_bleu: 0.16666666666666666, cer_score: 0.2857142857142857 \u001b[1m\u001b[31m\n",
      "Aya CT1 Translation: \u001b[0m Heterochrome iris \u001b[1m\u001b[31m\n",
      "Aya CT1 Scores: \u001b[0m exact_match: 0.0, levenshtein_ratio: 0.8205128205128205, google_bleu: 0.16666666666666666, cer_score: 0.29411764705882354 \u001b[1m\u001b[31m\n",
      "Aya CT2 Translation: \u001b[0m Heterochrome iris \u001b[1m\u001b[31m\n",
      "Aya CT2 Scores: \u001b[0m exact_match: 0.0, levenshtein_ratio: 0.8205128205128205, google_bleu: 0.16666666666666666, cer_score: 0.29411764705882354\n",
      "\u001b[1m\u001b[31m\n",
      "SCTID: \u001b[0m 249400000 \u001b[1m\u001b[31m\n",
      "Target Language: \u001b[0m Dutch \u001b[1m\u001b[31m\n",
      "English Preferred Term: \u001b[0m Oral mucosa finding \u001b[1m\u001b[31m\n",
      "Reference Translations: \u001b[0m ['bevinding betreffende mucosa van mond', 'bevinding betreffende tunica mucosa oris', 'bevinding betreffende orale mucosa'] \u001b[1m\u001b[31m\n",
      "DeepL Translation: \u001b[0m Orale mucosale bevinding \u001b[1m\u001b[31m\n",
      "DeepL Scores: \u001b[0m exact_match: 0.0, levenshtein_ratio: 0.42622950819672134, google_bleu: 0.1, cer_score: 0.8958333333333334 \u001b[1m\u001b[31m\n",
      "Vanilla Aya Translation: \u001b[0m mondholte-onderzoek \u001b[1m\u001b[31m\n",
      "Vanilla Aya Scores: \u001b[0m exact_match: 0.0, levenshtein_ratio: 0.339622641509434, google_bleu: 0.0, cer_score: 1.0 \u001b[1m\u001b[31m\n",
      "Aya CT1 Translation: \u001b[0m mondholtebevinding \u001b[1m\u001b[31m\n",
      "Aya CT1 Scores: \u001b[0m exact_match: 0.0, levenshtein_ratio: 0.34615384615384615, google_bleu: 0.0, cer_score: 1.0 \u001b[1m\u001b[31m\n",
      "Aya CT2 Translation: \u001b[0m bevinding betreffende de mondholte \u001b[1m\u001b[31m\n",
      "Aya CT2 Scores: \u001b[0m exact_match: 0.0, levenshtein_ratio: 0.7647058823529411, google_bleu: 0.3, cer_score: 0.3235294117647059\n",
      "\u001b[1m\u001b[31m\n",
      "SCTID: \u001b[0m 88797001 \u001b[1m\u001b[31m\n",
      "Target Language: \u001b[0m Korean \u001b[1m\u001b[31m\n",
      "English Preferred Term: \u001b[0m Complication of surgical procedure \u001b[1m\u001b[31m\n",
      "Reference Translations: \u001b[0m ['수술적 처치의 합병증'] \u001b[1m\u001b[31m\n",
      "DeepL Translation: \u001b[0m 수술 과정의 합병증 \u001b[1m\u001b[31m\n",
      "DeepL Scores: \u001b[0m exact_match: 0.0, levenshtein_ratio: 0.7619047619047619, google_bleu: 0.16666666666666666, cer_score: 0.3 \u001b[1m\u001b[31m\n",
      "Vanilla Aya Translation: \u001b[0m 수술 과정의 합병증 \u001b[1m\u001b[31m\n",
      "Vanilla Aya Scores: \u001b[0m exact_match: 0.0, levenshtein_ratio: 0.7619047619047619, google_bleu: 0.16666666666666666, cer_score: 0.3 \u001b[1m\u001b[31m\n",
      "Aya CT1 Translation: \u001b[0m 수술 합병증 \u001b[1m\u001b[31m\n",
      "Aya CT1 Scores: \u001b[0m exact_match: 0.0, levenshtein_ratio: 0.7058823529411764, google_bleu: 0.16666666666666666, cer_score: 0.8333333333333334 \u001b[1m\u001b[31m\n",
      "Aya CT2 Translation: \u001b[0m 수술 합병증 \u001b[1m\u001b[31m\n",
      "Aya CT2 Scores: \u001b[0m exact_match: 0.0, levenshtein_ratio: 0.7058823529411764, google_bleu: 0.16666666666666666, cer_score: 0.8333333333333334\n",
      "\u001b[1m\u001b[31m\n",
      "SCTID: \u001b[0m 449319009 \u001b[1m\u001b[31m\n",
      "Target Language: \u001b[0m Estonian \u001b[1m\u001b[31m\n",
      "English Preferred Term: \u001b[0m Melanocytic naevus of skin of chest \u001b[1m\u001b[31m\n",
      "Reference Translations: \u001b[0m ['Rindkere naha melanotsüütneevus'] \u001b[1m\u001b[31m\n",
      "DeepL Translation: \u001b[0m Melanotsüütiline naavus rinnakorvi nahal \u001b[1m\u001b[31m\n",
      "DeepL Scores: \u001b[0m exact_match: 0.0, levenshtein_ratio: 0.4225352112676056, google_bleu: 0.0, cer_score: 0.825 \u001b[1m\u001b[31m\n",
      "Vanilla Aya Translation: \u001b[0m Naha melanotsüütne nevus rindkerel \u001b[1m\u001b[31m\n",
      "Vanilla Aya Scores: \u001b[0m exact_match: 0.0, levenshtein_ratio: 0.6461538461538461, google_bleu: 0.0, cer_score: 0.6470588235294118 \u001b[1m\u001b[31m\n",
      "Aya CT1 Translation: \u001b[0m Rindkerenaha melanotsüütneevus \u001b[1m\u001b[31m\n",
      "Aya CT1 Scores: \u001b[0m exact_match: 0.0, levenshtein_ratio: 0.9836065573770492, google_bleu: 0.16666666666666666, cer_score: 0.03333333333333333 \u001b[1m\u001b[31m\n",
      "Aya CT2 Translation: \u001b[0m Rindkerenaha melanotsüütneevus \u001b[1m\u001b[31m\n",
      "Aya CT2 Scores: \u001b[0m exact_match: 0.0, levenshtein_ratio: 0.9836065573770492, google_bleu: 0.16666666666666666, cer_score: 0.03333333333333333\n",
      "\u001b[1m\u001b[31m\n",
      "SCTID: \u001b[0m 423613002 \u001b[1m\u001b[31m\n",
      "Target Language: \u001b[0m Swedish \u001b[1m\u001b[31m\n",
      "English Preferred Term: \u001b[0m Structure of bursa of pelvis \u001b[1m\u001b[31m\n",
      "Reference Translations: \u001b[0m ['bursa i bäckenet, struktur'] \u001b[1m\u001b[31m\n",
      "DeepL Translation: \u001b[0m Struktur av bäckenbursa \u001b[1m\u001b[31m\n",
      "DeepL Scores: \u001b[0m exact_match: 0.0, levenshtein_ratio: 0.4897959183673469, google_bleu: 0.0, cer_score: 0.8695652173913043 \u001b[1m\u001b[31m\n",
      "Vanilla Aya Translation: \u001b[0m Struktur av bursa i lårbenet \u001b[1m\u001b[31m\n",
      "Vanilla Aya Scores: \u001b[0m exact_match: 0.0, levenshtein_ratio: 0.4814814814814815, google_bleu: 0.21428571428571427, cer_score: 0.7857142857142857 \u001b[1m\u001b[31m\n",
      "Aya CT1 Translation: \u001b[0m bäcken, struktur \u001b[1m\u001b[31m\n",
      "Aya CT1 Scores: \u001b[0m exact_match: 0.0, levenshtein_ratio: 0.7619047619047619, google_bleu: 0.21428571428571427, cer_score: 0.625 \u001b[1m\u001b[31m\n",
      "Aya CT2 Translation: \u001b[0m bursa i bäcken, struktur \u001b[1m\u001b[31m\n",
      "Aya CT2 Scores: \u001b[0m exact_match: 0.0, levenshtein_ratio: 0.96, google_bleu: 0.42857142857142855, cer_score: 0.08333333333333333\n",
      "\u001b[1m\u001b[31m\n",
      "SCTID: \u001b[0m 1256010001 \u001b[1m\u001b[31m\n",
      "Target Language: \u001b[0m Dutch \u001b[1m\u001b[31m\n",
      "English Preferred Term: \u001b[0m Lives with others in shared housing \u001b[1m\u001b[31m\n",
      "Reference Translations: \u001b[0m ['woont met anderen in gedeelde woning', 'deelt huisvesting met anderen'] \u001b[1m\u001b[31m\n",
      "DeepL Translation: \u001b[0m Woont met anderen in gedeelde huisvesting \u001b[1m\u001b[31m\n",
      "DeepL Scores: \u001b[0m exact_match: 0.0, levenshtein_ratio: 0.8311688311688312, google_bleu: 0.5555555555555556, cer_score: 0.21951219512195122 \u001b[1m\u001b[31m\n",
      "Vanilla Aya Translation: \u001b[0m woont met anderen in gezamenlijk woonruimte \u001b[1m\u001b[31m\n",
      "Vanilla Aya Scores: \u001b[0m exact_match: 0.0, levenshtein_ratio: 0.759493670886076, google_bleu: 0.5555555555555556, cer_score: 0.3023255813953488 \u001b[1m\u001b[31m\n",
      "Aya CT1 Translation: \u001b[0m woont met anderen in gezamenlijk woonruimte \u001b[1m\u001b[31m\n",
      "Aya CT1 Scores: \u001b[0m exact_match: 0.0, levenshtein_ratio: 0.759493670886076, google_bleu: 0.5555555555555556, cer_score: 0.3023255813953488 \u001b[1m\u001b[31m\n",
      "Aya CT2 Translation: \u001b[0m woont met anderen in gezamenlijk wonen \u001b[1m\u001b[31m\n",
      "Aya CT2 Scores: \u001b[0m exact_match: 0.0, levenshtein_ratio: 0.8108108108108107, google_bleu: 0.5555555555555556, cer_score: 0.23684210526315788\n"
     ]
    }
   ],
   "source": [
    "for row in ct2_df.sample(10).itertuples():\n",
    "    sctid, language = row.Index\n",
    "    preferred_term = G.get_concept_details(sctid).synonyms[0]\n",
    "    deepl_results = evaluate_translations(row, \"deepl_translation\")\n",
    "    vanilla_aya_results = evaluate_translations(row, \"aya_vanilla_translation\")\n",
    "    ct1_aya_results = evaluate_translations(row, \"aya_ct1_translation\")\n",
    "    ct2_aya_results = evaluate_translations(row, \"aya_ct2_translation\")\n",
    "    print(\n",
    "        colored(\"\\nSCTID: \", \"red\", attrs=['bold']),\n",
    "        sctid,\n",
    "        colored(\"\\nTarget Language: \", \"red\", attrs=['bold']),\n",
    "        language,\n",
    "        colored(\"\\nEnglish Preferred Term: \", \"red\", attrs=['bold']),\n",
    "        preferred_term,\n",
    "        colored(\"\\nReference Translations: \", \"red\", attrs=['bold']),\n",
    "        row.reference_translations,\n",
    "        colored(\"\\nDeepL Translation: \", \"red\", attrs=['bold']),\n",
    "        row.deepl_translation,\n",
    "        colored(\"\\nDeepL Scores: \", \"red\", attrs=['bold']),\n",
    "        \", \".join([k+\": \"+str(v) for k,v in deepl_results.items()]),\n",
    "        colored(\"\\nVanilla Aya Translation: \", \"red\", attrs=['bold']),\n",
    "        row.aya_vanilla_translation,\n",
    "        colored(\"\\nVanilla Aya Scores: \", \"red\", attrs=['bold']),\n",
    "        \", \".join([k+\": \"+str(v) for k,v in vanilla_aya_results.items()]),        \n",
    "        colored(\"\\nAya CT1 Translation: \", \"red\", attrs=['bold']),\n",
    "        row.aya_ct1_translation,\n",
    "        colored(\"\\nAya CT1 Scores: \", \"red\", attrs=['bold']),\n",
    "        \", \".join([k+\": \"+str(v) for k,v in ct1_aya_results.items()]),          \n",
    "        colored(\"\\nAya CT2 Translation: \", \"red\", attrs=['bold']),\n",
    "        row.aya_ct2_translation,\n",
    "        colored(\"\\nAya CT2 Scores: \", \"red\", attrs=['bold']),\n",
    "        \", \".join([k+\": \"+str(v) for k,v in ct2_aya_results.items()]),                  \n",
    "    )"
   ]
  },
  {
   "cell_type": "code",
   "execution_count": 19,
   "id": "62fa7dd0-062e-45e4-8623-309447c72dff",
   "metadata": {},
   "outputs": [
    {
     "data": {
      "text/plain": [
       "[306253008 | Referral to doctor (procedure)]"
      ]
     },
     "execution_count": 19,
     "metadata": {},
     "output_type": "execute_result"
    }
   ],
   "source": [
    "G.get_full_concept(306258004).parents"
   ]
  },
  {
   "cell_type": "code",
   "execution_count": 20,
   "id": "1bf489ef-076d-42ac-897f-53ab1a380b81",
   "metadata": {},
   "outputs": [
    {
     "data": {
      "text/plain": [
       "['Referral to ITU specialist', 'Referral to intensive care specialist']"
      ]
     },
     "execution_count": 20,
     "metadata": {},
     "output_type": "execute_result"
    }
   ],
   "source": [
    "G.get_full_concept(306258004).synonyms"
   ]
  },
  {
   "cell_type": "code",
   "execution_count": 26,
   "id": "a5871c6e-e3b1-4263-bbfa-680819b73472",
   "metadata": {},
   "outputs": [
    {
     "data": {
      "text/plain": [
       "hierarchy                                                          procedure\n",
       "depth_tier                                                              Deep\n",
       "context_tier                                                          Tier 2\n",
       "fsn                        Referral to intensive care specialist (procedure)\n",
       "reference_translations     ['verwijzen naar intensivist', 'verwijzen naar...\n",
       "deepl_translation                  Verwijzing naar intensive care specialist\n",
       "aya_vanilla_translation                      Verwijzing naar een intensivist\n",
       "aya_ct1_translation                            verwijzen naar ITU specialist\n",
       "aya_ct2_translation                            verwijzen naar ITU specialist\n",
       "Name: (306258004, Dutch), dtype: object"
      ]
     },
     "execution_count": 26,
     "metadata": {},
     "output_type": "execute_result"
    }
   ],
   "source": [
    "ct2_df.loc[306258004,\"Dutch\"]"
   ]
  },
  {
   "cell_type": "code",
   "execution_count": 35,
   "id": "dab2bdad-46b4-4355-8888-c98d86ce6b98",
   "metadata": {},
   "outputs": [
    {
     "name": "stdout",
     "output_type": "stream",
     "text": [
      "Translate the following clinical concept into Dutch: \"Lumbar spinal nerve root structure\". structuur van lumbale zenuwwortel.\n",
      "Translate the following clinical concept into Dutch: \"Structure of posterior lumbosacral spinal cord nerve root\". structuur van radix dorsalis nervi spinalis lumbosacralis.\n",
      "Translate the following clinical concept into Dutch: \"Structure of spinal nerve ganglion\". ganglion sensorium nervi spinalis.\n",
      "Translate the following clinical concept into Dutch: \"Side\". zijde.\n",
      "Translate the following clinical concept into Dutch: \"Structure of lumbar spinal ganglion\". \n"
     ]
    }
   ],
   "source": [
    "row = next(ct2_df[ct2_df.index.get_level_values(0) == 278327000].itertuples())\n",
    "print(prepare_aya_ct2_prompt(row, G, ref_df))"
   ]
  },
  {
   "cell_type": "code",
   "execution_count": 29,
   "id": "b8607eb6-5abf-49a2-8a27-42b3d3db17b6",
   "metadata": {},
   "outputs": [
    {
     "data": {
      "text/html": [
       "<div>\n",
       "<style scoped>\n",
       "    .dataframe tbody tr th:only-of-type {\n",
       "        vertical-align: middle;\n",
       "    }\n",
       "\n",
       "    .dataframe tbody tr th {\n",
       "        vertical-align: top;\n",
       "    }\n",
       "\n",
       "    .dataframe thead th {\n",
       "        text-align: right;\n",
       "    }\n",
       "</style>\n",
       "<table border=\"1\" class=\"dataframe\">\n",
       "  <thead>\n",
       "    <tr style=\"text-align: right;\">\n",
       "      <th></th>\n",
       "      <th></th>\n",
       "      <th>hierarchy</th>\n",
       "      <th>depth_tier</th>\n",
       "      <th>context_tier</th>\n",
       "      <th>fsn</th>\n",
       "      <th>reference_translations</th>\n",
       "      <th>deepl_translation</th>\n",
       "      <th>aya_vanilla_translation</th>\n",
       "      <th>aya_ct1_translation</th>\n",
       "      <th>aya_ct2_translation</th>\n",
       "    </tr>\n",
       "    <tr>\n",
       "      <th>sctid</th>\n",
       "      <th>language</th>\n",
       "      <th></th>\n",
       "      <th></th>\n",
       "      <th></th>\n",
       "      <th></th>\n",
       "      <th></th>\n",
       "      <th></th>\n",
       "      <th></th>\n",
       "      <th></th>\n",
       "      <th></th>\n",
       "    </tr>\n",
       "  </thead>\n",
       "  <tbody>\n",
       "    <tr>\n",
       "      <th>306258004</th>\n",
       "      <th>Dutch</th>\n",
       "      <td>procedure</td>\n",
       "      <td>Deep</td>\n",
       "      <td>Tier 2</td>\n",
       "      <td>Referral to intensive care specialist (procedure)</td>\n",
       "      <td>['verwijzen naar intensivist', 'verwijzen naar...</td>\n",
       "      <td>Verwijzing naar intensive care specialist</td>\n",
       "      <td>Verwijzing naar een intensivist</td>\n",
       "      <td>verwijzen naar ITU specialist</td>\n",
       "      <td>verwijzen naar ITU specialist</td>\n",
       "    </tr>\n",
       "  </tbody>\n",
       "</table>\n",
       "</div>"
      ],
      "text/plain": [
       "                    hierarchy depth_tier context_tier  \\\n",
       "sctid     language                                      \n",
       "306258004 Dutch     procedure       Deep       Tier 2   \n",
       "\n",
       "                                                                  fsn  \\\n",
       "sctid     language                                                      \n",
       "306258004 Dutch     Referral to intensive care specialist (procedure)   \n",
       "\n",
       "                                               reference_translations  \\\n",
       "sctid     language                                                      \n",
       "306258004 Dutch     ['verwijzen naar intensivist', 'verwijzen naar...   \n",
       "\n",
       "                                            deepl_translation  \\\n",
       "sctid     language                                              \n",
       "306258004 Dutch     Verwijzing naar intensive care specialist   \n",
       "\n",
       "                            aya_vanilla_translation  \\\n",
       "sctid     language                                    \n",
       "306258004 Dutch     Verwijzing naar een intensivist   \n",
       "\n",
       "                              aya_ct1_translation  \\\n",
       "sctid     language                                  \n",
       "306258004 Dutch     verwijzen naar ITU specialist   \n",
       "\n",
       "                              aya_ct2_translation  \n",
       "sctid     language                                 \n",
       "306258004 Dutch     verwijzen naar ITU specialist  "
      ]
     },
     "execution_count": 29,
     "metadata": {},
     "output_type": "execute_result"
    }
   ],
   "source": []
  },
  {
   "cell_type": "code",
   "execution_count": 28,
   "id": "52d19fa3-8aa8-418a-b635-63924608494d",
   "metadata": {},
   "outputs": [
    {
     "data": {
      "text/html": [
       "<div>\n",
       "<style scoped>\n",
       "    .dataframe tbody tr th:only-of-type {\n",
       "        vertical-align: middle;\n",
       "    }\n",
       "\n",
       "    .dataframe tbody tr th {\n",
       "        vertical-align: top;\n",
       "    }\n",
       "\n",
       "    .dataframe thead th {\n",
       "        text-align: right;\n",
       "    }\n",
       "</style>\n",
       "<table border=\"1\" class=\"dataframe\">\n",
       "  <thead>\n",
       "    <tr style=\"text-align: right;\">\n",
       "      <th></th>\n",
       "      <th></th>\n",
       "      <th>hierarchy</th>\n",
       "      <th>depth_tier</th>\n",
       "      <th>context_tier</th>\n",
       "      <th>fsn</th>\n",
       "      <th>reference_translations</th>\n",
       "      <th>deepl_translation</th>\n",
       "      <th>aya_vanilla_translation</th>\n",
       "      <th>aya_ct1_translation</th>\n",
       "      <th>aya_ct2_translation</th>\n",
       "    </tr>\n",
       "    <tr>\n",
       "      <th>sctid</th>\n",
       "      <th>language</th>\n",
       "      <th></th>\n",
       "      <th></th>\n",
       "      <th></th>\n",
       "      <th></th>\n",
       "      <th></th>\n",
       "      <th></th>\n",
       "      <th></th>\n",
       "      <th></th>\n",
       "      <th></th>\n",
       "    </tr>\n",
       "  </thead>\n",
       "  <tbody>\n",
       "    <tr>\n",
       "      <th>1230175003</th>\n",
       "      <th>Dutch</th>\n",
       "      <td>body structure</td>\n",
       "      <td>Deep</td>\n",
       "      <td>Tier 2</td>\n",
       "      <td>Structure of limbus corneae of right eye (body...</td>\n",
       "      <td>['limbus corneae van OD', 'limbus corneae van ...</td>\n",
       "      <td>Structuur van limbus corneae van rechteroog</td>\n",
       "      <td>Structuur van de cornea van het recht oog</td>\n",
       "      <td>Limbus corneae van het rechter oog</td>\n",
       "      <td>Limbus corneae van het rechter oog</td>\n",
       "    </tr>\n",
       "    <tr>\n",
       "      <th>41774009</th>\n",
       "      <th>Dutch</th>\n",
       "      <td>body structure</td>\n",
       "      <td>Deep</td>\n",
       "      <td>Tier 2</td>\n",
       "      <td>Structure of plantar surface of toe (body stru...</td>\n",
       "      <td>['structuur van plantair oppervlak van teen', ...</td>\n",
       "      <td>Structuur van het plantaire oppervlak van de teen</td>\n",
       "      <td>Structuur van de plantar surface van de teen</td>\n",
       "      <td>voetoppervlak van de teen</td>\n",
       "      <td>voetoppervlak</td>\n",
       "    </tr>\n",
       "    <tr>\n",
       "      <th>788701004</th>\n",
       "      <th>Dutch</th>\n",
       "      <td>body structure</td>\n",
       "      <td>Deep</td>\n",
       "      <td>Tier 2</td>\n",
       "      <td>Structure of T11 spinal nerve proper (body str...</td>\n",
       "      <td>['truncus nervi spinalis T11', 'zenuwstam van ...</td>\n",
       "      <td>Structuur van de eigenlijke T11 spinale zenuw</td>\n",
       "      <td>Skeletspierstructuur van de T11</td>\n",
       "      <td>spinale zenuwwortel van T11</td>\n",
       "      <td>spinale zenuwwortel van T11</td>\n",
       "    </tr>\n",
       "    <tr>\n",
       "      <th>181003007</th>\n",
       "      <th>Dutch</th>\n",
       "      <td>body structure</td>\n",
       "      <td>Deep</td>\n",
       "      <td>Tier 2</td>\n",
       "      <td>Entire medial fasciculus of brachial plexus (b...</td>\n",
       "      <td>['gehele fasciculus medialis van plexus brachi...</td>\n",
       "      <td>Gehele mediale fasciculus van plexus brachialis</td>\n",
       "      <td>gehele mediale fasciculus van de brachiale plexus</td>\n",
       "      <td>hele mediale fasciculus van plexus brachialis</td>\n",
       "      <td>gehele mediale fasciculus van plexus brachialis</td>\n",
       "    </tr>\n",
       "    <tr>\n",
       "      <th>278327000</th>\n",
       "      <th>Dutch</th>\n",
       "      <td>body structure</td>\n",
       "      <td>Deep</td>\n",
       "      <td>Tier 2</td>\n",
       "      <td>Structure of lumbar spinal ganglion (body stru...</td>\n",
       "      <td>['structuur van lumbaal spinaal ganglion', 'lu...</td>\n",
       "      <td>Structuur van lumbaal spinaal ganglion</td>\n",
       "      <td>Structuur van het lumbale wervelkolom</td>\n",
       "      <td>lumbale zenuwganglion</td>\n",
       "      <td>lumbale zenuwganglion</td>\n",
       "    </tr>\n",
       "    <tr>\n",
       "      <th>...</th>\n",
       "      <th>...</th>\n",
       "      <td>...</td>\n",
       "      <td>...</td>\n",
       "      <td>...</td>\n",
       "      <td>...</td>\n",
       "      <td>...</td>\n",
       "      <td>...</td>\n",
       "      <td>...</td>\n",
       "      <td>...</td>\n",
       "      <td>...</td>\n",
       "    </tr>\n",
       "    <tr>\n",
       "      <th>372486003</th>\n",
       "      <th>Swedish</th>\n",
       "      <td>substance</td>\n",
       "      <td>Shallow</td>\n",
       "      <td>Tier 2</td>\n",
       "      <td>Substance with 5-hydroxytryptamine-3-receptor ...</td>\n",
       "      <td>['5-HT3-receptorantagonist']</td>\n",
       "      <td>Substans med verkningsmekanism 5-hydroxytrypta...</td>\n",
       "      <td>Substans med 5-hydroxytryptamine-3-receptor an...</td>\n",
       "      <td>5-HT3-receptorantagonist</td>\n",
       "      <td>5-HT3-receptorantagonist</td>\n",
       "    </tr>\n",
       "    <tr>\n",
       "      <th>422751003</th>\n",
       "      <th>Swedish</th>\n",
       "      <td>substance</td>\n",
       "      <td>Shallow</td>\n",
       "      <td>Tier 2</td>\n",
       "      <td>Fusafungine (substance)</td>\n",
       "      <td>['fusafungin']</td>\n",
       "      <td>Fusafungine</td>\n",
       "      <td>Fusafungin</td>\n",
       "      <td>Fusafungin</td>\n",
       "      <td>Fusafungin</td>\n",
       "    </tr>\n",
       "    <tr>\n",
       "      <th>423259008</th>\n",
       "      <th>Swedish</th>\n",
       "      <td>substance</td>\n",
       "      <td>Shallow</td>\n",
       "      <td>Tier 2</td>\n",
       "      <td>Panitumumab (substance)</td>\n",
       "      <td>['panitumumab']</td>\n",
       "      <td>Allmän registrator</td>\n",
       "      <td>Panitumumab</td>\n",
       "      <td>Panitumumab</td>\n",
       "      <td>Panitumumab</td>\n",
       "    </tr>\n",
       "    <tr>\n",
       "      <th>391836008</th>\n",
       "      <th>Swedish</th>\n",
       "      <td>substance</td>\n",
       "      <td>Shallow</td>\n",
       "      <td>Tier 2</td>\n",
       "      <td>Bephenium (substance)</td>\n",
       "      <td>['befenium']</td>\n",
       "      <td>Befenium</td>\n",
       "      <td>Befenium</td>\n",
       "      <td>befenium</td>\n",
       "      <td>befenium</td>\n",
       "    </tr>\n",
       "    <tr>\n",
       "      <th>35605007</th>\n",
       "      <th>Swedish</th>\n",
       "      <td>substance</td>\n",
       "      <td>Shallow</td>\n",
       "      <td>Tier 2</td>\n",
       "      <td>Anhydrous lanolin (substance)</td>\n",
       "      <td>['ullfett']</td>\n",
       "      <td>Vattenfri lanolin</td>\n",
       "      <td>Anhydrid lanolin</td>\n",
       "      <td>anhydrid lanolin</td>\n",
       "      <td>anhydrid lanolin</td>\n",
       "    </tr>\n",
       "  </tbody>\n",
       "</table>\n",
       "<p>3385 rows × 9 columns</p>\n",
       "</div>"
      ],
      "text/plain": [
       "                          hierarchy depth_tier context_tier  \\\n",
       "sctid      language                                           \n",
       "1230175003 Dutch     body structure       Deep       Tier 2   \n",
       "41774009   Dutch     body structure       Deep       Tier 2   \n",
       "788701004  Dutch     body structure       Deep       Tier 2   \n",
       "181003007  Dutch     body structure       Deep       Tier 2   \n",
       "278327000  Dutch     body structure       Deep       Tier 2   \n",
       "...                             ...        ...          ...   \n",
       "372486003  Swedish        substance    Shallow       Tier 2   \n",
       "422751003  Swedish        substance    Shallow       Tier 2   \n",
       "423259008  Swedish        substance    Shallow       Tier 2   \n",
       "391836008  Swedish        substance    Shallow       Tier 2   \n",
       "35605007   Swedish        substance    Shallow       Tier 2   \n",
       "\n",
       "                                                                   fsn  \\\n",
       "sctid      language                                                      \n",
       "1230175003 Dutch     Structure of limbus corneae of right eye (body...   \n",
       "41774009   Dutch     Structure of plantar surface of toe (body stru...   \n",
       "788701004  Dutch     Structure of T11 spinal nerve proper (body str...   \n",
       "181003007  Dutch     Entire medial fasciculus of brachial plexus (b...   \n",
       "278327000  Dutch     Structure of lumbar spinal ganglion (body stru...   \n",
       "...                                                                ...   \n",
       "372486003  Swedish   Substance with 5-hydroxytryptamine-3-receptor ...   \n",
       "422751003  Swedish                             Fusafungine (substance)   \n",
       "423259008  Swedish                             Panitumumab (substance)   \n",
       "391836008  Swedish                               Bephenium (substance)   \n",
       "35605007   Swedish                       Anhydrous lanolin (substance)   \n",
       "\n",
       "                                                reference_translations  \\\n",
       "sctid      language                                                      \n",
       "1230175003 Dutch     ['limbus corneae van OD', 'limbus corneae van ...   \n",
       "41774009   Dutch     ['structuur van plantair oppervlak van teen', ...   \n",
       "788701004  Dutch     ['truncus nervi spinalis T11', 'zenuwstam van ...   \n",
       "181003007  Dutch     ['gehele fasciculus medialis van plexus brachi...   \n",
       "278327000  Dutch     ['structuur van lumbaal spinaal ganglion', 'lu...   \n",
       "...                                                                ...   \n",
       "372486003  Swedish                        ['5-HT3-receptorantagonist']   \n",
       "422751003  Swedish                                      ['fusafungin']   \n",
       "423259008  Swedish                                     ['panitumumab']   \n",
       "391836008  Swedish                                        ['befenium']   \n",
       "35605007   Swedish                                         ['ullfett']   \n",
       "\n",
       "                                                     deepl_translation  \\\n",
       "sctid      language                                                      \n",
       "1230175003 Dutch           Structuur van limbus corneae van rechteroog   \n",
       "41774009   Dutch     Structuur van het plantaire oppervlak van de teen   \n",
       "788701004  Dutch         Structuur van de eigenlijke T11 spinale zenuw   \n",
       "181003007  Dutch       Gehele mediale fasciculus van plexus brachialis   \n",
       "278327000  Dutch                Structuur van lumbaal spinaal ganglion   \n",
       "...                                                                ...   \n",
       "372486003  Swedish   Substans med verkningsmekanism 5-hydroxytrypta...   \n",
       "422751003  Swedish                                         Fusafungine   \n",
       "423259008  Swedish                                  Allmän registrator   \n",
       "391836008  Swedish                                            Befenium   \n",
       "35605007   Swedish                                   Vattenfri lanolin   \n",
       "\n",
       "                                               aya_vanilla_translation  \\\n",
       "sctid      language                                                      \n",
       "1230175003 Dutch             Structuur van de cornea van het recht oog   \n",
       "41774009   Dutch          Structuur van de plantar surface van de teen   \n",
       "788701004  Dutch                       Skeletspierstructuur van de T11   \n",
       "181003007  Dutch     gehele mediale fasciculus van de brachiale plexus   \n",
       "278327000  Dutch                 Structuur van het lumbale wervelkolom   \n",
       "...                                                                ...   \n",
       "372486003  Swedish   Substans med 5-hydroxytryptamine-3-receptor an...   \n",
       "422751003  Swedish                                          Fusafungin   \n",
       "423259008  Swedish                                         Panitumumab   \n",
       "391836008  Swedish                                            Befenium   \n",
       "35605007   Swedish                                    Anhydrid lanolin   \n",
       "\n",
       "                                               aya_ct1_translation  \\\n",
       "sctid      language                                                  \n",
       "1230175003 Dutch                Limbus corneae van het rechter oog   \n",
       "41774009   Dutch                         voetoppervlak van de teen   \n",
       "788701004  Dutch                       spinale zenuwwortel van T11   \n",
       "181003007  Dutch     hele mediale fasciculus van plexus brachialis   \n",
       "278327000  Dutch                             lumbale zenuwganglion   \n",
       "...                                                            ...   \n",
       "372486003  Swedish                        5-HT3-receptorantagonist   \n",
       "422751003  Swedish                                      Fusafungin   \n",
       "423259008  Swedish                                     Panitumumab   \n",
       "391836008  Swedish                                        befenium   \n",
       "35605007   Swedish                                anhydrid lanolin   \n",
       "\n",
       "                                                 aya_ct2_translation  \n",
       "sctid      language                                                   \n",
       "1230175003 Dutch                  Limbus corneae van het rechter oog  \n",
       "41774009   Dutch                                       voetoppervlak  \n",
       "788701004  Dutch                         spinale zenuwwortel van T11  \n",
       "181003007  Dutch     gehele mediale fasciculus van plexus brachialis  \n",
       "278327000  Dutch                               lumbale zenuwganglion  \n",
       "...                                                              ...  \n",
       "372486003  Swedish                          5-HT3-receptorantagonist  \n",
       "422751003  Swedish                                        Fusafungin  \n",
       "423259008  Swedish                                       Panitumumab  \n",
       "391836008  Swedish                                          befenium  \n",
       "35605007   Swedish                                  anhydrid lanolin  \n",
       "\n",
       "[3385 rows x 9 columns]"
      ]
     },
     "execution_count": 28,
     "metadata": {},
     "output_type": "execute_result"
    }
   ],
   "source": [
    "ct2_df"
   ]
  },
  {
   "cell_type": "code",
   "execution_count": null,
   "id": "89f661dc-7624-47e7-bddc-e9ed7cfd8659",
   "metadata": {},
   "outputs": [],
   "source": []
  }
 ],
 "metadata": {
  "kernelspec": {
   "display_name": "Python 3 (ipykernel)",
   "language": "python",
   "name": "python3"
  },
  "language_info": {
   "codemirror_mode": {
    "name": "ipython",
    "version": 3
   },
   "file_extension": ".py",
   "mimetype": "text/x-python",
   "name": "python",
   "nbconvert_exporter": "python",
   "pygments_lexer": "ipython3",
   "version": "3.10.6"
  }
 },
 "nbformat": 4,
 "nbformat_minor": 5
}
