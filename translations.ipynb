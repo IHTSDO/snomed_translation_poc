{
 "cells": [
  {
   "cell_type": "markdown",
   "id": "40366b53-0527-4e98-848c-452c0e8a21ca",
   "metadata": {},
   "source": [
    "# TODO\n",
    "\n",
    "- Use the preferred terms rather than the first synonyms"
   ]
  },
  {
   "cell_type": "code",
   "execution_count": 18,
   "id": "c930face-aac9-4b0a-98e8-530c66b3b4de",
   "metadata": {
    "tags": []
   },
   "outputs": [
    {
     "name": "stdout",
     "output_type": "stream",
     "text": [
      "Collecting cer\n",
      "  Downloading cer-1.2.0-py3-none-any.whl.metadata (4.9 kB)\n",
      "Requirement already satisfied: Levenshtein in /home/ec2-user/anaconda3/envs/pytorch_p310/lib/python3.10/site-packages (from cer) (0.25.1)\n",
      "Requirement already satisfied: rapidfuzz<4.0.0,>=3.8.0 in /home/ec2-user/anaconda3/envs/pytorch_p310/lib/python3.10/site-packages (from Levenshtein->cer) (3.9.3)\n",
      "Downloading cer-1.2.0-py3-none-any.whl (17 kB)\n",
      "Installing collected packages: cer\n",
      "Successfully installed cer-1.2.0\n"
     ]
    }
   ],
   "source": [
    "# !pip install transformers\n",
    "# !pip install deepl\n",
    "# !pip install tqdm\n",
    "# !pip install evaluate\n",
    "# !pip install termcolor\n",
    "# !pip install Levenshtein\n",
    "# !pip install nltk\n",
    "# !pip install cer"
   ]
  },
  {
   "cell_type": "code",
   "execution_count": 4,
   "id": "fc87bd99-b973-4435-bc22-f425447347e2",
   "metadata": {
    "tags": []
   },
   "outputs": [],
   "source": [
    "from transformers import AutoModelForSeq2SeqLM, AutoTokenizer\n",
    "from snomed_graph import *\n",
    "import getpass\n",
    "import deepl\n",
    "from tqdm.notebook import tqdm\n",
    "import json\n",
    "import numpy as np\n",
    "import evaluate\n",
    "from termcolor import colored\n",
    "from collections import namedtuple\n",
    "from operator import __or__\n",
    "from functools import reduce\n",
    "from ast import literal_eval\n",
    "from Levenshtein import ratio\n",
    "from itertools import chain"
   ]
  },
  {
   "cell_type": "code",
   "execution_count": 5,
   "id": "627cc59c-57ee-4d6c-85db-9a3f7a7a7805",
   "metadata": {
    "tags": []
   },
   "outputs": [],
   "source": [
    "AYA_CHECKPOINT = \"CohereForAI/aya-101\"\n",
    "PATH_TO_SERIALIZED_SNOMED_GRAPH = \"./data/snomed_graph/full_concept_graph.gml\"\n",
    "PATH_TO_TRANSLATION_SAMPLES = \"./data/prepared_translation_data/samples.csv\"\n",
    "PATH_TO_ALL_TRANSLATION_REFERENCES = \"./data/prepared_translation_data/sampling_df.csv\"\n",
    "PATH_TO_DEEPL_TRANSLATION_RESULTS = \"./data/cache/deepl_results.json\"\n",
    "PATH_TO_AYA_VANILLA_TRANSLATION_RESULTS = \"./data/cache/aya_results_vanilla.json\"\n",
    "PATH_TO_AYA_ENRICHED_TRANSLATION_RESULTS = \"./data/cache/aya_results_enriched.json\""
   ]
  },
  {
   "cell_type": "code",
   "execution_count": 6,
   "id": "aa931693-9d38-442f-9a31-22d7a6b4609a",
   "metadata": {
    "tags": []
   },
   "outputs": [
    {
     "name": "stdin",
     "output_type": "stream",
     "text": [
      " ········\n"
     ]
    }
   ],
   "source": [
    "DEEPL_AUTH_KEY = getpass.getpass()"
   ]
  },
  {
   "cell_type": "code",
   "execution_count": 7,
   "id": "93502126-6915-4c0c-858b-eecf7620077a",
   "metadata": {
    "tags": []
   },
   "outputs": [],
   "source": [
    "langcodes = {\n",
    "    \"Dutch\": \"NL\",\n",
    "    \"Estonian\": \"ET\",\n",
    "    \"Korean\": \"KO\",\n",
    "    \"Swedish\": \"SV\",\n",
    "}"
   ]
  },
  {
   "cell_type": "code",
   "execution_count": 8,
   "id": "15d61637-bd8d-4f78-984a-99fc42b96cdc",
   "metadata": {
    "tags": []
   },
   "outputs": [],
   "source": [
    "important_attributes = {\n",
    "    # 'Access (attribute)',\n",
    "    # 'After (attribute)',\n",
    "    'Associated finding (attribute)',\n",
    "    'Associated morphology (attribute)',\n",
    "    'Associated procedure (attribute)',\n",
    "    'Associated with (attribute)',\n",
    "    'Before (attribute)',\n",
    "    'Causative agent (attribute)',\n",
    "    'Characterizes (attribute)',\n",
    "    # 'Clinical course (attribute)',\n",
    "    'Component (attribute)',\n",
    "    'Direct device (attribute)',\n",
    "    'Direct morphology (attribute)',\n",
    "    'Direct site (attribute)',\n",
    "    'Direct substance (attribute)',\n",
    "    'Due to (attribute)',\n",
    "    'During (attribute)',\n",
    "    # 'Finding context (attribute)',\n",
    "    'Finding informer (attribute)',\n",
    "    'Finding method (attribute)',\n",
    "    'Finding site (attribute)',\n",
    "    'Has absorbability (attribute)',\n",
    "    'Has active ingredient (attribute)',\n",
    "    'Has basic dose form (attribute)',\n",
    "    'Has basis of strength substance (attribute)',\n",
    "    'Has coating material (attribute)',\n",
    "    'Has compositional material (attribute)',\n",
    "    'Has concentration strength denominator unit (attribute)',\n",
    "    'Has concentration strength numerator unit (attribute)',\n",
    "    'Has device intended site (attribute)',\n",
    "    'Has disposition (attribute)',\n",
    "    'Has dose form administration method (attribute)',\n",
    "    'Has dose form intended site (attribute)',\n",
    "    'Has dose form release characteristic (attribute)',\n",
    "    'Has dose form transformation (attribute)',\n",
    "    'Has filling (attribute)',\n",
    "    'Has focus (attribute)',\n",
    "    'Has ingredient qualitative strength (attribute)',\n",
    "    'Has intent (attribute)',\n",
    "    # 'Has interpretation (attribute)',\n",
    "    'Has manufactured dose form (attribute)',\n",
    "    'Has precise active ingredient (attribute)',\n",
    "    'Has presentation strength denominator unit (attribute)',\n",
    "    'Has presentation strength numerator unit (attribute)',\n",
    "    'Has realization (attribute)',\n",
    "    'Has specimen (attribute)',\n",
    "    'Has state of matter (attribute)',\n",
    "    'Has surface texture (attribute)',\n",
    "    'Has target population (attribute)',\n",
    "    'Has unit of presentation (attribute)',\n",
    "    'Indirect device (attribute)',\n",
    "    'Indirect morphology (attribute)',\n",
    "    'Inherent location (attribute)',\n",
    "    'Inheres in (attribute)',\n",
    "    'Interprets (attribute)',\n",
    "    # 'Is a (attribute)',\n",
    "    'Is modification of (attribute)',\n",
    "    'Is sterile (attribute)',\n",
    "    'Laterality (attribute)',\n",
    "    'Measurement method (attribute)',\n",
    "    'Method (attribute)',\n",
    "    'Occurrence (attribute)',\n",
    "    'Pathological process (attribute)',\n",
    "    'Plays role (attribute)',\n",
    "    'Precondition (attribute)',\n",
    "    'Priority (attribute)',\n",
    "    'Procedure context (attribute)',\n",
    "    'Procedure device (attribute)',\n",
    "    'Procedure morphology (attribute)',\n",
    "    'Procedure site (attribute)',\n",
    "    'Procedure site - Direct (attribute)',\n",
    "    'Procedure site - Indirect (attribute)',\n",
    "    'Process acts on (attribute)',\n",
    "    'Process duration (attribute)',\n",
    "    'Process extends to (attribute)',\n",
    "    'Process output (attribute)',\n",
    "    'Property (attribute)',\n",
    "    'Recipient category (attribute)',\n",
    "    'Relative to (attribute)',\n",
    "    'Relative to part of (attribute)',\n",
    "    'Revision status (attribute)',\n",
    "    'Route of administration (attribute)',\n",
    "    # 'Scale type (attribute)',\n",
    "    # 'Severity (attribute)',\n",
    "    'Specimen procedure (attribute)',\n",
    "    'Specimen source identity (attribute)',\n",
    "    'Specimen source morphology (attribute)',\n",
    "    'Specimen source topography (attribute)',\n",
    "    'Specimen substance (attribute)',\n",
    "    # 'Subject relationship context (attribute)',\n",
    "    'Surgical approach (attribute)',\n",
    "    'Technique (attribute)',\n",
    "    # 'Temporal context (attribute)',\n",
    "    # 'Temporally related to (attribute)',\n",
    "    # 'Time aspect (attribute)',\n",
    "    # 'Units (attribute)',\n",
    "    'Using access device (attribute)',\n",
    "    'Using device (attribute)',\n",
    "    'Using energy (attribute)',\n",
    "    'Using substance (attribute)'\n",
    "}"
   ]
  },
  {
   "cell_type": "markdown",
   "id": "c9f1ac12-d370-4c13-958a-ed503cfcb007",
   "metadata": {},
   "source": [
    "# 1. Load the data"
   ]
  },
  {
   "cell_type": "markdown",
   "id": "2ddf79ad-498a-49d7-8704-ea8d5dd952c5",
   "metadata": {},
   "source": [
    "## 1.1 Load the concepts to translate"
   ]
  },
  {
   "cell_type": "code",
   "execution_count": 25,
   "id": "ba0a6ccb-8e5a-4727-a45d-d8cb60cd4916",
   "metadata": {
    "tags": []
   },
   "outputs": [
    {
     "data": {
      "text/plain": [
       "12640"
      ]
     },
     "execution_count": 25,
     "metadata": {},
     "output_type": "execute_result"
    }
   ],
   "source": [
    "# Columns are: sctid, fsn, hierarchy, language, context_tier, depth_tier, translations\n",
    "all_df = (\n",
    "    pd.read_csv(PATH_TO_TRANSLATION_SAMPLES)\n",
    "    .set_index([\"sctid\", \"language\"])\n",
    ")\n",
    "\n",
    "all_df.reference_translations = all_df.reference_translations.apply(literal_eval)\n",
    "\n",
    "all_df.shape[0]"
   ]
  },
  {
   "cell_type": "code",
   "execution_count": 10,
   "id": "38cfcd03-e7f7-460d-b395-36e5cf6f531a",
   "metadata": {
    "tags": []
   },
   "outputs": [],
   "source": [
    "# all_df = all_df.sample(20)"
   ]
  },
  {
   "cell_type": "markdown",
   "id": "ba7455e7-6667-4abd-b49e-4d5bd780a33f",
   "metadata": {},
   "source": [
    "## 1.2 Load the full set of reference translations"
   ]
  },
  {
   "cell_type": "code",
   "execution_count": 11,
   "id": "33e90b69-f3cb-4a04-9548-5bb26c913774",
   "metadata": {
    "tags": []
   },
   "outputs": [
    {
     "data": {
      "text/plain": [
       "651355"
      ]
     },
     "execution_count": 11,
     "metadata": {},
     "output_type": "execute_result"
    }
   ],
   "source": [
    "# Columns are: sctid, fsn, hierarchy, language, context_tier, depth_tier, translations\n",
    "ref_df = (\n",
    "    pd.read_csv(PATH_TO_ALL_TRANSLATION_REFERENCES)\n",
    "    .set_index([\"sctid\", \"language\"])\n",
    ")\n",
    "\n",
    "ref_df.translations = ref_df.translations.apply(literal_eval)\n",
    "\n",
    "ref_df = ref_df.rename(axis=\"columns\", mapper={\"translations\": \"reference_translations\"})\n",
    "\n",
    "ref_df.shape[0]"
   ]
  },
  {
   "cell_type": "markdown",
   "id": "dde6e15f-15e9-4284-a4ee-e2345a80cfe3",
   "metadata": {},
   "source": [
    "## 1.3 Load the SNOMED graph object"
   ]
  },
  {
   "cell_type": "code",
   "execution_count": 12,
   "id": "77bb2042-56ec-40ac-9c55-cedfa18a3c85",
   "metadata": {
    "tags": []
   },
   "outputs": [
    {
     "name": "stdout",
     "output_type": "stream",
     "text": [
      "SNOMED graph has 361179 vertices and 1179749 edges\n"
     ]
    }
   ],
   "source": [
    "G = SnomedGraph.from_serialized(PATH_TO_SERIALIZED_SNOMED_GRAPH)"
   ]
  },
  {
   "cell_type": "markdown",
   "id": "b7d5d051-4705-446b-ae51-f47fb39634bf",
   "metadata": {},
   "source": [
    "# 2. Evaluation Harness"
   ]
  },
  {
   "cell_type": "code",
   "execution_count": 19,
   "id": "f8907f3d-f1a3-4738-afa3-9179dd756ae0",
   "metadata": {
    "tags": []
   },
   "outputs": [],
   "source": [
    "google_bleu = evaluate.load(\"google_bleu\")\n",
    "character = evaluate.load(\"character\")"
   ]
  },
  {
   "cell_type": "code",
   "execution_count": 20,
   "id": "33bf8095-2b5a-4790-85fa-894daa4faa62",
   "metadata": {
    "tags": []
   },
   "outputs": [],
   "source": [
    "def exact_match(predictions, references):\n",
    "    N = len(predictions)\n",
    "    n = 0\n",
    "    for p, r in zip(predictions, references):\n",
    "        if p in r:\n",
    "            n += 1\n",
    "    return {'exact_match': float(n)/N}"
   ]
  },
  {
   "cell_type": "code",
   "execution_count": 21,
   "id": "b778f47f-c500-4ebf-aff1-5f283165ba70",
   "metadata": {
    "tags": []
   },
   "outputs": [],
   "source": [
    "def levenshtein_ratio(predictions, references):\n",
    "    ratios = [\n",
    "        np.max([ratio(p, r) for r in refs])\n",
    "        for p, refs in zip(predictions, references)\n",
    "    ]\n",
    "    return {'levenshtein_ratio': np.mean(ratios)}"
   ]
  },
  {
   "cell_type": "code",
   "execution_count": 22,
   "id": "7ef54b57-bbe4-49bb-b1db-cfc2bc47e084",
   "metadata": {
    "tags": []
   },
   "outputs": [],
   "source": [
    "def evaluate_translations(row_or_df, target_column):\n",
    "    if isinstance(row_or_df, pd.DataFrame):\n",
    "        assert target_column in row_or_df.columns    \n",
    "        candidates = list(row_or_df.to_dict()[target_column].values())\n",
    "        references = row_or_df.reference_translations.tolist()\n",
    "    else:\n",
    "        candidates = [getattr(row_or_df, target_column)]\n",
    "        references = [row_or_df.reference_translations]\n",
    "    results = [\n",
    "        exact_match(predictions=candidates, references=references),\n",
    "        levenshtein_ratio(predictions=candidates, references=references),\n",
    "        google_bleu.compute(predictions=candidates, references=references),\n",
    "        character.compute(predictions=candidates, references=references),\n",
    "    ]\n",
    "    results = reduce(__or__, results, dict())\n",
    "    return results"
   ]
  },
  {
   "cell_type": "markdown",
   "id": "15910fa5-05da-4684-8434-6569ddc09304",
   "metadata": {},
   "source": [
    "# 3. Generate baseline translations with DeepL"
   ]
  },
  {
   "cell_type": "code",
   "execution_count": 32,
   "id": "4876d773-7864-4396-9418-ff7f0b9747ef",
   "metadata": {
    "tags": []
   },
   "outputs": [],
   "source": [
    "translator = deepl.Translator(DEEPL_AUTH_KEY)\n",
    "\n",
    "def translate_with_deepl(df, G):\n",
    "    \n",
    "    with open(PATH_TO_DEEPL_TRANSLATION_RESULTS, \"r\") as f:\n",
    "        deepl_results = json.load(f)\n",
    "    \n",
    "    for it, row in enumerate(tqdm(df.itertuples(), total=df.shape[0])):\n",
    "        sctid, language = row.Index\n",
    "        langcode = langcodes[language]\n",
    "        source_concept = G.get_concept_details(sctid)\n",
    "        source_preferred_term = source_concept.fsn.replace(f\"({source_concept.hierarchy})\", \"\").strip()\n",
    "        key = str(sctid) + \"_\" + language\n",
    "        try:\n",
    "            yield deepl_results[key]\n",
    "        except KeyError:\n",
    "            deepl_result = translator.translate_text(source_preferred_term, target_lang=langcode)\n",
    "            deepl_results[key] = deepl_result.text\n",
    "            yield deepl_result.text\n",
    "        if it % 100 == 0:\n",
    "            with open(PATH_TO_DEEPL_TRANSLATION_RESULTS, \"w\") as f:\n",
    "                json.dump(deepl_results, f)\n",
    "\n",
    "    with open(PATH_TO_DEEPL_TRANSLATION_RESULTS, \"w\") as f:\n",
    "        json.dump(deepl_results, f)"
   ]
  },
  {
   "cell_type": "code",
   "execution_count": 33,
   "id": "97cd516d-1f59-4167-bd43-5f7949915ce3",
   "metadata": {
    "tags": []
   },
   "outputs": [
    {
     "data": {
      "application/vnd.jupyter.widget-view+json": {
       "model_id": "81233e8fe85b444e94bc5f0bb9af4544",
       "version_major": 2,
       "version_minor": 0
      },
      "text/plain": [
       "  0%|          | 0/12640 [00:00<?, ?it/s]"
      ]
     },
     "metadata": {},
     "output_type": "display_data"
    }
   ],
   "source": [
    "all_df[\"deepl_translation\"] = list(translate_with_deepl(all_df, G))"
   ]
  },
  {
   "cell_type": "code",
   "execution_count": 34,
   "id": "20e9c100-c32b-4f24-b590-5a00d75c9f7a",
   "metadata": {
    "tags": []
   },
   "outputs": [
    {
     "data": {
      "text/plain": [
       "{'exact_match': 0.08662974683544304,\n",
       " 'levenshtein_ratio': 0.7370298864393613,\n",
       " 'google_bleu': 0.2459922409495806,\n",
       " 'cer_score': 0.381689058931287}"
      ]
     },
     "execution_count": 34,
     "metadata": {},
     "output_type": "execute_result"
    }
   ],
   "source": [
    "evaluate_translations(all_df, \"deepl_translation\")"
   ]
  },
  {
   "cell_type": "markdown",
   "id": "d1b99278-9f6e-4ba4-b528-9e08c7a5c9d1",
   "metadata": {},
   "source": [
    "# 4. Generate translations using \"vanilla\" Aya model."
   ]
  },
  {
   "cell_type": "code",
   "execution_count": null,
   "id": "90aff670-69e8-4d02-a9ff-ad2c5be6cb38",
   "metadata": {
    "tags": []
   },
   "outputs": [
    {
     "data": {
      "application/vnd.jupyter.widget-view+json": {
       "model_id": "99f00e3c2ccd4b858faf628b05a759bc",
       "version_major": 2,
       "version_minor": 0
      },
      "text/plain": [
       "model.safetensors.index.json:   0%|          | 0.00/50.6k [00:00<?, ?B/s]"
      ]
     },
     "metadata": {},
     "output_type": "display_data"
    },
    {
     "data": {
      "application/vnd.jupyter.widget-view+json": {
       "model_id": "a8a638b02b9548ebb36695ecf2d10e59",
       "version_major": 2,
       "version_minor": 0
      },
      "text/plain": [
       "Downloading shards:   0%|          | 0/11 [00:00<?, ?it/s]"
      ]
     },
     "metadata": {},
     "output_type": "display_data"
    },
    {
     "data": {
      "application/vnd.jupyter.widget-view+json": {
       "model_id": "4c8ad1afe1a14d7d944d80e64656e5ae",
       "version_major": 2,
       "version_minor": 0
      },
      "text/plain": [
       "model-00001-of-00011.safetensors:   0%|          | 0.00/4.94G [00:00<?, ?B/s]"
      ]
     },
     "metadata": {},
     "output_type": "display_data"
    },
    {
     "data": {
      "application/vnd.jupyter.widget-view+json": {
       "model_id": "1167e558620c4197aac06c8b5d40f630",
       "version_major": 2,
       "version_minor": 0
      },
      "text/plain": [
       "model-00002-of-00011.safetensors:   0%|          | 0.00/5.00G [00:00<?, ?B/s]"
      ]
     },
     "metadata": {},
     "output_type": "display_data"
    },
    {
     "data": {
      "application/vnd.jupyter.widget-view+json": {
       "model_id": "fca4e7e73fc942d58dbfb9b7c2935fb9",
       "version_major": 2,
       "version_minor": 0
      },
      "text/plain": [
       "model-00003-of-00011.safetensors:   0%|          | 0.00/4.97G [00:00<?, ?B/s]"
      ]
     },
     "metadata": {},
     "output_type": "display_data"
    },
    {
     "data": {
      "application/vnd.jupyter.widget-view+json": {
       "model_id": "0e5ba427523141deb30a0a4cd43d3440",
       "version_major": 2,
       "version_minor": 0
      },
      "text/plain": [
       "model-00004-of-00011.safetensors:   0%|          | 0.00/4.90G [00:00<?, ?B/s]"
      ]
     },
     "metadata": {},
     "output_type": "display_data"
    },
    {
     "data": {
      "application/vnd.jupyter.widget-view+json": {
       "model_id": "784a0aa3f60e46148cb596249ad789c4",
       "version_major": 2,
       "version_minor": 0
      },
      "text/plain": [
       "model-00005-of-00011.safetensors:   0%|          | 0.00/4.97G [00:00<?, ?B/s]"
      ]
     },
     "metadata": {},
     "output_type": "display_data"
    },
    {
     "data": {
      "application/vnd.jupyter.widget-view+json": {
       "model_id": "aa2d3fc4773e46fbbbd9e3a5876741c1",
       "version_major": 2,
       "version_minor": 0
      },
      "text/plain": [
       "model-00006-of-00011.safetensors:   0%|          | 0.00/4.97G [00:00<?, ?B/s]"
      ]
     },
     "metadata": {},
     "output_type": "display_data"
    },
    {
     "data": {
      "application/vnd.jupyter.widget-view+json": {
       "model_id": "af5e0a7f1b7443759e6951d75796e16f",
       "version_major": 2,
       "version_minor": 0
      },
      "text/plain": [
       "model-00007-of-00011.safetensors:   0%|          | 0.00/4.87G [00:00<?, ?B/s]"
      ]
     },
     "metadata": {},
     "output_type": "display_data"
    },
    {
     "data": {
      "application/vnd.jupyter.widget-view+json": {
       "model_id": "22b7a41873c74519baed78ba4079fed5",
       "version_major": 2,
       "version_minor": 0
      },
      "text/plain": [
       "model-00008-of-00011.safetensors:   0%|          | 0.00/5.00G [00:00<?, ?B/s]"
      ]
     },
     "metadata": {},
     "output_type": "display_data"
    },
    {
     "data": {
      "application/vnd.jupyter.widget-view+json": {
       "model_id": "3162d32e8b044c58b80e2387165b65dd",
       "version_major": 2,
       "version_minor": 0
      },
      "text/plain": [
       "model-00009-of-00011.safetensors:   0%|          | 0.00/5.00G [00:00<?, ?B/s]"
      ]
     },
     "metadata": {},
     "output_type": "display_data"
    },
    {
     "data": {
      "application/vnd.jupyter.widget-view+json": {
       "model_id": "d2f5e8a58f9a4144b85fd65e5349bba4",
       "version_major": 2,
       "version_minor": 0
      },
      "text/plain": [
       "model-00010-of-00011.safetensors:   0%|          | 0.00/2.99G [00:00<?, ?B/s]"
      ]
     },
     "metadata": {},
     "output_type": "display_data"
    },
    {
     "name": "stderr",
     "output_type": "stream",
     "text": [
      "/home/ec2-user/anaconda3/envs/pytorch_p310/lib/python3.10/site-packages/huggingface_hub/file_download.py:982: UserWarning: Not enough free disk space to download the file. The expected file size is: 4097.84 MB. The target location /home/ec2-user/.cache/huggingface/hub/models--CohereForAI--aya-101/blobs only has 2991.30 MB free disk space.\n",
      "  warnings.warn(\n"
     ]
    },
    {
     "data": {
      "application/vnd.jupyter.widget-view+json": {
       "model_id": "f6d6dd26e5784b22a0bde1ad8ac9a8fa",
       "version_major": 2,
       "version_minor": 0
      },
      "text/plain": [
       "model-00011-of-00011.safetensors:   0%|          | 0.00/4.10G [00:00<?, ?B/s]"
      ]
     },
     "metadata": {},
     "output_type": "display_data"
    }
   ],
   "source": [
    "tokenizer = AutoTokenizer.from_pretrained(AYA_CHECKPOINT)\n",
    "aya_model = AutoModelForSeq2SeqLM.from_pretrained(AYA_CHECKPOINT)"
   ]
  },
  {
   "cell_type": "code",
   "execution_count": 17,
   "id": "563b4e79-e538-490f-b5c6-69315c275951",
   "metadata": {},
   "outputs": [],
   "source": [
    "def aya_postprocessor(result):\n",
    "    return (\n",
    "        result\n",
    "        .replace(tokenizer.eos_token, \"\")\n",
    "        .replace(tokenizer.pad_token, \"\")\n",
    "        .replace(\".\", \"\")\n",
    "        .strip()\n",
    "    )"
   ]
  },
  {
   "cell_type": "markdown",
   "id": "8ed01d46-55ec-4412-b07f-bf2455c6f99d",
   "metadata": {
    "jp-MarkdownHeadingCollapsed": true
   },
   "source": [
    "## 4.1 Test Aya with a few translations into English.  Let's see what kind of responses it produces"
   ]
  },
  {
   "cell_type": "code",
   "execution_count": null,
   "id": "cb03ba59-614f-4c2f-91ca-d0b3ef930c75",
   "metadata": {},
   "outputs": [],
   "source": [
    "def test_translate_with_aya(df, G):\n",
    "    for row in tqdm(df.itertuples(), total=df.shape[0]):\n",
    "        sctid, language = row.Index\n",
    "        preferred_term = row.reference_translations[0]\n",
    "        reference_translations = G.get_concept_details(sctid).synonyms\n",
    "        # ICL\n",
    "        try:\n",
    "            icl_row = next(df[(df.index.get_level_values(0) != sctid) & (df.index.get_level_values(1) == language)].sample(1).itertuples())\n",
    "        except ValueError:\n",
    "            pass\n",
    "        else:\n",
    "            icl_sctid = icl_row.Index[0]\n",
    "            icl_preferred_term = icl_row.reference_translations[0]\n",
    "            icl_reference_translations = G.get_concept_details(icl_sctid).synonyms\n",
    "            # construct prompt\n",
    "            prompt_template = 'Translate the following clinical concept into English: \"{{PREFERRED_TERM}}\". {{TRANSLATED_TERM}}.\\n'\n",
    "            prompt = (\n",
    "                prompt_template.replace(\"{{PREFERRED_TERM}}\", icl_preferred_term).replace(\"{{TRANSLATED_TERM}}\", icl_reference_translations[0]) +\n",
    "                prompt_template.replace(\"{{PREFERRED_TERM}}\", preferred_term).replace(\"{{TRANSLATED_TERM}}.\\n\", \"\")\n",
    "            )\n",
    "            print(prompt)\n",
    "            input = tokenizer.encode(prompt, return_tensors=\"pt\").to(\"cuda\")\n",
    "            output = aya_model.generate(input, max_new_tokens=256)\n",
    "            result = tokenizer.decode(output[0])\n",
    "            result = aya_postprocessor(result)\n",
    "            \n",
    "            print(\n",
    "                colored(\"\\nSCTID: \", \"red\", attrs=['bold']),\n",
    "                sctid,\n",
    "                colored(\"\\nSource Language: \", \"red\", attrs=['bold']),\n",
    "                language,\n",
    "                colored(\"\\nPreferred Term: \", \"red\", attrs=['bold']),\n",
    "                preferred_term,\n",
    "                colored(\"\\nReference Translations: \", \"red\", attrs=['bold']),\n",
    "                reference_translations,\n",
    "                colored(\"\\nAya Translation: \", \"red\", attrs=['bold']),            \n",
    "                result,\n",
    "                \"\\n\\n\",\n",
    "                # colored(\"\\nAya Scores: \", \"red\", attrs=['bold']),\n",
    "                # \", \".join([k+\": \"+str(v) for k,v in scores.items()]),\n",
    "            )"
   ]
  },
  {
   "cell_type": "code",
   "execution_count": null,
   "id": "6548608a-21a8-4b91-a26e-73915f49627c",
   "metadata": {
    "scrolled": true
   },
   "outputs": [],
   "source": [
    "test_translate_with_aya(all_df.sample(10), G)"
   ]
  },
  {
   "cell_type": "markdown",
   "id": "94c4df2e-926e-4991-bfea-48aed0886cda",
   "metadata": {},
   "source": [
    "## 4.2 Translate from English into our target languages"
   ]
  },
  {
   "cell_type": "code",
   "execution_count": 77,
   "id": "74a2f464-b00c-4e0e-b028-be0b8aac0e6a",
   "metadata": {},
   "outputs": [],
   "source": [
    "def prepare_aya_vanilla_prompt(row, G, df):\n",
    "    sctid, language = row.Index\n",
    "    concept = G.get_concept_details(sctid)\n",
    "    preferred_term = concept.fsn.replace(f\"({concept.hierarchy})\", \"\").strip()\n",
    "    if language == \"Swedish\":\n",
    "        return f'Translate the following clinical concept into Swedish: \"Pain disorder with psychological factor\". smärtsyndrom med psykologisk faktor.\\nTranslate the following clinical concept into Swedish: \"{preferred_term}\". '\n",
    "    elif language == \"Estonian\":\n",
    "        return f'Translate the following clinical concept into Estonian: \"Osseous choristoma\". Luuline koristoom. \\nTranslate the following clinical concept into Estonian: \"{preferred_term}\". '\n",
    "    elif language == \"Korean\":\n",
    "        return f'Translate the following clinical concept into Korean: \"Endoscopic excision of lesion of esophagus\". 식도 병변 내시경 절제. \\nTranslate the following clinical concept into Korean: \"{preferred_term}\". '\n",
    "    elif language == \"Dutch\":\n",
    "        return f'Translate the following clinical concept into Dutch: \"Open repair of lumbar hernia using biological mesh\".  open hernioplastiek van hernia lumbalis met biologisch matje.\\nTranslate the following clinical concept into Dutch: \"{preferred_term}\". '\n",
    "    else:\n",
    "        raise ValueError()"
   ]
  },
  {
   "cell_type": "code",
   "execution_count": 78,
   "id": "2e947485-cfe1-4db4-ba14-abd7bfa83789",
   "metadata": {},
   "outputs": [],
   "source": [
    "def translate_with_aya(df, G, prompt_assembler, ref_df=None, results_filepath=None, rebuild=False, save=False):\n",
    "\n",
    "    if rebuild:\n",
    "        results = dict()\n",
    "    else:\n",
    "        with open(results_filepath, \"r\") as f:\n",
    "            results = json.load(f)\n",
    "    \n",
    "    for row in tqdm(df.itertuples(), total=df.shape[0]):\n",
    "        sctid, language = row.Index\n",
    "        key = str(sctid) + \"_\" + language\n",
    "        try:\n",
    "            yield results[key]\n",
    "        except KeyError:\n",
    "            prompt = prompt_assembler(row, G, ref_df)\n",
    "            input = tokenizer.encode(prompt, return_tensors=\"pt\").to(\"cuda\")\n",
    "            output = aya_model.generate(input, max_new_tokens=256)\n",
    "            result = tokenizer.decode(output[0])\n",
    "            result = aya_postprocessor(result)\n",
    "            results[key] = result\n",
    "            yield result\n",
    "\n",
    "    if save:\n",
    "        with open(results_filepath, \"w\") as f:\n",
    "            json.dump(results, f)"
   ]
  },
  {
   "cell_type": "code",
   "execution_count": 79,
   "id": "bdc4008f-8f2c-4657-b5d3-08ba737e852b",
   "metadata": {
    "scrolled": true
   },
   "outputs": [
    {
     "data": {
      "application/vnd.jupyter.widget-view+json": {
       "model_id": "bc032ae100b5442d9bcb47f3fe54126f",
       "version_major": 2,
       "version_minor": 0
      },
      "text/plain": [
       "  0%|          | 0/20 [00:00<?, ?it/s]"
      ]
     },
     "metadata": {},
     "output_type": "display_data"
    }
   ],
   "source": [
    "all_df[\"aya_vanilla_translation\"] = list(translate_with_aya(\n",
    "    all_df, G, prepare_aya_vanilla_prompt, PATH_TO_AYA_VANILLA_TRANSLATION_RESULTS, rebuild=True, save=False\n",
    "))"
   ]
  },
  {
   "cell_type": "code",
   "execution_count": 80,
   "id": "0e33d198-27a3-4ac5-a883-743e37ee6e33",
   "metadata": {},
   "outputs": [
    {
     "data": {
      "text/plain": [
       "{'exact_match': 0.05,\n",
       " 'levenshtein_ratio': 0.6441056628959896,\n",
       " 'google_bleu': 0.12608695652173912,\n",
       " 'cer_score': 0.5268120738942421}"
      ]
     },
     "execution_count": 80,
     "metadata": {},
     "output_type": "execute_result"
    }
   ],
   "source": [
    "evaluate_translations(all_df, \"aya_vanilla_translation\")"
   ]
  },
  {
   "cell_type": "markdown",
   "id": "b8a04795-ddf7-4a49-a295-31ab317dd209",
   "metadata": {
    "jp-MarkdownHeadingCollapsed": true
   },
   "source": [
    "# 5. Evaluate Aya with enriched prompt"
   ]
  },
  {
   "cell_type": "code",
   "execution_count": null,
   "id": "42ef7512-8caa-4ae0-abf1-51824375ebae",
   "metadata": {},
   "outputs": [],
   "source": [
    "enriched_prompt_template = \"\"\"\n",
    "You are a medical translation expert.\n",
    "Your job is to translate formal clinical terms found within the SNOMED Concept Terminology into {{TARGET_LANGUAGE}}.\n",
    "The concept you need to translate is “{{PREFERRED_TERM}}”.\n",
    "Here is some information about the concept which may help you:\n",
    "{{SYNONYMS_FRAGMENT}}\n",
    "{{HIERARCHY_FRAGMENT}}\n",
    "{{PARENTS_FRAGMENT}}\n",
    "{{RELATIONSHIPS_FRAGMENT}}\n",
    "Now, the translation of “{{PREFERRED_TERM}}” into {{TARGET_LANGUAGE}} is:\"\"\""
   ]
  },
  {
   "cell_type": "code",
   "execution_count": null,
   "id": "2decaf75-a82d-4176-9dea-58aca84337e5",
   "metadata": {},
   "outputs": [],
   "source": [
    "def generate_prompt_synonyms_fragment(preferred_term, synonyms):\n",
    "    if len(synonyms) == 0:\n",
    "        return \"\"\n",
    "    else:\n",
    "        syn_str = '\"' + '\" and \"'.join(synonyms) + '\"'\n",
    "        return f'In English, synonyms for \"{preferred_term}\" include: {syn_str}.'"
   ]
  },
  {
   "cell_type": "code",
   "execution_count": null,
   "id": "f03f3b5f-3990-4b7b-8615-8fddb03181cf",
   "metadata": {},
   "outputs": [],
   "source": [
    "def generate_prompt_hierarchy_fragment(preferred_term, hierarchy):\n",
    "    return f'\"{preferred_term}\" is a {hierarchy}.'"
   ]
  },
  {
   "cell_type": "code",
   "execution_count": null,
   "id": "d849132e-eee2-4393-9123-a35190cd934a",
   "metadata": {},
   "outputs": [],
   "source": [
    "def generate_prompt_parents_fragment(preferred_term, parents):\n",
    "    fragment = \"\"\n",
    "    for p in parents:\n",
    "        fragment += f'\"{preferred_term}\" is a kind of {p.synonyms[0]}.\\n'\n",
    "    return fragment"
   ]
  },
  {
   "cell_type": "code",
   "execution_count": null,
   "id": "38742d6a-36b5-44d0-bcfb-3f4110d6f08a",
   "metadata": {},
   "outputs": [],
   "source": [
    "def generate_prompt_relationships_fragment(preferred_term, relationship_groups):\n",
    "    fragment = \"\"\n",
    "    for g in relationship_groups:\n",
    "        for r in g.relationships:\n",
    "            type = r.type.replace(\" (attribute)\", \"\").lower()\n",
    "            tgt = r.tgt.synonyms[0]\n",
    "            fragment += f'\"{preferred_term}\" has {type} {tgt}\\n'\n",
    "    return fragment"
   ]
  },
  {
   "cell_type": "code",
   "execution_count": null,
   "id": "11c62256-eb64-4acd-9143-4ec0ce0396b5",
   "metadata": {},
   "outputs": [],
   "source": [
    "def prepare_aya_enriched_prompt(row, G, df):\n",
    "    sctid, language = row.Index\n",
    "    concept = G.get_full_concept(sctid)\n",
    "    preferred_term = concept.synonyms[0]\n",
    "    return (\n",
    "        enriched_prompt_template\n",
    "        .replace(\"{{TARGET_LANGUAGE}}\", language)\n",
    "        .replace(\"{{PREFERRED_TERM}}\", preferred_term)\n",
    "        .replace(\"{{SYNONYMS_FRAGMENT}}\", generate_prompt_synonyms_fragment(preferred_term, concept.synonyms[1:]))\n",
    "        .replace(\"{{HIERARCHY_FRAGMENT}}\", generate_prompt_hierarchy_fragment(preferred_term, concept.hierarchy))\n",
    "        .replace(\"{{PARENTS_FRAGMENT}}\", generate_prompt_parents_fragment(preferred_term, concept.parents))\n",
    "        .replace(\"{{RELATIONSHIPS_FRAGMENT}}\", generate_prompt_relationships_fragment(preferred_term, concept.inferred_relationship_groups))\n",
    "        .replace(\"\\n\\n\", \"\\n\")\n",
    "    )"
   ]
  },
  {
   "cell_type": "code",
   "execution_count": null,
   "id": "76fa6935-96ca-4227-99e4-ffd4682fe558",
   "metadata": {},
   "outputs": [],
   "source": [
    "print(prepare_aya_enriched_prompt(next(all_df.itertuples()), G, df))"
   ]
  },
  {
   "cell_type": "code",
   "execution_count": null,
   "id": "b03ef629-dc72-4351-abdc-41e67c5f43f2",
   "metadata": {},
   "outputs": [],
   "source": [
    "df[\"aya_enriched_translation\"] = list(translate_with_aya(all_df, G, prepare_aya_enriched_prompt, PATH_TO_AYA_ENRICHED_TRANSLATION_RESULTS, rebuild=True))"
   ]
  },
  {
   "cell_type": "code",
   "execution_count": null,
   "id": "65c9ddee-b928-478b-a082-cb412e835826",
   "metadata": {},
   "outputs": [],
   "source": [
    "evaluate_translations(all_df, \"aya_enriched_translation\")"
   ]
  },
  {
   "cell_type": "markdown",
   "id": "5e09ae0a-ecf2-4ff9-a82d-dcbf8ef3c8d6",
   "metadata": {},
   "source": [
    "# 6. Translate Context Tier 1 Concepts"
   ]
  },
  {
   "cell_type": "code",
   "execution_count": 82,
   "id": "811b00b4-9069-490f-866c-8b347f7b5bca",
   "metadata": {},
   "outputs": [],
   "source": [
    "def prepare_aya_ct1_prompt(row, G, ref_df):\n",
    "    sctid, language = row.Index\n",
    "    concept = G.get_full_concept(sctid)\n",
    "    preferred_term = concept.synonyms[0]\n",
    "    parent_concepts = [\n",
    "        G.get_full_concept(p.sctid) for p in concept.parents\n",
    "    ]\n",
    "    parent_data = [\n",
    "        (\n",
    "            c.fsn.replace(f\"({c.hierarchy})\", \"\").strip(),\n",
    "            ref_df.loc[(c.sctid, language)].reference_translations[0],\n",
    "        )\n",
    "        for c in parent_concepts\n",
    "    ]\n",
    "    prompt_fragments = [\n",
    "        f'Translate the following clinical concept into {language}: \"{pt}\". {rt}.'\n",
    "        for pt, rt in parent_data\n",
    "    ]    \n",
    "    prompt = '\\n'.join(prompt_fragments)\n",
    "    prompt += f'\\nTranslate the following clinical concept into {language}: \"{preferred_term}\". '\n",
    "    \n",
    "    return prompt"
   ]
  },
  {
   "cell_type": "code",
   "execution_count": 83,
   "id": "75dbd4e3-faed-41d3-a614-7720e304679f",
   "metadata": {},
   "outputs": [
    {
     "data": {
      "text/plain": [
       "14"
      ]
     },
     "execution_count": 83,
     "metadata": {},
     "output_type": "execute_result"
    }
   ],
   "source": [
    "ct1_df = all_df[all_df.context_tier.isin([\"Tier 1\", \"Tier 2\"])]\n",
    "ct1_df.shape[0]"
   ]
  },
  {
   "cell_type": "code",
   "execution_count": 84,
   "id": "0ac818ad-5856-4732-b54f-915bd5006966",
   "metadata": {},
   "outputs": [
    {
     "data": {
      "application/vnd.jupyter.widget-view+json": {
       "model_id": "defcaca8f4a64801b771df98e412d33d",
       "version_major": 2,
       "version_minor": 0
      },
      "text/plain": [
       "  0%|          | 0/14 [00:00<?, ?it/s]"
      ]
     },
     "metadata": {},
     "output_type": "display_data"
    },
    {
     "name": "stderr",
     "output_type": "stream",
     "text": [
      "/tmp/ipykernel_3296/2817531280.py:1: SettingWithCopyWarning: \n",
      "A value is trying to be set on a copy of a slice from a DataFrame.\n",
      "Try using .loc[row_indexer,col_indexer] = value instead\n",
      "\n",
      "See the caveats in the documentation: https://pandas.pydata.org/pandas-docs/stable/user_guide/indexing.html#returning-a-view-versus-a-copy\n",
      "  ct1_df[\"aya_ct1_translation\"] = list(translate_with_aya(ct1_df, G, prepare_aya_ct1_prompt, ref_df, None, rebuild=True, save=False))\n"
     ]
    }
   ],
   "source": [
    "ct1_df[\"aya_ct1_translation\"] = list(translate_with_aya(ct1_df, G, prepare_aya_ct1_prompt, ref_df, None, rebuild=True, save=False))"
   ]
  },
  {
   "cell_type": "code",
   "execution_count": 85,
   "id": "dc54637b-16b0-4ffe-90ec-fd3d43950b34",
   "metadata": {},
   "outputs": [
    {
     "data": {
      "text/plain": [
       "{'exact_match': 0.07142857142857142,\n",
       " 'levenshtein_ratio': 0.8101746877439974,\n",
       " 'google_bleu': 0.4685714285714286,\n",
       " 'cer_score': 0.3016446552134548}"
      ]
     },
     "execution_count": 85,
     "metadata": {},
     "output_type": "execute_result"
    }
   ],
   "source": [
    "evaluate_translations(ct1_df, \"aya_ct1_translation\")"
   ]
  },
  {
   "cell_type": "markdown",
   "id": "8087ea21-5759-4557-92e5-3fd715e1fc9c",
   "metadata": {},
   "source": [
    "# 7. Translate all Context Tier 2 Concepts"
   ]
  },
  {
   "cell_type": "code",
   "execution_count": 87,
   "id": "2cc47fcf-018d-4b9a-b089-09ff68b0392a",
   "metadata": {},
   "outputs": [
    {
     "data": {
      "text/plain": [
       "8"
      ]
     },
     "execution_count": 87,
     "metadata": {},
     "output_type": "execute_result"
    }
   ],
   "source": [
    "ct2_df = ct1_df[ct1_df.context_tier == \"Tier 2\"]\n",
    "ct2_df.shape[0]"
   ]
  },
  {
   "cell_type": "code",
   "execution_count": 88,
   "id": "80bf9a45-4f90-4bf3-b3f5-5ac60e890c8b",
   "metadata": {},
   "outputs": [],
   "source": [
    "def prepare_aya_ct2_prompt(row, G, ref_df):\n",
    "    sctid, language = row.Index\n",
    "    concept = G.get_full_concept(sctid)\n",
    "    preferred_term = concept.synonyms[0]\n",
    "    parent_concepts = [\n",
    "        G.get_full_concept(p.sctid) for p in concept.parents\n",
    "    ]\n",
    "    parent_data = [\n",
    "        (\n",
    "            c.fsn.replace(f\"({c.hierarchy})\", \"\").strip(),\n",
    "            ref_df.loc[(c.sctid, language)].reference_translations[0],\n",
    "        )\n",
    "        for c in parent_concepts\n",
    "    ] \n",
    "    related_concepts = [\n",
    "        G.get_full_concept(r.tgt.sctid)\n",
    "        for g in concept.inferred_relationship_groups\n",
    "        for r in g.relationships\n",
    "        if r.type in important_attributes        \n",
    "    ]    \n",
    "    relationship_data = [\n",
    "        (\n",
    "            c.fsn.replace(f\"({c.hierarchy})\", \"\").strip(),\n",
    "            ref_df.loc[(c.sctid, language)].reference_translations[0],\n",
    "        )\n",
    "        for c in related_concepts\n",
    "    ]\n",
    "    prompt_fragments = [\n",
    "        f'Translate the following clinical concept into {language}: \"{pt}\". {rt}.'\n",
    "        for pt, rt in chain(parent_data, relationship_data)\n",
    "    ]\n",
    "    prompt = '\\n'.join(prompt_fragments)\n",
    "    prompt += f'\\nTranslate the following clinical concept into {language}: \"{preferred_term}\". '\n",
    "    \n",
    "    return prompt"
   ]
  },
  {
   "cell_type": "code",
   "execution_count": 92,
   "id": "2a2c580c-faa4-4168-b0bf-0dfdc4d1e778",
   "metadata": {},
   "outputs": [
    {
     "name": "stdout",
     "output_type": "stream",
     "text": [
      "Translate the following clinical concept into Swedish: \"Disease caused by cestodes of order Cyclophyllidea\". sjukdom orsakad av cestoder av ordningen Cyclophyllidea.\n",
      "Translate the following clinical concept into Swedish: \"Parasitic process\". parasitprocess.\n",
      "Translate the following clinical concept into Swedish: \"Family Hymenolepididae\". familjen Hymenolepididae.\n",
      "Translate the following clinical concept into Swedish: \"Disease due to Hymenolepididae\". \n"
     ]
    }
   ],
   "source": [
    "print(prepare_aya_ct2_prompt(next(ct2_df.sample(1).itertuples()), G, ref_df))"
   ]
  },
  {
   "cell_type": "code",
   "execution_count": 93,
   "id": "8e2598da-428b-42f3-a0aa-29e62ce9cc08",
   "metadata": {},
   "outputs": [
    {
     "data": {
      "application/vnd.jupyter.widget-view+json": {
       "model_id": "72b486232da34b2d8f96a118bdf1b7ab",
       "version_major": 2,
       "version_minor": 0
      },
      "text/plain": [
       "  0%|          | 0/8 [00:00<?, ?it/s]"
      ]
     },
     "metadata": {},
     "output_type": "display_data"
    },
    {
     "name": "stderr",
     "output_type": "stream",
     "text": [
      "/tmp/ipykernel_3296/2093963965.py:1: SettingWithCopyWarning: \n",
      "A value is trying to be set on a copy of a slice from a DataFrame.\n",
      "Try using .loc[row_indexer,col_indexer] = value instead\n",
      "\n",
      "See the caveats in the documentation: https://pandas.pydata.org/pandas-docs/stable/user_guide/indexing.html#returning-a-view-versus-a-copy\n",
      "  ct2_df[\"aya_ct2_translation\"] = list(translate_with_aya(ct2_df, G, prepare_aya_ct2_prompt, ref_df, None, rebuild=True, save=False))\n"
     ]
    }
   ],
   "source": [
    "ct2_df[\"aya_ct2_translation\"] = list(translate_with_aya(ct2_df, G, prepare_aya_ct2_prompt, ref_df, None, rebuild=True, save=False))"
   ]
  },
  {
   "cell_type": "code",
   "execution_count": 94,
   "id": "8c3bb79c-760b-4a1d-a828-769216fb80f3",
   "metadata": {},
   "outputs": [
    {
     "data": {
      "text/plain": [
       "{'exact_match': 0.0,\n",
       " 'levenshtein_ratio': 0.7589359181736978,\n",
       " 'google_bleu': 0.22727272727272727,\n",
       " 'cer_score': 0.37792829171521103}"
      ]
     },
     "execution_count": 94,
     "metadata": {},
     "output_type": "execute_result"
    }
   ],
   "source": [
    "evaluate_translations(ct2_df, \"deepl_translation\")"
   ]
  },
  {
   "cell_type": "code",
   "execution_count": 95,
   "id": "7f2c945c-b63a-4b22-8a65-f7b8354d0869",
   "metadata": {},
   "outputs": [
    {
     "data": {
      "text/plain": [
       "{'exact_match': 0.125,\n",
       " 'levenshtein_ratio': 0.7022009079421869,\n",
       " 'google_bleu': 0.20652173913043478,\n",
       " 'cer_score': 0.5259903791737408}"
      ]
     },
     "execution_count": 95,
     "metadata": {},
     "output_type": "execute_result"
    }
   ],
   "source": [
    "evaluate_translations(ct2_df, \"aya_vanilla_translation\")"
   ]
  },
  {
   "cell_type": "code",
   "execution_count": 96,
   "id": "67e82db9-e9e4-4dbc-a5c4-864fd04baaac",
   "metadata": {},
   "outputs": [
    {
     "data": {
      "text/plain": [
       "{'exact_match': 0.125,\n",
       " 'levenshtein_ratio': 0.8029320404816109,\n",
       " 'google_bleu': 0.40476190476190477,\n",
       " 'cer_score': 0.33861272454562386}"
      ]
     },
     "execution_count": 96,
     "metadata": {},
     "output_type": "execute_result"
    }
   ],
   "source": [
    "evaluate_translations(ct2_df, \"aya_ct1_translation\")"
   ]
  },
  {
   "cell_type": "code",
   "execution_count": 97,
   "id": "19fb3084-ef7f-4155-8317-05298464c509",
   "metadata": {},
   "outputs": [
    {
     "data": {
      "text/plain": [
       "{'exact_match': 0.0,\n",
       " 'levenshtein_ratio': 0.7669539464016015,\n",
       " 'google_bleu': 0.36363636363636365,\n",
       " 'cer_score': 0.35773258789299145}"
      ]
     },
     "execution_count": 97,
     "metadata": {},
     "output_type": "execute_result"
    }
   ],
   "source": [
    "evaluate_translations(ct2_df, \"aya_ct2_translation\")"
   ]
  },
  {
   "cell_type": "markdown",
   "id": "c9a40e17-a184-4470-b4a2-f07de4d7fb1b",
   "metadata": {},
   "source": [
    "# 8. Final Evaluations"
   ]
  },
  {
   "cell_type": "markdown",
   "id": "19bbd0e6-bad0-4382-a7d4-f217e73f6cbe",
   "metadata": {},
   "source": [
    "# Sampling"
   ]
  },
  {
   "cell_type": "code",
   "execution_count": 28,
   "id": "c40afcb0-189f-4046-80ee-a3b913909a3e",
   "metadata": {
    "scrolled": true
   },
   "outputs": [
    {
     "name": "stdout",
     "output_type": "stream",
     "text": [
      "\u001b[1m\u001b[31m\n",
      "SCTID: \u001b[0m 730834007 \u001b[1m\u001b[31m\n",
      "Target Language: \u001b[0m Swedish \u001b[1m\u001b[31m\n",
      "English Preferred Term: \u001b[0m Entire fibrofatty tissue \u001b[1m\u001b[31m\n",
      "Reference Translations: \u001b[0m ['fibrös fettvävnad, som helhet'] \u001b[1m\u001b[31m\n",
      "DeepL Translation: \u001b[0m Hela den fibro-feta vävnaden \u001b[1m\u001b[31m\n",
      "DeepL Scores: \u001b[0m exact_match: 0.0, levenshtein_ratio: 0.49122807017543857, google_bleu: 0.0, cer_score: 0.8928571428571429 \u001b[1m\u001b[31m\n",
      "Vanilla Aya Translation: \u001b[0m hela fibroserat vävnad \u001b[1m\u001b[31m\n",
      "Vanilla Aya Scores: \u001b[0m exact_match: 0.0, levenshtein_ratio: 0.5098039215686274, google_bleu: 0.0, cer_score: 1.0 \u001b[1m\u001b[31m\n",
      "Aya CT1 Translation: \u001b[0m hela fibrös fettvävnad \u001b[1m\u001b[31m\n",
      "Aya CT1 Scores: \u001b[0m exact_match: 0.0, levenshtein_ratio: 0.6666666666666667, google_bleu: 0.21428571428571427, cer_score: 0.9545454545454546\n",
      "\u001b[1m\u001b[31m\n",
      "SCTID: \u001b[0m 727929002 \u001b[1m\u001b[31m\n",
      "Target Language: \u001b[0m Swedish \u001b[1m\u001b[31m\n",
      "English Preferred Term: \u001b[0m Entire artery of female pelvic region \u001b[1m\u001b[31m\n",
      "Reference Translations: \u001b[0m ['artär i bäckenregionen hos kvinna, som helhet'] \u001b[1m\u001b[31m\n",
      "DeepL Translation: \u001b[0m Hela artären i kvinnans bäckenregion \u001b[1m\u001b[31m\n",
      "DeepL Scores: \u001b[0m exact_match: 0.0, levenshtein_ratio: 0.49382716049382713, google_bleu: 0.038461538461538464, cer_score: 1.0 \u001b[1m\u001b[31m\n",
      "Vanilla Aya Translation: \u001b[0m Entire artery of female pelvic region \u001b[1m\u001b[31m\n",
      "Vanilla Aya Scores: \u001b[0m exact_match: 0.0, levenshtein_ratio: 0.31707317073170727, google_bleu: 0.0, cer_score: 0.972972972972973 \u001b[1m\u001b[31m\n",
      "Aya CT1 Translation: \u001b[0m hela artären i bäckenregionen hos kvinna \u001b[1m\u001b[31m\n",
      "Aya CT1 Scores: \u001b[0m exact_match: 0.0, levenshtein_ratio: 0.7764705882352941, google_bleu: 0.38461538461538464, cer_score: 0.725\n",
      "\u001b[1m\u001b[31m\n",
      "SCTID: \u001b[0m 1259204008 \u001b[1m\u001b[31m\n",
      "Target Language: \u001b[0m Dutch \u001b[1m\u001b[31m\n",
      "English Preferred Term: \u001b[0m Interstitial fluid \u001b[1m\u001b[31m\n",
      "Reference Translations: \u001b[0m ['interstitieel vocht', 'weefselvocht', 'interstitiële vloeistof'] \u001b[1m\u001b[31m\n",
      "DeepL Translation: \u001b[0m Interstitiële vloeistof \u001b[1m\u001b[31m\n",
      "DeepL Scores: \u001b[0m exact_match: 0.0, levenshtein_ratio: 0.9565217391304348, google_bleu: 0.3333333333333333, cer_score: 0.043478260869565216 \u001b[1m\u001b[31m\n",
      "Vanilla Aya Translation: \u001b[0m tussenwervelvloeistof \u001b[1m\u001b[31m\n",
      "Vanilla Aya Scores: \u001b[0m exact_match: 0.0, levenshtein_ratio: 0.5909090909090908, google_bleu: 0.0, cer_score: 0.5238095238095238 \u001b[1m\u001b[31m\n",
      "Aya CT1 Translation: \u001b[0m tussencelvloeistof \u001b[1m\u001b[31m\n",
      "Aya CT1 Scores: \u001b[0m exact_match: 0.0, levenshtein_ratio: 0.5853658536585367, google_bleu: 0.0, cer_score: 0.6111111111111112\n",
      "\u001b[1m\u001b[31m\n",
      "SCTID: \u001b[0m 124625008 \u001b[1m\u001b[31m\n",
      "Target Language: \u001b[0m Dutch \u001b[1m\u001b[31m\n",
      "English Preferred Term: \u001b[0m Deficiency of hyaluronate lyase \u001b[1m\u001b[31m\n",
      "Reference Translations: \u001b[0m ['hyaluronaatlyasedeficiëntie', 'deficiëntie van hyaluronaatlyase', 'tekort aan hyaluronaatlyase', 'deficiëntie van hyaluronidase'] \u001b[1m\u001b[31m\n",
      "DeepL Translation: \u001b[0m Tekort aan hyaluronaat lyase \u001b[1m\u001b[31m\n",
      "DeepL Scores: \u001b[0m exact_match: 0.0, levenshtein_ratio: 0.9454545454545454, google_bleu: 0.1, cer_score: 0.07142857142857142 \u001b[1m\u001b[31m\n",
      "Vanilla Aya Translation: \u001b[0m Deficiëntie van hyaluronaat-lyase \u001b[1m\u001b[31m\n",
      "Vanilla Aya Scores: \u001b[0m exact_match: 0.0, levenshtein_ratio: 0.9538461538461538, google_bleu: 0.16666666666666666, cer_score: 0.06060606060606061 \u001b[1m\u001b[31m\n",
      "Aya CT1 Translation: \u001b[0m tekort aan hyaluronaat lyase \u001b[1m\u001b[31m\n",
      "Aya CT1 Scores: \u001b[0m exact_match: 0.0, levenshtein_ratio: 0.9818181818181818, google_bleu: 0.3, cer_score: 0.03571428571428571\n",
      "\u001b[1m\u001b[31m\n",
      "SCTID: \u001b[0m 59069003 \u001b[1m\u001b[31m\n",
      "Target Language: \u001b[0m Dutch \u001b[1m\u001b[31m\n",
      "English Preferred Term: \u001b[0m Entire costal groove of sixth rib \u001b[1m\u001b[31m\n",
      "Reference Translations: \u001b[0m ['gehele sulcus van costa VI', 'gehele groeve van zesde rib', 'gehele sulcus van costa 6', 'gehele sulcus costae VI'] \u001b[1m\u001b[31m\n",
      "DeepL Translation: \u001b[0m Gehele ribgroef van de zesde rib \u001b[1m\u001b[31m\n",
      "DeepL Scores: \u001b[0m exact_match: 0.0, levenshtein_ratio: 0.8135593220338984, google_bleu: 0.2222222222222222, cer_score: 0.28125 \u001b[1m\u001b[31m\n",
      "Vanilla Aya Translation: \u001b[0m gehele borstkas van de zesde ribben \u001b[1m\u001b[31m\n",
      "Vanilla Aya Scores: \u001b[0m exact_match: 0.0, levenshtein_ratio: 0.7096774193548387, google_bleu: 0.16666666666666666, cer_score: 0.37142857142857144 \u001b[1m\u001b[31m\n",
      "Aya CT1 Translation: \u001b[0m gehele sulcus costae van de zesde rib \u001b[1m\u001b[31m\n",
      "Aya CT1 Scores: \u001b[0m exact_match: 0.0, levenshtein_ratio: 0.71875, google_bleu: 0.2727272727272727, cer_score: 0.3783783783783784\n",
      "\u001b[1m\u001b[31m\n",
      "SCTID: \u001b[0m 87918000 \u001b[1m\u001b[31m\n",
      "Target Language: \u001b[0m Swedish \u001b[1m\u001b[31m\n",
      "English Preferred Term: \u001b[0m Mineral \u001b[1m\u001b[31m\n",
      "Reference Translations: \u001b[0m ['mineral'] \u001b[1m\u001b[31m\n",
      "DeepL Translation: \u001b[0m Mineral \u001b[1m\u001b[31m\n",
      "DeepL Scores: \u001b[0m exact_match: 0.0, levenshtein_ratio: 0.8571428571428572, google_bleu: 0.0, cer_score: 0.14285714285714285 \u001b[1m\u001b[31m\n",
      "Vanilla Aya Translation: \u001b[0m mineral \u001b[1m\u001b[31m\n",
      "Vanilla Aya Scores: \u001b[0m exact_match: 1.0, levenshtein_ratio: 1.0, google_bleu: 1.0, cer_score: 0.0 \u001b[1m\u001b[31m\n",
      "Aya CT1 Translation: \u001b[0m mineral \u001b[1m\u001b[31m\n",
      "Aya CT1 Scores: \u001b[0m exact_match: 1.0, levenshtein_ratio: 1.0, google_bleu: 1.0, cer_score: 0.0\n",
      "\u001b[1m\u001b[31m\n",
      "SCTID: \u001b[0m 234335003 \u001b[1m\u001b[31m\n",
      "Target Language: \u001b[0m Estonian \u001b[1m\u001b[31m\n",
      "English Preferred Term: \u001b[0m Allogeneic unrelated bone marrow graft \u001b[1m\u001b[31m\n",
      "Reference Translations: \u001b[0m ['Allogeenne mittesugulasest doonori luuüdi siirdamine'] \u001b[1m\u001b[31m\n",
      "DeepL Translation: \u001b[0m Allogeenne mitteseotud luuüdi siirdamine \u001b[1m\u001b[31m\n",
      "DeepL Scores: \u001b[0m exact_match: 0.0, levenshtein_ratio: 0.8260869565217391, google_bleu: 0.2857142857142857, cer_score: 0.35 \u001b[1m\u001b[31m\n",
      "Vanilla Aya Translation: \u001b[0m Allogeneetiline mittesugulane luuüdi siirdamine \u001b[1m\u001b[31m\n",
      "Vanilla Aya Scores: \u001b[0m exact_match: 0.0, levenshtein_ratio: 0.8080808080808081, google_bleu: 0.21428571428571427, cer_score: 0.3617021276595745 \u001b[1m\u001b[31m\n",
      "Aya CT1 Translation: \u001b[0m Luuüdi siirdamine \u001b[1m\u001b[31m\n",
      "Aya CT1 Scores: \u001b[0m exact_match: 0.0, levenshtein_ratio: 0.46376811594202894, google_bleu: 0.07142857142857142, cer_score: 1.0\n",
      "\u001b[1m\u001b[31m\n",
      "SCTID: \u001b[0m 35787005 \u001b[1m\u001b[31m\n",
      "Target Language: \u001b[0m Estonian \u001b[1m\u001b[31m\n",
      "English Preferred Term: \u001b[0m Postinflammatory atrophy \u001b[1m\u001b[31m\n",
      "Reference Translations: \u001b[0m ['Põletikujärgne atroofia'] \u001b[1m\u001b[31m\n",
      "DeepL Translation: \u001b[0m Põletikujärgne atroofia \u001b[1m\u001b[31m\n",
      "DeepL Scores: \u001b[0m exact_match: 1.0, levenshtein_ratio: 1.0, google_bleu: 1.0, cer_score: 0.0 \u001b[1m\u001b[31m\n",
      "Vanilla Aya Translation: \u001b[0m Põletikujärgne atrophy \u001b[1m\u001b[31m\n",
      "Vanilla Aya Scores: \u001b[0m exact_match: 0.0, levenshtein_ratio: 0.8444444444444444, google_bleu: 0.3333333333333333, cer_score: 0.18181818181818182 \u001b[1m\u001b[31m\n",
      "Aya CT1 Translation: \u001b[0m Postinfektsiooniline atrophy \u001b[1m\u001b[31m\n",
      "Aya CT1 Scores: \u001b[0m exact_match: 0.0, levenshtein_ratio: 0.43137254901960786, google_bleu: 0.0, cer_score: 0.6428571428571429\n",
      "\u001b[1m\u001b[31m\n",
      "SCTID: \u001b[0m 763378001 \u001b[1m\u001b[31m\n",
      "Target Language: \u001b[0m Swedish \u001b[1m\u001b[31m\n",
      "English Preferred Term: \u001b[0m Leucovorin calcium pentahydrate \u001b[1m\u001b[31m\n",
      "Reference Translations: \u001b[0m ['leukovorinkalciumpentahydrat'] \u001b[1m\u001b[31m\n",
      "DeepL Translation: \u001b[0m Leucovorin kalciumpentahydrat \u001b[1m\u001b[31m\n",
      "DeepL Scores: \u001b[0m exact_match: 0.0, levenshtein_ratio: 0.9122807017543859, google_bleu: 0.0, cer_score: 0.10344827586206896 \u001b[1m\u001b[31m\n",
      "Vanilla Aya Translation: \u001b[0m Leucovirin kalciumpentahydrat \u001b[1m\u001b[31m\n",
      "Vanilla Aya Scores: \u001b[0m exact_match: 0.0, levenshtein_ratio: 0.8771929824561404, google_bleu: 0.0, cer_score: 0.13793103448275862 \u001b[1m\u001b[31m\n",
      "Aya CT1 Translation: \u001b[0m Leucofyllin kalciumpentahydrat \u001b[1m\u001b[31m\n",
      "Aya CT1 Scores: \u001b[0m exact_match: 0.0, levenshtein_ratio: 0.7931034482758621, google_bleu: 0.0, cer_score: 0.23333333333333334\n",
      "\u001b[1m\u001b[31m\n",
      "SCTID: \u001b[0m 14561000087101 \u001b[1m\u001b[31m\n",
      "Target Language: \u001b[0m Dutch \u001b[1m\u001b[31m\n",
      "English Preferred Term: \u001b[0m Doppler ultrasonography of aorta and left femoral artery \u001b[1m\u001b[31m\n",
      "Reference Translations: \u001b[0m ['Doppler-onderzoek met weergave van Doppler-curve van aorta en linker arteria femoralis', 'Doppler-onderzoek met weergave van Doppler-curve van grote lichaamsslagader en linker dijbeenslagader', 'doppleronderzoek van aorta en linker femorale arterie'] \u001b[1m\u001b[31m\n",
      "DeepL Translation: \u001b[0m Doppler ultrasonografie van aorta en linker liesslagader \u001b[1m\u001b[31m\n",
      "DeepL Scores: \u001b[0m exact_match: 0.0, levenshtein_ratio: 0.6605504587155964, google_bleu: 0.45454545454545453, cer_score: 0.8392857142857143 \u001b[1m\u001b[31m\n",
      "Vanilla Aya Translation: \u001b[0m Doppler ultrasound van de aorta en de linkerbeenaarterie \u001b[1m\u001b[31m\n",
      "Vanilla Aya Scores: \u001b[0m exact_match: 0.0, levenshtein_ratio: 0.6972477064220184, google_bleu: 0.15384615384615385, cer_score: 0.42857142857142855 \u001b[1m\u001b[31m\n",
      "Aya CT1 Translation: \u001b[0m Doppler-onderzoek met weergave van Doppler-curve van aorta en linker arteria femoralis \u001b[1m\u001b[31m\n",
      "Aya CT1 Scores: \u001b[0m exact_match: 1.0, levenshtein_ratio: 1.0, google_bleu: 1.0, cer_score: 0.0\n"
     ]
    }
   ],
   "source": [
    "for row in ct1_df.sample(10).itertuples():\n",
    "    sctid, language = row.Index\n",
    "    preferred_term = G.get_concept_details(sctid).synonyms[0]\n",
    "    deepl_results = evaluate_translations(row, \"deepl_translation\")\n",
    "    vanilla_aya_results = evaluate_translations(row, \"aya_vanilla_translation\")\n",
    "    ct1_aya_results = evaluate_translations(row, \"aya_ct1_translation\")\n",
    "    print(\n",
    "        colored(\"\\nSCTID: \", \"red\", attrs=['bold']),\n",
    "        sctid,\n",
    "        colored(\"\\nTarget Language: \", \"red\", attrs=['bold']),\n",
    "        language,\n",
    "        colored(\"\\nEnglish Preferred Term: \", \"red\", attrs=['bold']),\n",
    "        preferred_term,\n",
    "        colored(\"\\nReference Translations: \", \"red\", attrs=['bold']),\n",
    "        row.reference_translations,\n",
    "        colored(\"\\nDeepL Translation: \", \"red\", attrs=['bold']),\n",
    "        row.deepl_translation,\n",
    "        colored(\"\\nDeepL Scores: \", \"red\", attrs=['bold']),\n",
    "        \", \".join([k+\": \"+str(v) for k,v in deepl_results.items()]),\n",
    "        colored(\"\\nVanilla Aya Translation: \", \"red\", attrs=['bold']),\n",
    "        row.aya_vanilla_translation,\n",
    "        colored(\"\\nVanilla Aya Scores: \", \"red\", attrs=['bold']),\n",
    "        \", \".join([k+\": \"+str(v) for k,v in vanilla_aya_results.items()]),        \n",
    "        colored(\"\\nAya CT1 Translation: \", \"red\", attrs=['bold']),\n",
    "        row.aya_ct1_translation,\n",
    "        colored(\"\\nAya CT1 Scores: \", \"red\", attrs=['bold']),\n",
    "        \", \".join([k+\": \"+str(v) for k,v in ct1_aya_results.items()]),                \n",
    "    )"
   ]
  }
 ],
 "metadata": {
  "kernelspec": {
   "display_name": "conda_pytorch_p310",
   "language": "python",
   "name": "conda_pytorch_p310"
  },
  "language_info": {
   "codemirror_mode": {
    "name": "ipython",
    "version": 3
   },
   "file_extension": ".py",
   "mimetype": "text/x-python",
   "name": "python",
   "nbconvert_exporter": "python",
   "pygments_lexer": "ipython3",
   "version": "3.10.14"
  }
 },
 "nbformat": 4,
 "nbformat_minor": 5
}
