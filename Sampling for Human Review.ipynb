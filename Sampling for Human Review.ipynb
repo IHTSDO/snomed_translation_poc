{
 "cells": [
  {
   "cell_type": "markdown",
   "id": "7e9f6c38-e0d5-4d04-a62a-261d1d8f4ec9",
   "metadata": {},
   "source": [
    "# Overview\n",
    "\n",
    "Samples a set of translations for review by the NRCs.  We are looking for a judgement on whether Aya translations are better (or worse than) DeepL translations."
   ]
  },
  {
   "cell_type": "code",
   "execution_count": null,
   "id": "7fb1f4f1-cfa1-440e-82e7-872bae8f3c60",
   "metadata": {},
   "outputs": [],
   "source": [
    "import pandas as pd\n",
    "import numpy as np"
   ]
  },
  {
   "cell_type": "code",
   "execution_count": null,
   "id": "dab1afa1-7b9c-4d75-932a-2c3f25d6385e",
   "metadata": {},
   "outputs": [],
   "source": [
    "df = pd.read_csv(\"data/translation_outputs/translations.csv\").set_index([\"sctid\", \"language\"])\n",
    "df.sample(3)"
   ]
  },
  {
   "cell_type": "code",
   "execution_count": null,
   "id": "a501abc1-9a16-4600-a13d-ace7ac9a99f6",
   "metadata": {},
   "outputs": [],
   "source": [
    "def related_translations(row):\n",
    "    language = row.Index[1]\n",
    "    preferred_term = row.fsn.replace(f\"({row.hierarchy})\", \"\").strip()\n",
    "    return (\n",
    "        row\n",
    "        .rag_aya_prompt\n",
    "        .replace(f\"Translate the following clinical concept into {language}: \", \"\")\n",
    "        .replace(preferred_term, \"\")\n",
    "        .replace('\"', \"\")\n",
    "        [0:-1]\n",
    "    )"
   ]
  },
  {
   "cell_type": "code",
   "execution_count": null,
   "id": "7e9d978e-1002-43cb-a603-8184a7b9f508",
   "metadata": {},
   "outputs": [],
   "source": [
    "df[\"related_translations\"] = [related_translations(row) for row in df.itertuples()]"
   ]
  },
  {
   "cell_type": "code",
   "execution_count": null,
   "id": "fad49f39-4cfb-4131-8f31-b314da204013",
   "metadata": {},
   "outputs": [],
   "source": [
    "# Sample 100 from each language\n",
    "\n",
    "sample_df = pd.concat([\n",
    "    (\n",
    "        df    \n",
    "        [df.index.get_level_values(1) == language]\n",
    "        .reset_index()\n",
    "        .sample(100)\n",
    "        [[\"sctid\", \"language\", \"fsn\", \"related_translations\", \"deepl_translation\", \"rag_aya_translation\"]]\n",
    "    )\n",
    "    for language in [\"Korean\", \"Dutch\", \"Swedish\", \"Estonian\"]\n",
    "])"
   ]
  },
  {
   "cell_type": "code",
   "execution_count": null,
   "id": "ca7c3e49-798d-43c7-ac86-d4c698553c0b",
   "metadata": {},
   "outputs": [],
   "source": [
    "# Now, hide the source of each translation \n",
    "sample_df[\"translation_A_source\"] = [\"rag_aya_translation\" if np.random.rand() > 0.5 else \"deepl_translation\" for _ in sample_df.itertuples()]\n",
    "sample_df[\"translation_B_source\"] = [\"rag_aya_translation\" if row.translation_A_source == \"deepl_translation\" else \"deepl_translation\" for row in sample_df.itertuples()]\n",
    "sample_df[\"translation_A\"] = [row.rag_aya_translation if row.translation_A_source == \"rag_aya_translation\" else row.deepl_translation for row in sample_df.itertuples()]\n",
    "sample_df[\"translation_B\"] = [row.rag_aya_translation if row.translation_B_source == \"rag_aya_translation\" else row.deepl_translation for row in sample_df.itertuples()]\n",
    "sample_df.sample(3)"
   ]
  },
  {
   "cell_type": "code",
   "execution_count": null,
   "id": "9e9345bf-db22-492c-885e-58ed515c3604",
   "metadata": {},
   "outputs": [],
   "source": [
    "# This is the version we send to the teams\n",
    "for language, grp in sample_df.groupby(\"language\"):\n",
    "    grp[['sctid', 'fsn', 'related_translations', 'translation_A', 'translation_B']].to_csv(f\"./data/human_eval_data/{language}_evaluation.csv\", index=False, encoding=\"utf-8\")"
   ]
  },
  {
   "cell_type": "code",
   "execution_count": null,
   "id": "61c1644c-d637-4cf8-b21d-38ecfadbb9f2",
   "metadata": {},
   "outputs": [],
   "source": [
    "# We keep this version so we can match back and evaluate\n",
    "sample_df.to_csv(\"./data/human_eval_data/human_eval_master.csv\", index=False)"
   ]
  },
  {
   "cell_type": "code",
   "execution_count": null,
   "id": "17702633-fd45-4cf3-a526-d7971ccb59bf",
   "metadata": {},
   "outputs": [],
   "source": []
  }
 ],
 "metadata": {
  "kernelspec": {
   "display_name": "Python 3 (ipykernel)",
   "language": "python",
   "name": "python3"
  },
  "language_info": {
   "codemirror_mode": {
    "name": "ipython",
    "version": 3
   },
   "file_extension": ".py",
   "mimetype": "text/x-python",
   "name": "python",
   "nbconvert_exporter": "python",
   "pygments_lexer": "ipython3",
   "version": "3.10.6"
  }
 },
 "nbformat": 4,
 "nbformat_minor": 5
}
